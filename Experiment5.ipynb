{
 "cells": [
  {
   "cell_type": "markdown",
   "id": "d8fba768-7ab9-4bfc-9377-5bae89d59584",
   "metadata": {},
   "source": [
    "# Experiment 5: Assessing Classifier Result Consistency"
   ]
  },
  {
   "cell_type": "code",
   "execution_count": 1,
   "id": "c8d54578-caa8-4a8c-8378-cb79b676ad4e",
   "metadata": {},
   "outputs": [],
   "source": [
    "# Importing necessary libraries and packages\n",
    "import pandas as pd\n",
    "import numpy as np\n",
    "from sklearn.model_selection import train_test_split\n",
    "from custom_functions.RepetitiveTasks import imputation, remove_class, encoding, separating, classification_evaluation, repetition, oversampling"
   ]
  },
  {
   "cell_type": "markdown",
   "id": "548f2231-3822-4384-815d-dadbe116a79d",
   "metadata": {},
   "source": [
    "# 1. Mushroom Dataset"
   ]
  },
  {
   "cell_type": "code",
   "execution_count": 2,
   "id": "c8649c3e-9970-4e54-810b-0fc939cc7b84",
   "metadata": {},
   "outputs": [],
   "source": [
    "# Loading the dataset\n",
    "df = pd.read_csv(\"datasets/mushrooms.csv\")"
   ]
  },
  {
   "cell_type": "code",
   "execution_count": 3,
   "id": "35ee5286-5576-4d6f-9ff0-5c00a2d07aba",
   "metadata": {},
   "outputs": [
    {
     "data": {
      "text/html": [
       "<div>\n",
       "<style scoped>\n",
       "    .dataframe tbody tr th:only-of-type {\n",
       "        vertical-align: middle;\n",
       "    }\n",
       "\n",
       "    .dataframe tbody tr th {\n",
       "        vertical-align: top;\n",
       "    }\n",
       "\n",
       "    .dataframe thead th {\n",
       "        text-align: right;\n",
       "    }\n",
       "</style>\n",
       "<table border=\"1\" class=\"dataframe\">\n",
       "  <thead>\n",
       "    <tr style=\"text-align: right;\">\n",
       "      <th></th>\n",
       "      <th>class</th>\n",
       "      <th>cap-shape</th>\n",
       "      <th>cap-surface</th>\n",
       "      <th>cap-color</th>\n",
       "      <th>bruises</th>\n",
       "      <th>odor</th>\n",
       "      <th>gill-attachment</th>\n",
       "      <th>gill-spacing</th>\n",
       "      <th>gill-size</th>\n",
       "      <th>gill-color</th>\n",
       "      <th>...</th>\n",
       "      <th>stalk-surface-below-ring</th>\n",
       "      <th>stalk-color-above-ring</th>\n",
       "      <th>stalk-color-below-ring</th>\n",
       "      <th>veil-type</th>\n",
       "      <th>veil-color</th>\n",
       "      <th>ring-number</th>\n",
       "      <th>ring-type</th>\n",
       "      <th>spore-print-color</th>\n",
       "      <th>population</th>\n",
       "      <th>habitat</th>\n",
       "    </tr>\n",
       "  </thead>\n",
       "  <tbody>\n",
       "    <tr>\n",
       "      <th>0</th>\n",
       "      <td>p</td>\n",
       "      <td>x</td>\n",
       "      <td>s</td>\n",
       "      <td>n</td>\n",
       "      <td>t</td>\n",
       "      <td>p</td>\n",
       "      <td>f</td>\n",
       "      <td>c</td>\n",
       "      <td>n</td>\n",
       "      <td>k</td>\n",
       "      <td>...</td>\n",
       "      <td>s</td>\n",
       "      <td>w</td>\n",
       "      <td>w</td>\n",
       "      <td>p</td>\n",
       "      <td>w</td>\n",
       "      <td>o</td>\n",
       "      <td>p</td>\n",
       "      <td>k</td>\n",
       "      <td>s</td>\n",
       "      <td>u</td>\n",
       "    </tr>\n",
       "    <tr>\n",
       "      <th>1</th>\n",
       "      <td>e</td>\n",
       "      <td>x</td>\n",
       "      <td>s</td>\n",
       "      <td>y</td>\n",
       "      <td>t</td>\n",
       "      <td>a</td>\n",
       "      <td>f</td>\n",
       "      <td>c</td>\n",
       "      <td>b</td>\n",
       "      <td>k</td>\n",
       "      <td>...</td>\n",
       "      <td>s</td>\n",
       "      <td>w</td>\n",
       "      <td>w</td>\n",
       "      <td>p</td>\n",
       "      <td>w</td>\n",
       "      <td>o</td>\n",
       "      <td>p</td>\n",
       "      <td>n</td>\n",
       "      <td>n</td>\n",
       "      <td>g</td>\n",
       "    </tr>\n",
       "    <tr>\n",
       "      <th>2</th>\n",
       "      <td>e</td>\n",
       "      <td>b</td>\n",
       "      <td>s</td>\n",
       "      <td>w</td>\n",
       "      <td>t</td>\n",
       "      <td>l</td>\n",
       "      <td>f</td>\n",
       "      <td>c</td>\n",
       "      <td>b</td>\n",
       "      <td>n</td>\n",
       "      <td>...</td>\n",
       "      <td>s</td>\n",
       "      <td>w</td>\n",
       "      <td>w</td>\n",
       "      <td>p</td>\n",
       "      <td>w</td>\n",
       "      <td>o</td>\n",
       "      <td>p</td>\n",
       "      <td>n</td>\n",
       "      <td>n</td>\n",
       "      <td>m</td>\n",
       "    </tr>\n",
       "    <tr>\n",
       "      <th>3</th>\n",
       "      <td>p</td>\n",
       "      <td>x</td>\n",
       "      <td>y</td>\n",
       "      <td>w</td>\n",
       "      <td>t</td>\n",
       "      <td>p</td>\n",
       "      <td>f</td>\n",
       "      <td>c</td>\n",
       "      <td>n</td>\n",
       "      <td>n</td>\n",
       "      <td>...</td>\n",
       "      <td>s</td>\n",
       "      <td>w</td>\n",
       "      <td>w</td>\n",
       "      <td>p</td>\n",
       "      <td>w</td>\n",
       "      <td>o</td>\n",
       "      <td>p</td>\n",
       "      <td>k</td>\n",
       "      <td>s</td>\n",
       "      <td>u</td>\n",
       "    </tr>\n",
       "    <tr>\n",
       "      <th>4</th>\n",
       "      <td>e</td>\n",
       "      <td>x</td>\n",
       "      <td>s</td>\n",
       "      <td>g</td>\n",
       "      <td>f</td>\n",
       "      <td>n</td>\n",
       "      <td>f</td>\n",
       "      <td>w</td>\n",
       "      <td>b</td>\n",
       "      <td>k</td>\n",
       "      <td>...</td>\n",
       "      <td>s</td>\n",
       "      <td>w</td>\n",
       "      <td>w</td>\n",
       "      <td>p</td>\n",
       "      <td>w</td>\n",
       "      <td>o</td>\n",
       "      <td>e</td>\n",
       "      <td>n</td>\n",
       "      <td>a</td>\n",
       "      <td>g</td>\n",
       "    </tr>\n",
       "  </tbody>\n",
       "</table>\n",
       "<p>5 rows × 23 columns</p>\n",
       "</div>"
      ],
      "text/plain": [
       "  class cap-shape cap-surface cap-color bruises odor gill-attachment  \\\n",
       "0     p         x           s         n       t    p               f   \n",
       "1     e         x           s         y       t    a               f   \n",
       "2     e         b           s         w       t    l               f   \n",
       "3     p         x           y         w       t    p               f   \n",
       "4     e         x           s         g       f    n               f   \n",
       "\n",
       "  gill-spacing gill-size gill-color  ... stalk-surface-below-ring  \\\n",
       "0            c         n          k  ...                        s   \n",
       "1            c         b          k  ...                        s   \n",
       "2            c         b          n  ...                        s   \n",
       "3            c         n          n  ...                        s   \n",
       "4            w         b          k  ...                        s   \n",
       "\n",
       "  stalk-color-above-ring stalk-color-below-ring veil-type veil-color  \\\n",
       "0                      w                      w         p          w   \n",
       "1                      w                      w         p          w   \n",
       "2                      w                      w         p          w   \n",
       "3                      w                      w         p          w   \n",
       "4                      w                      w         p          w   \n",
       "\n",
       "  ring-number ring-type spore-print-color population habitat  \n",
       "0           o         p                 k          s       u  \n",
       "1           o         p                 n          n       g  \n",
       "2           o         p                 n          n       m  \n",
       "3           o         p                 k          s       u  \n",
       "4           o         e                 n          a       g  \n",
       "\n",
       "[5 rows x 23 columns]"
      ]
     },
     "execution_count": 3,
     "metadata": {},
     "output_type": "execute_result"
    }
   ],
   "source": [
    "# Displaying the first five records of the dataset\n",
    "df.head()"
   ]
  },
  {
   "cell_type": "code",
   "execution_count": 4,
   "id": "c87ebfbc-db18-4923-aa41-2f084a2e43aa",
   "metadata": {},
   "outputs": [
    {
     "data": {
      "text/plain": [
       "(8124, 23)"
      ]
     },
     "execution_count": 4,
     "metadata": {},
     "output_type": "execute_result"
    }
   ],
   "source": [
    "# Displaying the shape of the dataset i.e. (no. of records, no. of attributes)\n",
    "df.shape"
   ]
  },
  {
   "cell_type": "code",
   "execution_count": 5,
   "id": "80de1a02-06f5-4149-97bf-455cb399e1a1",
   "metadata": {},
   "outputs": [],
   "source": [
    "# Converting '?' to NaN incase it is present in the dataset\n",
    "df.replace('?', np.nan, inplace=True)"
   ]
  },
  {
   "cell_type": "code",
   "execution_count": 6,
   "id": "6ee85e7a-8e27-40db-9aa4-97369607c370",
   "metadata": {},
   "outputs": [
    {
     "data": {
      "text/plain": [
       "e    4208\n",
       "p    3916\n",
       "Name: class, dtype: int64"
      ]
     },
     "execution_count": 6,
     "metadata": {},
     "output_type": "execute_result"
    }
   ],
   "source": [
    "# Checking the instance counts of the target attribute\n",
    "df['class'].value_counts()"
   ]
  },
  {
   "cell_type": "code",
   "execution_count": 7,
   "id": "9bce4616-3c48-483c-a8e6-a2c0e88aa5ac",
   "metadata": {},
   "outputs": [],
   "source": [
    "# Encoding the attributes of the dataset\n",
    "df = encoding(df)"
   ]
  },
  {
   "cell_type": "code",
   "execution_count": 8,
   "id": "44276ff3-1893-4e94-883d-7058ebb510b1",
   "metadata": {},
   "outputs": [],
   "source": [
    "# Imputing the missing values if any by using KNN Imputer\n",
    "df = imputation(df)"
   ]
  },
  {
   "cell_type": "code",
   "execution_count": 9,
   "id": "b022eb6e-4849-4005-b1d9-8dfc00ac5f4f",
   "metadata": {},
   "outputs": [],
   "source": [
    "# Separating dependent and independent variables\n",
    "X, y = separating(df, 'class')"
   ]
  },
  {
   "cell_type": "code",
   "execution_count": 10,
   "id": "826c58f5-4294-45a1-b005-47387dcb4724",
   "metadata": {},
   "outputs": [
    {
     "name": "stdout",
     "output_type": "stream",
     "text": [
      "[0.9021538461538462, 0.8941538461538462, 0.8972307692307693, 0.8892307692307693, 0.8996923076923077, 0.8966153846153846, 0.8941538461538462, 0.9083076923076923, 0.8898461538461538, 0.8929230769230769, 0.8978461538461538, 0.9003076923076923, 0.9052307692307693, 0.8916923076923077, 0.8867692307692308, 0.8972307692307693, 0.8947692307692308, 0.8947692307692308, 0.8947692307692308, 0.8984615384615384, 0.8898461538461538, 0.9003076923076923, 0.8836923076923077, 0.8990769230769231, 0.8947692307692308, 0.8947692307692308, 0.9003076923076923, 0.896, 0.896, 0.8935384615384615, 0.9033846153846153, 0.9015384615384615, 0.9070769230769231, 0.9046153846153846, 0.9015384615384615, 0.8966153846153846, 0.8929230769230769, 0.8966153846153846, 0.8898461538461538, 0.896, 0.908923076923077, 0.888, 0.8947692307692308, 0.8941538461538462, 0.8996923076923077, 0.9003076923076923, 0.896, 0.8929230769230769, 0.9046153846153846, 0.896, 0.888, 0.9021538461538462, 0.9015384615384615, 0.9003076923076923, 0.8972307692307693, 0.896, 0.896, 0.8953846153846153, 0.8941538461538462, 0.8892307692307693, 0.8972307692307693, 0.9009230769230769, 0.8929230769230769, 0.8966153846153846, 0.8996923076923077, 0.8972307692307693, 0.8898461538461538, 0.8892307692307693, 0.8886153846153846, 0.9015384615384615, 0.8978461538461538, 0.8941538461538462, 0.8923076923076924, 0.8996923076923077, 0.8966153846153846, 0.9003076923076923, 0.9003076923076923, 0.9083076923076923, 0.8972307692307693, 0.8996923076923077, 0.8941538461538462, 0.8996923076923077, 0.9052307692307693, 0.8910769230769231, 0.8929230769230769, 0.8941538461538462, 0.896, 0.8996923076923077, 0.9015384615384615, 0.8978461538461538, 0.8972307692307693, 0.8941538461538462, 0.8990769230769231, 0.8996923076923077, 0.9052307692307693, 0.8953846153846153, 0.8996923076923077, 0.8892307692307693, 0.8904615384615384, 0.8966153846153846]\n",
      "Standard Deviation: 0.004973811653738394\n",
      "Mean: 0.896793846153846\n"
     ]
    }
   ],
   "source": [
    "repetition(X,y)"
   ]
  },
  {
   "cell_type": "markdown",
   "id": "c17ae2df-f0f6-4b94-9b33-27be93b867cd",
   "metadata": {},
   "source": [
    "# 2. Car Evaluation Dataset"
   ]
  },
  {
   "cell_type": "code",
   "execution_count": 11,
   "id": "412a17e7-5608-4303-809f-44d76e6efc03",
   "metadata": {},
   "outputs": [],
   "source": [
    "# Loading the dataset\n",
    "df = pd.read_csv(\"datasets/car.csv\")"
   ]
  },
  {
   "cell_type": "code",
   "execution_count": 12,
   "id": "d84661b6-eed8-44d0-be00-afbcee04e09b",
   "metadata": {},
   "outputs": [
    {
     "data": {
      "text/html": [
       "<div>\n",
       "<style scoped>\n",
       "    .dataframe tbody tr th:only-of-type {\n",
       "        vertical-align: middle;\n",
       "    }\n",
       "\n",
       "    .dataframe tbody tr th {\n",
       "        vertical-align: top;\n",
       "    }\n",
       "\n",
       "    .dataframe thead th {\n",
       "        text-align: right;\n",
       "    }\n",
       "</style>\n",
       "<table border=\"1\" class=\"dataframe\">\n",
       "  <thead>\n",
       "    <tr style=\"text-align: right;\">\n",
       "      <th></th>\n",
       "      <th>buying</th>\n",
       "      <th>maint</th>\n",
       "      <th>doors</th>\n",
       "      <th>persons</th>\n",
       "      <th>lug_boot</th>\n",
       "      <th>safety</th>\n",
       "      <th>class</th>\n",
       "    </tr>\n",
       "  </thead>\n",
       "  <tbody>\n",
       "    <tr>\n",
       "      <th>0</th>\n",
       "      <td>vhigh</td>\n",
       "      <td>vhigh</td>\n",
       "      <td>2</td>\n",
       "      <td>2</td>\n",
       "      <td>small</td>\n",
       "      <td>low</td>\n",
       "      <td>unacc</td>\n",
       "    </tr>\n",
       "    <tr>\n",
       "      <th>1</th>\n",
       "      <td>vhigh</td>\n",
       "      <td>vhigh</td>\n",
       "      <td>2</td>\n",
       "      <td>2</td>\n",
       "      <td>small</td>\n",
       "      <td>med</td>\n",
       "      <td>unacc</td>\n",
       "    </tr>\n",
       "    <tr>\n",
       "      <th>2</th>\n",
       "      <td>vhigh</td>\n",
       "      <td>vhigh</td>\n",
       "      <td>2</td>\n",
       "      <td>2</td>\n",
       "      <td>small</td>\n",
       "      <td>high</td>\n",
       "      <td>unacc</td>\n",
       "    </tr>\n",
       "    <tr>\n",
       "      <th>3</th>\n",
       "      <td>vhigh</td>\n",
       "      <td>vhigh</td>\n",
       "      <td>2</td>\n",
       "      <td>2</td>\n",
       "      <td>med</td>\n",
       "      <td>low</td>\n",
       "      <td>unacc</td>\n",
       "    </tr>\n",
       "    <tr>\n",
       "      <th>4</th>\n",
       "      <td>vhigh</td>\n",
       "      <td>vhigh</td>\n",
       "      <td>2</td>\n",
       "      <td>2</td>\n",
       "      <td>med</td>\n",
       "      <td>med</td>\n",
       "      <td>unacc</td>\n",
       "    </tr>\n",
       "  </tbody>\n",
       "</table>\n",
       "</div>"
      ],
      "text/plain": [
       "  buying  maint doors persons lug_boot safety  class\n",
       "0  vhigh  vhigh     2       2    small    low  unacc\n",
       "1  vhigh  vhigh     2       2    small    med  unacc\n",
       "2  vhigh  vhigh     2       2    small   high  unacc\n",
       "3  vhigh  vhigh     2       2      med    low  unacc\n",
       "4  vhigh  vhigh     2       2      med    med  unacc"
      ]
     },
     "execution_count": 12,
     "metadata": {},
     "output_type": "execute_result"
    }
   ],
   "source": [
    "# Displaying the first five records of the dataset\n",
    "df.head()"
   ]
  },
  {
   "cell_type": "code",
   "execution_count": 13,
   "id": "253c98ac-6fe6-4372-a4b4-d9773a7a1090",
   "metadata": {},
   "outputs": [
    {
     "data": {
      "text/plain": [
       "(1728, 7)"
      ]
     },
     "execution_count": 13,
     "metadata": {},
     "output_type": "execute_result"
    }
   ],
   "source": [
    "# Displaying the shape of the dataset i.e. (no. of records, no. of attributes)\n",
    "df.shape"
   ]
  },
  {
   "cell_type": "code",
   "execution_count": 14,
   "id": "d8f546b4-2673-469b-a683-c7f4cf797f35",
   "metadata": {},
   "outputs": [],
   "source": [
    "# Converting '?' to NaN incase it is present in the dataset\n",
    "df.replace('?', np.nan, inplace=True)"
   ]
  },
  {
   "cell_type": "code",
   "execution_count": 15,
   "id": "83a47708-015e-4b29-b8e0-48dde34bccd7",
   "metadata": {},
   "outputs": [
    {
     "data": {
      "text/plain": [
       "unacc    1210\n",
       "acc       384\n",
       "good       69\n",
       "vgood      65\n",
       "Name: class, dtype: int64"
      ]
     },
     "execution_count": 15,
     "metadata": {},
     "output_type": "execute_result"
    }
   ],
   "source": [
    "# Checking the instance counts of the target attribute\n",
    "df['class'].value_counts()"
   ]
  },
  {
   "cell_type": "code",
   "execution_count": 16,
   "id": "05998f6f-1f80-4c48-a0bf-e026d54383b6",
   "metadata": {},
   "outputs": [],
   "source": [
    "# Encoding the attributes of the dataset\n",
    "df = encoding(df)"
   ]
  },
  {
   "cell_type": "code",
   "execution_count": 17,
   "id": "bff403db-83bc-47ae-a5aa-9b3491c85860",
   "metadata": {},
   "outputs": [],
   "source": [
    "# Imputing the missing values if any by using KNN Imputer\n",
    "df = imputation(df)"
   ]
  },
  {
   "cell_type": "code",
   "execution_count": 18,
   "id": "eb0d1530-e4e0-4687-8e63-d58f4bdbfe89",
   "metadata": {},
   "outputs": [],
   "source": [
    "# Separating dependent and independent variables\n",
    "X, y = separating(df, 'class')"
   ]
  },
  {
   "cell_type": "code",
   "execution_count": 19,
   "id": "008157ea-9c96-4fef-86a9-fd416259efaf",
   "metadata": {},
   "outputs": [],
   "source": [
    "# Handing class imbalance problem using SMOTEN\n",
    "X, y = oversampling(X,y)"
   ]
  },
  {
   "cell_type": "code",
   "execution_count": 20,
   "id": "b0e43925-d436-477c-a7d4-df9e834a873b",
   "metadata": {},
   "outputs": [
    {
     "name": "stdout",
     "output_type": "stream",
     "text": [
      "[0.6818181818181818, 0.6301652892561983, 0.6384297520661157, 0.6456611570247934, 0.6415289256198347, 0.6477272727272727, 0.6549586776859504, 0.6663223140495868, 0.6539256198347108, 0.6353305785123967, 0.6115702479338843, 0.6652892561983471, 0.6342975206611571, 0.6446280991735537, 0.6291322314049587, 0.6477272727272727, 0.5805785123966942, 0.6601239669421488, 0.6642561983471075, 0.618801652892562, 0.637396694214876, 0.6518595041322314, 0.609504132231405, 0.6518595041322314, 0.5723140495867769, 0.6270661157024794, 0.6580578512396694, 0.6497933884297521, 0.6497933884297521, 0.6611570247933884, 0.6539256198347108, 0.637396694214876, 0.6570247933884298, 0.6239669421487604, 0.6477272727272727, 0.637396694214876, 0.6528925619834711, 0.631198347107438, 0.6425619834710744, 0.628099173553719, 0.6921487603305785, 0.6549586776859504, 0.6167355371900827, 0.6301652892561983, 0.6528925619834711, 0.5878099173553719, 0.6291322314049587, 0.6425619834710744, 0.6477272727272727, 0.6508264462809917, 0.6642561983471075, 0.65599173553719, 0.6043388429752066, 0.6198347107438017, 0.6714876033057852, 0.6353305785123967, 0.6735537190082644, 0.640495867768595, 0.5888429752066116, 0.6301652892561983, 0.6601239669421488, 0.6456611570247934, 0.6260330578512396, 0.6632231404958677, 0.6291322314049587, 0.631198347107438, 0.6363636363636364, 0.637396694214876, 0.618801652892562, 0.628099173553719, 0.6508264462809917, 0.6642561983471075, 0.5960743801652892, 0.65599173553719, 0.6497933884297521, 0.631198347107438, 0.6632231404958677, 0.6198347107438017, 0.6363636363636364, 0.6208677685950413, 0.5867768595041323, 0.6384297520661157, 0.6838842975206612, 0.631198347107438, 0.6322314049586777, 0.6342975206611571, 0.6301652892561983, 0.6601239669421488, 0.6332644628099173, 0.6725206611570248, 0.6497933884297521, 0.6291322314049587, 0.6611570247933884, 0.6239669421487604, 0.6466942148760331, 0.6394628099173554, 0.6466942148760331, 0.6342975206611571, 0.6291322314049587, 0.6229338842975206]\n",
      "Standard Deviation: 0.021531572543935087\n",
      "Mean: 0.6397314049586779\n"
     ]
    }
   ],
   "source": [
    "repetition(X,y)"
   ]
  },
  {
   "cell_type": "markdown",
   "id": "9ac9c18c",
   "metadata": {},
   "source": [
    "# 3. Breast Cancer Dataset"
   ]
  },
  {
   "cell_type": "code",
   "execution_count": 21,
   "id": "302131fe",
   "metadata": {},
   "outputs": [],
   "source": [
    "# Loading the dataset\n",
    "df = pd.read_csv(\"datasets/breast-cancer.csv\")"
   ]
  },
  {
   "cell_type": "code",
   "execution_count": 22,
   "id": "ead974fa",
   "metadata": {},
   "outputs": [
    {
     "data": {
      "text/html": [
       "<div>\n",
       "<style scoped>\n",
       "    .dataframe tbody tr th:only-of-type {\n",
       "        vertical-align: middle;\n",
       "    }\n",
       "\n",
       "    .dataframe tbody tr th {\n",
       "        vertical-align: top;\n",
       "    }\n",
       "\n",
       "    .dataframe thead th {\n",
       "        text-align: right;\n",
       "    }\n",
       "</style>\n",
       "<table border=\"1\" class=\"dataframe\">\n",
       "  <thead>\n",
       "    <tr style=\"text-align: right;\">\n",
       "      <th></th>\n",
       "      <th>class</th>\n",
       "      <th>age</th>\n",
       "      <th>menopause</th>\n",
       "      <th>tumor-size</th>\n",
       "      <th>inv-nodes</th>\n",
       "      <th>node-caps</th>\n",
       "      <th>deg-malig</th>\n",
       "      <th>breast</th>\n",
       "      <th>breast-quad</th>\n",
       "      <th>irradiat</th>\n",
       "    </tr>\n",
       "  </thead>\n",
       "  <tbody>\n",
       "    <tr>\n",
       "      <th>0</th>\n",
       "      <td>no-recurrence-events</td>\n",
       "      <td>30-39</td>\n",
       "      <td>premeno</td>\n",
       "      <td>30-34</td>\n",
       "      <td>0-2</td>\n",
       "      <td>no</td>\n",
       "      <td>3</td>\n",
       "      <td>left</td>\n",
       "      <td>left_low</td>\n",
       "      <td>no</td>\n",
       "    </tr>\n",
       "    <tr>\n",
       "      <th>1</th>\n",
       "      <td>no-recurrence-events</td>\n",
       "      <td>40-49</td>\n",
       "      <td>premeno</td>\n",
       "      <td>20-24</td>\n",
       "      <td>0-2</td>\n",
       "      <td>no</td>\n",
       "      <td>2</td>\n",
       "      <td>right</td>\n",
       "      <td>right_up</td>\n",
       "      <td>no</td>\n",
       "    </tr>\n",
       "    <tr>\n",
       "      <th>2</th>\n",
       "      <td>no-recurrence-events</td>\n",
       "      <td>40-49</td>\n",
       "      <td>premeno</td>\n",
       "      <td>20-24</td>\n",
       "      <td>0-2</td>\n",
       "      <td>no</td>\n",
       "      <td>2</td>\n",
       "      <td>left</td>\n",
       "      <td>left_low</td>\n",
       "      <td>no</td>\n",
       "    </tr>\n",
       "    <tr>\n",
       "      <th>3</th>\n",
       "      <td>no-recurrence-events</td>\n",
       "      <td>60-69</td>\n",
       "      <td>ge40</td>\n",
       "      <td>15-19</td>\n",
       "      <td>0-2</td>\n",
       "      <td>no</td>\n",
       "      <td>2</td>\n",
       "      <td>right</td>\n",
       "      <td>left_up</td>\n",
       "      <td>no</td>\n",
       "    </tr>\n",
       "    <tr>\n",
       "      <th>4</th>\n",
       "      <td>no-recurrence-events</td>\n",
       "      <td>40-49</td>\n",
       "      <td>premeno</td>\n",
       "      <td>0-4</td>\n",
       "      <td>0-2</td>\n",
       "      <td>no</td>\n",
       "      <td>2</td>\n",
       "      <td>right</td>\n",
       "      <td>right_low</td>\n",
       "      <td>no</td>\n",
       "    </tr>\n",
       "  </tbody>\n",
       "</table>\n",
       "</div>"
      ],
      "text/plain": [
       "                  class    age menopause tumor-size inv-nodes node-caps  \\\n",
       "0  no-recurrence-events  30-39   premeno      30-34       0-2        no   \n",
       "1  no-recurrence-events  40-49   premeno      20-24       0-2        no   \n",
       "2  no-recurrence-events  40-49   premeno      20-24       0-2        no   \n",
       "3  no-recurrence-events  60-69      ge40      15-19       0-2        no   \n",
       "4  no-recurrence-events  40-49   premeno        0-4       0-2        no   \n",
       "\n",
       "   deg-malig breast breast-quad irradiat  \n",
       "0          3   left    left_low       no  \n",
       "1          2  right    right_up       no  \n",
       "2          2   left    left_low       no  \n",
       "3          2  right     left_up       no  \n",
       "4          2  right   right_low       no  "
      ]
     },
     "execution_count": 22,
     "metadata": {},
     "output_type": "execute_result"
    }
   ],
   "source": [
    "# Displaying the first five records of the dataset\n",
    "df.head()"
   ]
  },
  {
   "cell_type": "code",
   "execution_count": 23,
   "id": "38e20606",
   "metadata": {},
   "outputs": [
    {
     "data": {
      "text/plain": [
       "(286, 10)"
      ]
     },
     "execution_count": 23,
     "metadata": {},
     "output_type": "execute_result"
    }
   ],
   "source": [
    "# Displaying the shape of the dataset i.e. (no. of records, no. of attributes)\n",
    "df.shape"
   ]
  },
  {
   "cell_type": "code",
   "execution_count": 24,
   "id": "52667226",
   "metadata": {},
   "outputs": [],
   "source": [
    "# Converting '?' to NaN incase it is present in the dataset\n",
    "df.replace('?', np.nan, inplace=True)"
   ]
  },
  {
   "cell_type": "code",
   "execution_count": 25,
   "id": "c169e0f3-4f03-4509-9695-86d6f84fc700",
   "metadata": {},
   "outputs": [
    {
     "data": {
      "text/plain": [
       "no-recurrence-events    201\n",
       "recurrence-events        85\n",
       "Name: class, dtype: int64"
      ]
     },
     "execution_count": 25,
     "metadata": {},
     "output_type": "execute_result"
    }
   ],
   "source": [
    "# Checking the instance counts of the target attribute\n",
    "df['class'].value_counts()"
   ]
  },
  {
   "cell_type": "code",
   "execution_count": 26,
   "id": "076a4007",
   "metadata": {},
   "outputs": [],
   "source": [
    "# Encoding the attributes of the dataset\n",
    "df = encoding(df)"
   ]
  },
  {
   "cell_type": "code",
   "execution_count": 27,
   "id": "d3bba41e",
   "metadata": {},
   "outputs": [],
   "source": [
    "# Imputing the missing values if any by using KNN Imputer\n",
    "df = imputation(df)"
   ]
  },
  {
   "cell_type": "code",
   "execution_count": 28,
   "id": "b190ba3d",
   "metadata": {},
   "outputs": [],
   "source": [
    "# Separating dependent and independent variables\n",
    "X, y = separating(df, 'class')"
   ]
  },
  {
   "cell_type": "code",
   "execution_count": 29,
   "id": "92887db0-6ebb-4d2e-9385-5daa15729f2a",
   "metadata": {},
   "outputs": [],
   "source": [
    "# Handing class imbalance problem using SMOTEN\n",
    "X, y = oversampling(X,y)"
   ]
  },
  {
   "cell_type": "code",
   "execution_count": 30,
   "id": "a89bf784-61b8-4d16-81d0-be46f4c12306",
   "metadata": {},
   "outputs": [
    {
     "name": "stdout",
     "output_type": "stream",
     "text": [
      "[0.6049382716049383, 0.6296296296296297, 0.6049382716049383, 0.691358024691358, 0.7407407407407407, 0.5555555555555556, 0.6296296296296297, 0.6296296296296297, 0.6666666666666666, 0.6790123456790124, 0.7777777777777778, 0.6296296296296297, 0.6296296296296297, 0.6419753086419753, 0.6419753086419753, 0.7283950617283951, 0.6172839506172839, 0.691358024691358, 0.6419753086419753, 0.654320987654321, 0.6296296296296297, 0.6790123456790124, 0.6790123456790124, 0.6296296296296297, 0.7407407407407407, 0.6666666666666666, 0.691358024691358, 0.6419753086419753, 0.6666666666666666, 0.5555555555555556, 0.6419753086419753, 0.7160493827160493, 0.6049382716049383, 0.5308641975308642, 0.6049382716049383, 0.7160493827160493, 0.6172839506172839, 0.654320987654321, 0.691358024691358, 0.654320987654321, 0.654320987654321, 0.7160493827160493, 0.7530864197530864, 0.5925925925925926, 0.6666666666666666, 0.6419753086419753, 0.6419753086419753, 0.6049382716049383, 0.5925925925925926, 0.6296296296296297, 0.6419753086419753, 0.5555555555555556, 0.6049382716049383, 0.6666666666666666, 0.5802469135802469, 0.5679012345679012, 0.654320987654321, 0.6419753086419753, 0.654320987654321, 0.6666666666666666, 0.5802469135802469, 0.654320987654321, 0.691358024691358, 0.6666666666666666, 0.7160493827160493, 0.6172839506172839, 0.6419753086419753, 0.6172839506172839, 0.6049382716049383, 0.5679012345679012, 0.7283950617283951, 0.6790123456790124, 0.6666666666666666, 0.654320987654321, 0.7037037037037037, 0.5802469135802469, 0.5432098765432098, 0.654320987654321, 0.6296296296296297, 0.7530864197530864, 0.7160493827160493, 0.5925925925925926, 0.6666666666666666, 0.6666666666666666, 0.7160493827160493, 0.5925925925925926, 0.691358024691358, 0.6172839506172839, 0.5432098765432098, 0.48148148148148145, 0.7283950617283951, 0.7530864197530864, 0.7037037037037037, 0.7777777777777778, 0.7407407407407407, 0.6172839506172839, 0.6049382716049383, 0.6790123456790124, 0.7037037037037037, 0.7283950617283951]\n",
      "Standard Deviation: 0.05713408984063184\n",
      "Mean: 0.6509876543209877\n"
     ]
    }
   ],
   "source": [
    "repetition(X,y)"
   ]
  },
  {
   "cell_type": "markdown",
   "id": "28489d95",
   "metadata": {},
   "source": [
    "# 4. Congressional Voting Records Dataset"
   ]
  },
  {
   "cell_type": "code",
   "execution_count": 31,
   "id": "e8615432",
   "metadata": {},
   "outputs": [],
   "source": [
    "# Loading the dataset\n",
    "df = pd.read_csv(\"datasets/house-votes-84.csv\")"
   ]
  },
  {
   "cell_type": "code",
   "execution_count": 32,
   "id": "319eae88",
   "metadata": {},
   "outputs": [
    {
     "data": {
      "text/html": [
       "<div>\n",
       "<style scoped>\n",
       "    .dataframe tbody tr th:only-of-type {\n",
       "        vertical-align: middle;\n",
       "    }\n",
       "\n",
       "    .dataframe tbody tr th {\n",
       "        vertical-align: top;\n",
       "    }\n",
       "\n",
       "    .dataframe thead th {\n",
       "        text-align: right;\n",
       "    }\n",
       "</style>\n",
       "<table border=\"1\" class=\"dataframe\">\n",
       "  <thead>\n",
       "    <tr style=\"text-align: right;\">\n",
       "      <th></th>\n",
       "      <th>class</th>\n",
       "      <th>handicapped-infants</th>\n",
       "      <th>water-project-cost-sharing</th>\n",
       "      <th>adoption-of-the-budget-resolution</th>\n",
       "      <th>physician-fee-freeze</th>\n",
       "      <th>el-salvador-aid</th>\n",
       "      <th>religious-groups-in-schools</th>\n",
       "      <th>anti-satellite-test-ban</th>\n",
       "      <th>aid-to-nicaraguan-contras</th>\n",
       "      <th>mx-missile</th>\n",
       "      <th>immigration</th>\n",
       "      <th>synfuels-corporation-cutback</th>\n",
       "      <th>education-spending</th>\n",
       "      <th>superfund-right-to-sue</th>\n",
       "      <th>crime</th>\n",
       "      <th>duty-free-exports</th>\n",
       "      <th>export-administration-act-south-africa</th>\n",
       "    </tr>\n",
       "  </thead>\n",
       "  <tbody>\n",
       "    <tr>\n",
       "      <th>0</th>\n",
       "      <td>republican</td>\n",
       "      <td>n</td>\n",
       "      <td>y</td>\n",
       "      <td>n</td>\n",
       "      <td>y</td>\n",
       "      <td>y</td>\n",
       "      <td>y</td>\n",
       "      <td>n</td>\n",
       "      <td>n</td>\n",
       "      <td>n</td>\n",
       "      <td>y</td>\n",
       "      <td>?</td>\n",
       "      <td>y</td>\n",
       "      <td>y</td>\n",
       "      <td>y</td>\n",
       "      <td>n</td>\n",
       "      <td>y</td>\n",
       "    </tr>\n",
       "    <tr>\n",
       "      <th>1</th>\n",
       "      <td>republican</td>\n",
       "      <td>n</td>\n",
       "      <td>y</td>\n",
       "      <td>n</td>\n",
       "      <td>y</td>\n",
       "      <td>y</td>\n",
       "      <td>y</td>\n",
       "      <td>n</td>\n",
       "      <td>n</td>\n",
       "      <td>n</td>\n",
       "      <td>n</td>\n",
       "      <td>n</td>\n",
       "      <td>y</td>\n",
       "      <td>y</td>\n",
       "      <td>y</td>\n",
       "      <td>n</td>\n",
       "      <td>?</td>\n",
       "    </tr>\n",
       "    <tr>\n",
       "      <th>2</th>\n",
       "      <td>democrat</td>\n",
       "      <td>?</td>\n",
       "      <td>y</td>\n",
       "      <td>y</td>\n",
       "      <td>?</td>\n",
       "      <td>y</td>\n",
       "      <td>y</td>\n",
       "      <td>n</td>\n",
       "      <td>n</td>\n",
       "      <td>n</td>\n",
       "      <td>n</td>\n",
       "      <td>y</td>\n",
       "      <td>n</td>\n",
       "      <td>y</td>\n",
       "      <td>y</td>\n",
       "      <td>n</td>\n",
       "      <td>n</td>\n",
       "    </tr>\n",
       "    <tr>\n",
       "      <th>3</th>\n",
       "      <td>democrat</td>\n",
       "      <td>n</td>\n",
       "      <td>y</td>\n",
       "      <td>y</td>\n",
       "      <td>n</td>\n",
       "      <td>?</td>\n",
       "      <td>y</td>\n",
       "      <td>n</td>\n",
       "      <td>n</td>\n",
       "      <td>n</td>\n",
       "      <td>n</td>\n",
       "      <td>y</td>\n",
       "      <td>n</td>\n",
       "      <td>y</td>\n",
       "      <td>n</td>\n",
       "      <td>n</td>\n",
       "      <td>y</td>\n",
       "    </tr>\n",
       "    <tr>\n",
       "      <th>4</th>\n",
       "      <td>democrat</td>\n",
       "      <td>y</td>\n",
       "      <td>y</td>\n",
       "      <td>y</td>\n",
       "      <td>n</td>\n",
       "      <td>y</td>\n",
       "      <td>y</td>\n",
       "      <td>n</td>\n",
       "      <td>n</td>\n",
       "      <td>n</td>\n",
       "      <td>n</td>\n",
       "      <td>y</td>\n",
       "      <td>?</td>\n",
       "      <td>y</td>\n",
       "      <td>y</td>\n",
       "      <td>y</td>\n",
       "      <td>y</td>\n",
       "    </tr>\n",
       "  </tbody>\n",
       "</table>\n",
       "</div>"
      ],
      "text/plain": [
       "        class handicapped-infants water-project-cost-sharing  \\\n",
       "0  republican                   n                          y   \n",
       "1  republican                   n                          y   \n",
       "2    democrat                   ?                          y   \n",
       "3    democrat                   n                          y   \n",
       "4    democrat                   y                          y   \n",
       "\n",
       "  adoption-of-the-budget-resolution physician-fee-freeze el-salvador-aid  \\\n",
       "0                                 n                    y               y   \n",
       "1                                 n                    y               y   \n",
       "2                                 y                    ?               y   \n",
       "3                                 y                    n               ?   \n",
       "4                                 y                    n               y   \n",
       "\n",
       "  religious-groups-in-schools anti-satellite-test-ban  \\\n",
       "0                           y                       n   \n",
       "1                           y                       n   \n",
       "2                           y                       n   \n",
       "3                           y                       n   \n",
       "4                           y                       n   \n",
       "\n",
       "  aid-to-nicaraguan-contras mx-missile immigration  \\\n",
       "0                         n          n           y   \n",
       "1                         n          n           n   \n",
       "2                         n          n           n   \n",
       "3                         n          n           n   \n",
       "4                         n          n           n   \n",
       "\n",
       "  synfuels-corporation-cutback education-spending superfund-right-to-sue  \\\n",
       "0                            ?                  y                      y   \n",
       "1                            n                  y                      y   \n",
       "2                            y                  n                      y   \n",
       "3                            y                  n                      y   \n",
       "4                            y                  ?                      y   \n",
       "\n",
       "  crime duty-free-exports export-administration-act-south-africa  \n",
       "0     y                 n                                      y  \n",
       "1     y                 n                                      ?  \n",
       "2     y                 n                                      n  \n",
       "3     n                 n                                      y  \n",
       "4     y                 y                                      y  "
      ]
     },
     "execution_count": 32,
     "metadata": {},
     "output_type": "execute_result"
    }
   ],
   "source": [
    "# Displaying the first five records of the dataset\n",
    "df.head()"
   ]
  },
  {
   "cell_type": "code",
   "execution_count": 33,
   "id": "26548488",
   "metadata": {},
   "outputs": [
    {
     "data": {
      "text/plain": [
       "(435, 17)"
      ]
     },
     "execution_count": 33,
     "metadata": {},
     "output_type": "execute_result"
    }
   ],
   "source": [
    "# Displaying the shape of the dataset i.e. (no. of records, no. of attributes)\n",
    "df.shape"
   ]
  },
  {
   "cell_type": "code",
   "execution_count": 34,
   "id": "6fef9c6c",
   "metadata": {},
   "outputs": [],
   "source": [
    "# Converting '?' to NaN incase it is present in the dataset\n",
    "df.replace('?', np.nan, inplace=True)"
   ]
  },
  {
   "cell_type": "code",
   "execution_count": 35,
   "id": "d84e000f-6bdd-4515-ab95-93647db6438c",
   "metadata": {},
   "outputs": [
    {
     "data": {
      "text/plain": [
       "democrat      267\n",
       "republican    168\n",
       "Name: class, dtype: int64"
      ]
     },
     "execution_count": 35,
     "metadata": {},
     "output_type": "execute_result"
    }
   ],
   "source": [
    "# Checking the instance counts of the target attribute\n",
    "df['class'].value_counts()"
   ]
  },
  {
   "cell_type": "code",
   "execution_count": 36,
   "id": "6f0cf9ae",
   "metadata": {},
   "outputs": [],
   "source": [
    "# Encoding the attributes of the dataset\n",
    "df = encoding(df)"
   ]
  },
  {
   "cell_type": "code",
   "execution_count": 37,
   "id": "dd4e5505",
   "metadata": {},
   "outputs": [],
   "source": [
    "# Imputing the missing values if any by using KNN Imputer\n",
    "df = imputation(df)"
   ]
  },
  {
   "cell_type": "code",
   "execution_count": 38,
   "id": "54fdf495",
   "metadata": {},
   "outputs": [],
   "source": [
    "# Separating dependent and independent variables\n",
    "X, y = separating(df, 'class')"
   ]
  },
  {
   "cell_type": "code",
   "execution_count": 39,
   "id": "c26f124a-738b-435e-be0a-d263cf77261c",
   "metadata": {},
   "outputs": [
    {
     "name": "stdout",
     "output_type": "stream",
     "text": [
      "[0.896551724137931, 0.8850574712643678, 0.8735632183908046, 0.8735632183908046, 0.9540229885057471, 0.8505747126436781, 0.9080459770114943, 0.9310344827586207, 0.9080459770114943, 0.8620689655172413, 0.8850574712643678, 0.8850574712643678, 0.8850574712643678, 0.8390804597701149, 0.8620689655172413, 0.8850574712643678, 0.9080459770114943, 0.9080459770114943, 0.8620689655172413, 0.9080459770114943, 0.8850574712643678, 0.9195402298850575, 0.8505747126436781, 0.8620689655172413, 0.896551724137931, 0.896551724137931, 0.8505747126436781, 0.9080459770114943, 0.9080459770114943, 0.9080459770114943, 0.8620689655172413, 0.896551724137931, 0.8850574712643678, 0.8735632183908046, 0.9195402298850575, 0.8735632183908046, 0.8620689655172413, 0.9425287356321839, 0.896551724137931, 0.8735632183908046, 0.8390804597701149, 0.8620689655172413, 0.896551724137931, 0.896551724137931, 0.9310344827586207, 0.896551724137931, 0.9540229885057471, 0.8620689655172413, 0.896551724137931, 0.9310344827586207, 0.9425287356321839, 0.9310344827586207, 0.896551724137931, 0.9310344827586207, 0.896551724137931, 0.8850574712643678, 0.8160919540229885, 0.8275862068965517, 0.8390804597701149, 0.9080459770114943, 0.8620689655172413, 0.9080459770114943, 0.896551724137931, 0.9655172413793104, 0.9425287356321839, 0.8505747126436781, 0.9080459770114943, 0.8735632183908046, 0.896551724137931, 0.9425287356321839, 0.8505747126436781, 0.8850574712643678, 0.9080459770114943, 0.8390804597701149, 0.8620689655172413, 0.8735632183908046, 0.8620689655172413, 0.8735632183908046, 0.8735632183908046, 0.9080459770114943, 0.9080459770114943, 0.8850574712643678, 0.8620689655172413, 0.896551724137931, 0.8160919540229885, 0.9195402298850575, 0.8735632183908046, 0.8620689655172413, 0.8850574712643678, 0.8505747126436781, 0.8390804597701149, 0.9425287356321839, 0.8850574712643678, 0.8850574712643678, 0.8735632183908046, 0.8850574712643678, 0.8850574712643678, 0.8850574712643678, 0.8045977011494253, 0.8620689655172413]\n",
      "Standard Deviation: 0.03185463747073769\n",
      "Mean: 0.8866666666666667\n"
     ]
    }
   ],
   "source": [
    "repetition(X,y)"
   ]
  },
  {
   "cell_type": "markdown",
   "id": "e6b89407",
   "metadata": {},
   "source": [
    "# 5. Tic-Tac-Toe Endgame Dataset"
   ]
  },
  {
   "cell_type": "code",
   "execution_count": 40,
   "id": "21f62062",
   "metadata": {},
   "outputs": [],
   "source": [
    "# Loading the dataset\n",
    "df = pd.read_csv(\"datasets/tic-tac-toe.csv\")"
   ]
  },
  {
   "cell_type": "code",
   "execution_count": 41,
   "id": "f1d244c0",
   "metadata": {},
   "outputs": [
    {
     "data": {
      "text/html": [
       "<div>\n",
       "<style scoped>\n",
       "    .dataframe tbody tr th:only-of-type {\n",
       "        vertical-align: middle;\n",
       "    }\n",
       "\n",
       "    .dataframe tbody tr th {\n",
       "        vertical-align: top;\n",
       "    }\n",
       "\n",
       "    .dataframe thead th {\n",
       "        text-align: right;\n",
       "    }\n",
       "</style>\n",
       "<table border=\"1\" class=\"dataframe\">\n",
       "  <thead>\n",
       "    <tr style=\"text-align: right;\">\n",
       "      <th></th>\n",
       "      <th>top-left-square</th>\n",
       "      <th>top-middle-square</th>\n",
       "      <th>top-right-square</th>\n",
       "      <th>middle-left-square</th>\n",
       "      <th>middle-middle-square</th>\n",
       "      <th>middle-right-square</th>\n",
       "      <th>bottom-left-square</th>\n",
       "      <th>bottom-middle-square</th>\n",
       "      <th>bottom-right-square</th>\n",
       "      <th>class</th>\n",
       "    </tr>\n",
       "  </thead>\n",
       "  <tbody>\n",
       "    <tr>\n",
       "      <th>0</th>\n",
       "      <td>x</td>\n",
       "      <td>x</td>\n",
       "      <td>x</td>\n",
       "      <td>x</td>\n",
       "      <td>o</td>\n",
       "      <td>o</td>\n",
       "      <td>x</td>\n",
       "      <td>o</td>\n",
       "      <td>o</td>\n",
       "      <td>positive</td>\n",
       "    </tr>\n",
       "    <tr>\n",
       "      <th>1</th>\n",
       "      <td>x</td>\n",
       "      <td>x</td>\n",
       "      <td>x</td>\n",
       "      <td>x</td>\n",
       "      <td>o</td>\n",
       "      <td>o</td>\n",
       "      <td>o</td>\n",
       "      <td>x</td>\n",
       "      <td>o</td>\n",
       "      <td>positive</td>\n",
       "    </tr>\n",
       "    <tr>\n",
       "      <th>2</th>\n",
       "      <td>x</td>\n",
       "      <td>x</td>\n",
       "      <td>x</td>\n",
       "      <td>x</td>\n",
       "      <td>o</td>\n",
       "      <td>o</td>\n",
       "      <td>o</td>\n",
       "      <td>o</td>\n",
       "      <td>x</td>\n",
       "      <td>positive</td>\n",
       "    </tr>\n",
       "    <tr>\n",
       "      <th>3</th>\n",
       "      <td>x</td>\n",
       "      <td>x</td>\n",
       "      <td>x</td>\n",
       "      <td>x</td>\n",
       "      <td>o</td>\n",
       "      <td>o</td>\n",
       "      <td>o</td>\n",
       "      <td>b</td>\n",
       "      <td>b</td>\n",
       "      <td>positive</td>\n",
       "    </tr>\n",
       "    <tr>\n",
       "      <th>4</th>\n",
       "      <td>x</td>\n",
       "      <td>x</td>\n",
       "      <td>x</td>\n",
       "      <td>x</td>\n",
       "      <td>o</td>\n",
       "      <td>o</td>\n",
       "      <td>b</td>\n",
       "      <td>o</td>\n",
       "      <td>b</td>\n",
       "      <td>positive</td>\n",
       "    </tr>\n",
       "  </tbody>\n",
       "</table>\n",
       "</div>"
      ],
      "text/plain": [
       "  top-left-square top-middle-square top-right-square middle-left-square  \\\n",
       "0               x                 x                x                  x   \n",
       "1               x                 x                x                  x   \n",
       "2               x                 x                x                  x   \n",
       "3               x                 x                x                  x   \n",
       "4               x                 x                x                  x   \n",
       "\n",
       "  middle-middle-square middle-right-square bottom-left-square  \\\n",
       "0                    o                   o                  x   \n",
       "1                    o                   o                  o   \n",
       "2                    o                   o                  o   \n",
       "3                    o                   o                  o   \n",
       "4                    o                   o                  b   \n",
       "\n",
       "  bottom-middle-square bottom-right-square     class  \n",
       "0                    o                   o  positive  \n",
       "1                    x                   o  positive  \n",
       "2                    o                   x  positive  \n",
       "3                    b                   b  positive  \n",
       "4                    o                   b  positive  "
      ]
     },
     "execution_count": 41,
     "metadata": {},
     "output_type": "execute_result"
    }
   ],
   "source": [
    "# Displaying the first five records of the dataset\n",
    "df.head()"
   ]
  },
  {
   "cell_type": "code",
   "execution_count": 42,
   "id": "2d3d3ab3",
   "metadata": {},
   "outputs": [
    {
     "data": {
      "text/plain": [
       "(958, 10)"
      ]
     },
     "execution_count": 42,
     "metadata": {},
     "output_type": "execute_result"
    }
   ],
   "source": [
    "# Displaying the shape of the dataset i.e. (no. of records, no. of attributes)\n",
    "df.shape"
   ]
  },
  {
   "cell_type": "code",
   "execution_count": 43,
   "id": "987b3ef1",
   "metadata": {},
   "outputs": [],
   "source": [
    "# Converting '?' to NaN incase it is present in the dataset\n",
    "df.replace('?', np.nan, inplace=True)"
   ]
  },
  {
   "cell_type": "code",
   "execution_count": 44,
   "id": "5f84f18b-d5b2-46b5-be57-bac1d3f74df3",
   "metadata": {},
   "outputs": [
    {
     "data": {
      "text/plain": [
       "positive    626\n",
       "negative    332\n",
       "Name: class, dtype: int64"
      ]
     },
     "execution_count": 44,
     "metadata": {},
     "output_type": "execute_result"
    }
   ],
   "source": [
    "# Checking the instance counts of the target attribute\n",
    "df['class'].value_counts()"
   ]
  },
  {
   "cell_type": "code",
   "execution_count": 45,
   "id": "df9fa002",
   "metadata": {},
   "outputs": [],
   "source": [
    "# Encoding the attributes of the dataset\n",
    "df = encoding(df)"
   ]
  },
  {
   "cell_type": "code",
   "execution_count": 46,
   "id": "982a1755",
   "metadata": {},
   "outputs": [],
   "source": [
    "# Imputing the missing values if any by using KNN Imputer\n",
    "df = imputation(df)"
   ]
  },
  {
   "cell_type": "code",
   "execution_count": 47,
   "id": "425ecdea",
   "metadata": {},
   "outputs": [],
   "source": [
    "# Separating dependent and independent variables\n",
    "X, y = separating(df, 'class')"
   ]
  },
  {
   "cell_type": "code",
   "execution_count": 48,
   "id": "490b18cc-4ce7-4b55-a414-7e6369903928",
   "metadata": {},
   "outputs": [],
   "source": [
    "# Handing class imbalance problem using SMOTEN\n",
    "X, y = oversampling(X,y)"
   ]
  },
  {
   "cell_type": "code",
   "execution_count": 49,
   "id": "5c7d490d-3102-44b6-87df-b3846ca5f87a",
   "metadata": {},
   "outputs": [
    {
     "name": "stdout",
     "output_type": "stream",
     "text": [
      "[0.6852589641434262, 0.6892430278884463, 0.6414342629482072, 0.7370517928286853, 0.6653386454183267, 0.6454183266932271, 0.6733067729083665, 0.6852589641434262, 0.6095617529880478, 0.6334661354581673, 0.6294820717131474, 0.6533864541832669, 0.6733067729083665, 0.6693227091633466, 0.6294820717131474, 0.5816733067729084, 0.6613545816733067, 0.6932270916334662, 0.6733067729083665, 0.6095617529880478, 0.6653386454183267, 0.6613545816733067, 0.6095617529880478, 0.649402390438247, 0.6254980079681275, 0.6733067729083665, 0.6334661354581673, 0.6135458167330677, 0.6772908366533864, 0.6852589641434262, 0.6334661354581673, 0.6653386454183267, 0.6772908366533864, 0.6812749003984063, 0.6374501992031872, 0.6932270916334662, 0.6812749003984063, 0.6454183266932271, 0.6613545816733067, 0.6454183266932271, 0.6294820717131474, 0.6693227091633466, 0.6772908366533864, 0.6294820717131474, 0.6693227091633466, 0.6852589641434262, 0.6852589641434262, 0.6254980079681275, 0.6852589641434262, 0.6613545816733067, 0.5896414342629482, 0.6812749003984063, 0.6294820717131474, 0.6613545816733067, 0.6653386454183267, 0.6693227091633466, 0.6772908366533864, 0.6454183266932271, 0.6972111553784861, 0.6693227091633466, 0.6374501992031872, 0.6733067729083665, 0.6533864541832669, 0.6812749003984063, 0.6294820717131474, 0.6812749003984063, 0.5976095617529881, 0.6772908366533864, 0.6812749003984063, 0.6374501992031872, 0.7051792828685259, 0.6693227091633466, 0.6653386454183267, 0.6334661354581673, 0.6454183266932271, 0.6055776892430279, 0.6613545816733067, 0.6932270916334662, 0.6812749003984063, 0.6175298804780877, 0.6374501992031872, 0.6693227091633466, 0.6733067729083665, 0.6852589641434262, 0.6573705179282868, 0.6812749003984063, 0.6573705179282868, 0.6414342629482072, 0.6613545816733067, 0.6215139442231076, 0.6135458167330677, 0.5976095617529881, 0.6972111553784861, 0.6414342629482072, 0.649402390438247, 0.7290836653386454, 0.6573705179282868, 0.6653386454183267, 0.6135458167330677, 0.6254980079681275]\n",
      "Standard Deviation: 0.029264270322352504\n",
      "Mean: 0.6566135458167333\n"
     ]
    }
   ],
   "source": [
    "repetition(X,y)"
   ]
  },
  {
   "cell_type": "markdown",
   "id": "05ccde2e-61b2-40a7-9b4c-6088b492de54",
   "metadata": {},
   "source": [
    "# 6. Nursery Dataset"
   ]
  },
  {
   "cell_type": "code",
   "execution_count": 50,
   "id": "c548a8a7-9719-4a03-a453-6920aa6d5ed5",
   "metadata": {},
   "outputs": [],
   "source": [
    "# Loading the dataset\n",
    "df = pd.read_csv(\"datasets/nursery.csv\")"
   ]
  },
  {
   "cell_type": "code",
   "execution_count": 51,
   "id": "7ef38e45-75f2-48b1-ab0c-bce178d6218a",
   "metadata": {},
   "outputs": [
    {
     "data": {
      "text/html": [
       "<div>\n",
       "<style scoped>\n",
       "    .dataframe tbody tr th:only-of-type {\n",
       "        vertical-align: middle;\n",
       "    }\n",
       "\n",
       "    .dataframe tbody tr th {\n",
       "        vertical-align: top;\n",
       "    }\n",
       "\n",
       "    .dataframe thead th {\n",
       "        text-align: right;\n",
       "    }\n",
       "</style>\n",
       "<table border=\"1\" class=\"dataframe\">\n",
       "  <thead>\n",
       "    <tr style=\"text-align: right;\">\n",
       "      <th></th>\n",
       "      <th>parents</th>\n",
       "      <th>has_nurs</th>\n",
       "      <th>form</th>\n",
       "      <th>children</th>\n",
       "      <th>housing</th>\n",
       "      <th>finance</th>\n",
       "      <th>social</th>\n",
       "      <th>health</th>\n",
       "      <th>class</th>\n",
       "    </tr>\n",
       "  </thead>\n",
       "  <tbody>\n",
       "    <tr>\n",
       "      <th>0</th>\n",
       "      <td>usual</td>\n",
       "      <td>proper</td>\n",
       "      <td>complete</td>\n",
       "      <td>1</td>\n",
       "      <td>convenient</td>\n",
       "      <td>convenient</td>\n",
       "      <td>nonprob</td>\n",
       "      <td>recommended</td>\n",
       "      <td>recommend</td>\n",
       "    </tr>\n",
       "    <tr>\n",
       "      <th>1</th>\n",
       "      <td>usual</td>\n",
       "      <td>proper</td>\n",
       "      <td>complete</td>\n",
       "      <td>1</td>\n",
       "      <td>convenient</td>\n",
       "      <td>convenient</td>\n",
       "      <td>nonprob</td>\n",
       "      <td>priority</td>\n",
       "      <td>priority</td>\n",
       "    </tr>\n",
       "    <tr>\n",
       "      <th>2</th>\n",
       "      <td>usual</td>\n",
       "      <td>proper</td>\n",
       "      <td>complete</td>\n",
       "      <td>1</td>\n",
       "      <td>convenient</td>\n",
       "      <td>convenient</td>\n",
       "      <td>nonprob</td>\n",
       "      <td>not_recom</td>\n",
       "      <td>not_recom</td>\n",
       "    </tr>\n",
       "    <tr>\n",
       "      <th>3</th>\n",
       "      <td>usual</td>\n",
       "      <td>proper</td>\n",
       "      <td>complete</td>\n",
       "      <td>1</td>\n",
       "      <td>convenient</td>\n",
       "      <td>convenient</td>\n",
       "      <td>slightly_prob</td>\n",
       "      <td>recommended</td>\n",
       "      <td>recommend</td>\n",
       "    </tr>\n",
       "    <tr>\n",
       "      <th>4</th>\n",
       "      <td>usual</td>\n",
       "      <td>proper</td>\n",
       "      <td>complete</td>\n",
       "      <td>1</td>\n",
       "      <td>convenient</td>\n",
       "      <td>convenient</td>\n",
       "      <td>slightly_prob</td>\n",
       "      <td>priority</td>\n",
       "      <td>priority</td>\n",
       "    </tr>\n",
       "  </tbody>\n",
       "</table>\n",
       "</div>"
      ],
      "text/plain": [
       "  parents has_nurs      form children     housing     finance         social  \\\n",
       "0   usual   proper  complete        1  convenient  convenient        nonprob   \n",
       "1   usual   proper  complete        1  convenient  convenient        nonprob   \n",
       "2   usual   proper  complete        1  convenient  convenient        nonprob   \n",
       "3   usual   proper  complete        1  convenient  convenient  slightly_prob   \n",
       "4   usual   proper  complete        1  convenient  convenient  slightly_prob   \n",
       "\n",
       "        health      class  \n",
       "0  recommended  recommend  \n",
       "1     priority   priority  \n",
       "2    not_recom  not_recom  \n",
       "3  recommended  recommend  \n",
       "4     priority   priority  "
      ]
     },
     "execution_count": 51,
     "metadata": {},
     "output_type": "execute_result"
    }
   ],
   "source": [
    "# Displaying the first five records of the dataset\n",
    "df.head()"
   ]
  },
  {
   "cell_type": "code",
   "execution_count": 52,
   "id": "fe88fc78-ab2c-466e-824c-e6b96191c1b0",
   "metadata": {},
   "outputs": [
    {
     "data": {
      "text/plain": [
       "(12960, 9)"
      ]
     },
     "execution_count": 52,
     "metadata": {},
     "output_type": "execute_result"
    }
   ],
   "source": [
    "# Displaying the shape of the dataset i.e. (no. of records, no. of attributes)\n",
    "df.shape"
   ]
  },
  {
   "cell_type": "code",
   "execution_count": 53,
   "id": "9900bc27-c050-4374-abe4-65d36018552e",
   "metadata": {},
   "outputs": [],
   "source": [
    "# Converting '?' to NaN incase it is present in the dataset\n",
    "df.replace('?', np.nan, inplace=True)"
   ]
  },
  {
   "cell_type": "code",
   "execution_count": 54,
   "id": "8e70e090-f06a-42b4-9787-522ea86a504c",
   "metadata": {},
   "outputs": [
    {
     "data": {
      "text/plain": [
       "not_recom     4320\n",
       "priority      4266\n",
       "spec_prior    4044\n",
       "very_recom     328\n",
       "recommend        2\n",
       "Name: class, dtype: int64"
      ]
     },
     "execution_count": 54,
     "metadata": {},
     "output_type": "execute_result"
    }
   ],
   "source": [
    "# Checking the instance counts of the target attribute\n",
    "df['class'].value_counts()"
   ]
  },
  {
   "cell_type": "code",
   "execution_count": 55,
   "id": "49983e5e-ce2d-43b9-82f3-45a3a1b94ede",
   "metadata": {},
   "outputs": [],
   "source": [
    "# Removing classes having <= 4 instances\n",
    "df = remove_class(df,'class')"
   ]
  },
  {
   "cell_type": "code",
   "execution_count": 56,
   "id": "6ed1a43c-7973-46da-8f11-13833b44edc0",
   "metadata": {},
   "outputs": [],
   "source": [
    "# Encoding the attributes of the dataset\n",
    "df = encoding(df)"
   ]
  },
  {
   "cell_type": "code",
   "execution_count": 57,
   "id": "68e90641-1c7b-4a7b-86f1-67322fb10fef",
   "metadata": {},
   "outputs": [],
   "source": [
    "# Imputing the missing values if any by using KNN Imputer\n",
    "df = imputation(df)"
   ]
  },
  {
   "cell_type": "code",
   "execution_count": 58,
   "id": "062c3546-f0cf-4fe3-b140-2b93cf2776a5",
   "metadata": {},
   "outputs": [],
   "source": [
    "# Separating dependent and independent variables\n",
    "X, y = separating(df, 'class')"
   ]
  },
  {
   "cell_type": "code",
   "execution_count": 59,
   "id": "9796dbd9-bc99-4d78-80f4-707db1229115",
   "metadata": {},
   "outputs": [
    {
     "name": "stdout",
     "output_type": "stream",
     "text": [
      "[0.878858024691358, 0.8753858024691358, 0.8726851851851852, 0.8761574074074074, 0.8757716049382716, 0.8757716049382716, 0.8757716049382716, 0.8715277777777778, 0.8726851851851852, 0.8591820987654321, 0.8560956790123457, 0.8865740740740741, 0.8722993827160493, 0.8819444444444444, 0.8495370370370371, 0.8626543209876543, 0.8661265432098766, 0.8692129629629629, 0.8885030864197531, 0.8742283950617284, 0.8815586419753086, 0.8676697530864198, 0.8626543209876543, 0.8746141975308642, 0.8665123456790124, 0.8661265432098766, 0.8526234567901234, 0.8946759259259259, 0.8703703703703703, 0.8638117283950617, 0.8746141975308642, 0.8819444444444444, 0.8688271604938271, 0.8657407407407407, 0.8784722222222222, 0.873070987654321, 0.8499228395061729, 0.8614969135802469, 0.8661265432098766, 0.8746141975308642, 0.8819444444444444, 0.8792438271604939, 0.8672839506172839, 0.8699845679012346, 0.8703703703703703, 0.8533950617283951, 0.8939043209876543, 0.8865740740740741, 0.876929012345679, 0.8722993827160493, 0.8657407407407407, 0.8715277777777778, 0.8395061728395061, 0.8499228395061729, 0.8622685185185185, 0.8869598765432098, 0.8773148148148148, 0.8626543209876543, 0.8858024691358025, 0.8719135802469136, 0.8630401234567902, 0.8587962962962963, 0.8495370370370371, 0.8422067901234568, 0.8834876543209876, 0.8695987654320988, 0.8487654320987654, 0.8549382716049383, 0.8734567901234568, 0.8773148148148148, 0.8695987654320988, 0.8722993827160493, 0.8784722222222222, 0.873070987654321, 0.8568672839506173, 0.8688271604938271, 0.8634259259259259, 0.8638117283950617, 0.8780864197530864, 0.8514660493827161, 0.8591820987654321, 0.8599537037037037, 0.8784722222222222, 0.876929012345679, 0.8746141975308642, 0.8649691358024691, 0.8522376543209876, 0.8649691358024691, 0.8746141975308642, 0.8761574074074074, 0.8726851851851852, 0.8641975308641975, 0.8819444444444444, 0.8777006172839507, 0.8858024691358025, 0.8719135802469136, 0.875, 0.8757716049382716, 0.8634259259259259, 0.8869598765432098]\n",
      "Standard Deviation: 0.010951813635769537\n",
      "Mean: 0.8699652777777778\n"
     ]
    }
   ],
   "source": [
    "repetition(X,y)"
   ]
  },
  {
   "cell_type": "markdown",
   "id": "ab51214d",
   "metadata": {},
   "source": [
    "# 7. Soybean (Large) Dataset"
   ]
  },
  {
   "cell_type": "code",
   "execution_count": 60,
   "id": "05cc01b8",
   "metadata": {},
   "outputs": [],
   "source": [
    "# Loading the dataset\n",
    "df = pd.read_csv(\"datasets/soybean-large.csv\")"
   ]
  },
  {
   "cell_type": "code",
   "execution_count": 61,
   "id": "461a9794",
   "metadata": {},
   "outputs": [
    {
     "data": {
      "text/html": [
       "<div>\n",
       "<style scoped>\n",
       "    .dataframe tbody tr th:only-of-type {\n",
       "        vertical-align: middle;\n",
       "    }\n",
       "\n",
       "    .dataframe tbody tr th {\n",
       "        vertical-align: top;\n",
       "    }\n",
       "\n",
       "    .dataframe thead th {\n",
       "        text-align: right;\n",
       "    }\n",
       "</style>\n",
       "<table border=\"1\" class=\"dataframe\">\n",
       "  <thead>\n",
       "    <tr style=\"text-align: right;\">\n",
       "      <th></th>\n",
       "      <th>class</th>\n",
       "      <th>date</th>\n",
       "      <th>plant-stand</th>\n",
       "      <th>precip</th>\n",
       "      <th>temp</th>\n",
       "      <th>hail</th>\n",
       "      <th>crop-hist</th>\n",
       "      <th>area-damaged</th>\n",
       "      <th>severity</th>\n",
       "      <th>seed-tmt</th>\n",
       "      <th>...</th>\n",
       "      <th>int-discolor</th>\n",
       "      <th>sclerotia</th>\n",
       "      <th>fruit-pods</th>\n",
       "      <th>fruit spots</th>\n",
       "      <th>seed</th>\n",
       "      <th>mold-growth</th>\n",
       "      <th>seed-discolor</th>\n",
       "      <th>seed-size</th>\n",
       "      <th>shriveling</th>\n",
       "      <th>roots</th>\n",
       "    </tr>\n",
       "  </thead>\n",
       "  <tbody>\n",
       "    <tr>\n",
       "      <th>0</th>\n",
       "      <td>diaporthe-stem-canker</td>\n",
       "      <td>6</td>\n",
       "      <td>0</td>\n",
       "      <td>2</td>\n",
       "      <td>1</td>\n",
       "      <td>0</td>\n",
       "      <td>1</td>\n",
       "      <td>1</td>\n",
       "      <td>1</td>\n",
       "      <td>0</td>\n",
       "      <td>...</td>\n",
       "      <td>0</td>\n",
       "      <td>0</td>\n",
       "      <td>0</td>\n",
       "      <td>4</td>\n",
       "      <td>0</td>\n",
       "      <td>0</td>\n",
       "      <td>0</td>\n",
       "      <td>0</td>\n",
       "      <td>0</td>\n",
       "      <td>0</td>\n",
       "    </tr>\n",
       "    <tr>\n",
       "      <th>1</th>\n",
       "      <td>diaporthe-stem-canker</td>\n",
       "      <td>4</td>\n",
       "      <td>0</td>\n",
       "      <td>2</td>\n",
       "      <td>1</td>\n",
       "      <td>0</td>\n",
       "      <td>2</td>\n",
       "      <td>0</td>\n",
       "      <td>2</td>\n",
       "      <td>1</td>\n",
       "      <td>...</td>\n",
       "      <td>0</td>\n",
       "      <td>0</td>\n",
       "      <td>0</td>\n",
       "      <td>4</td>\n",
       "      <td>0</td>\n",
       "      <td>0</td>\n",
       "      <td>0</td>\n",
       "      <td>0</td>\n",
       "      <td>0</td>\n",
       "      <td>0</td>\n",
       "    </tr>\n",
       "    <tr>\n",
       "      <th>2</th>\n",
       "      <td>diaporthe-stem-canker</td>\n",
       "      <td>3</td>\n",
       "      <td>0</td>\n",
       "      <td>2</td>\n",
       "      <td>1</td>\n",
       "      <td>0</td>\n",
       "      <td>1</td>\n",
       "      <td>0</td>\n",
       "      <td>2</td>\n",
       "      <td>1</td>\n",
       "      <td>...</td>\n",
       "      <td>0</td>\n",
       "      <td>0</td>\n",
       "      <td>0</td>\n",
       "      <td>4</td>\n",
       "      <td>0</td>\n",
       "      <td>0</td>\n",
       "      <td>0</td>\n",
       "      <td>0</td>\n",
       "      <td>0</td>\n",
       "      <td>0</td>\n",
       "    </tr>\n",
       "    <tr>\n",
       "      <th>3</th>\n",
       "      <td>diaporthe-stem-canker</td>\n",
       "      <td>3</td>\n",
       "      <td>0</td>\n",
       "      <td>2</td>\n",
       "      <td>1</td>\n",
       "      <td>0</td>\n",
       "      <td>1</td>\n",
       "      <td>0</td>\n",
       "      <td>2</td>\n",
       "      <td>0</td>\n",
       "      <td>...</td>\n",
       "      <td>0</td>\n",
       "      <td>0</td>\n",
       "      <td>0</td>\n",
       "      <td>4</td>\n",
       "      <td>0</td>\n",
       "      <td>0</td>\n",
       "      <td>0</td>\n",
       "      <td>0</td>\n",
       "      <td>0</td>\n",
       "      <td>0</td>\n",
       "    </tr>\n",
       "    <tr>\n",
       "      <th>4</th>\n",
       "      <td>diaporthe-stem-canker</td>\n",
       "      <td>6</td>\n",
       "      <td>0</td>\n",
       "      <td>2</td>\n",
       "      <td>1</td>\n",
       "      <td>0</td>\n",
       "      <td>2</td>\n",
       "      <td>0</td>\n",
       "      <td>1</td>\n",
       "      <td>0</td>\n",
       "      <td>...</td>\n",
       "      <td>0</td>\n",
       "      <td>0</td>\n",
       "      <td>0</td>\n",
       "      <td>4</td>\n",
       "      <td>0</td>\n",
       "      <td>0</td>\n",
       "      <td>0</td>\n",
       "      <td>0</td>\n",
       "      <td>0</td>\n",
       "      <td>0</td>\n",
       "    </tr>\n",
       "  </tbody>\n",
       "</table>\n",
       "<p>5 rows × 36 columns</p>\n",
       "</div>"
      ],
      "text/plain": [
       "                   class date plant-stand precip temp hail crop-hist  \\\n",
       "0  diaporthe-stem-canker    6           0      2    1    0         1   \n",
       "1  diaporthe-stem-canker    4           0      2    1    0         2   \n",
       "2  diaporthe-stem-canker    3           0      2    1    0         1   \n",
       "3  diaporthe-stem-canker    3           0      2    1    0         1   \n",
       "4  diaporthe-stem-canker    6           0      2    1    0         2   \n",
       "\n",
       "  area-damaged severity seed-tmt  ... int-discolor sclerotia  fruit-pods  \\\n",
       "0            1        1        0  ...            0         0           0   \n",
       "1            0        2        1  ...            0         0           0   \n",
       "2            0        2        1  ...            0         0           0   \n",
       "3            0        2        0  ...            0         0           0   \n",
       "4            0        1        0  ...            0         0           0   \n",
       "\n",
       "  fruit spots seed mold-growth seed-discolor seed-size shriveling roots  \n",
       "0           4    0           0             0         0          0     0  \n",
       "1           4    0           0             0         0          0     0  \n",
       "2           4    0           0             0         0          0     0  \n",
       "3           4    0           0             0         0          0     0  \n",
       "4           4    0           0             0         0          0     0  \n",
       "\n",
       "[5 rows x 36 columns]"
      ]
     },
     "execution_count": 61,
     "metadata": {},
     "output_type": "execute_result"
    }
   ],
   "source": [
    "# Displaying the first five records of the dataset\n",
    "df.head()"
   ]
  },
  {
   "cell_type": "code",
   "execution_count": 62,
   "id": "850153a0",
   "metadata": {},
   "outputs": [
    {
     "data": {
      "text/plain": [
       "(307, 36)"
      ]
     },
     "execution_count": 62,
     "metadata": {},
     "output_type": "execute_result"
    }
   ],
   "source": [
    "# Displaying the shape of the dataset i.e. (no. of records, no. of attributes)\n",
    "df.shape"
   ]
  },
  {
   "cell_type": "code",
   "execution_count": 63,
   "id": "b37bc796",
   "metadata": {},
   "outputs": [],
   "source": [
    "# Converting '?' to NaN incase it is present in the dataset\n",
    "df.replace('?', np.nan, inplace=True)"
   ]
  },
  {
   "cell_type": "code",
   "execution_count": 64,
   "id": "54367a81-dbca-4b3a-bceb-d549b2410a2e",
   "metadata": {},
   "outputs": [
    {
     "data": {
      "text/plain": [
       "frog-eye-leaf-spot             40\n",
       "phytophthora-rot               40\n",
       "alternarialeaf-spot            40\n",
       "brown-spot                     40\n",
       "brown-stem-rot                 20\n",
       "anthracnose                    20\n",
       "diaporthe-stem-canker          10\n",
       "purple-seed-stain              10\n",
       "phyllosticta-leaf-spot         10\n",
       "bacterial-pustule              10\n",
       "charcoal-rot                   10\n",
       "bacterial-blight               10\n",
       "downy-mildew                   10\n",
       "powdery-mildew                 10\n",
       "rhizoctonia-root-rot           10\n",
       "diaporthe-pod-&-stem-blight     6\n",
       "cyst-nematode                   6\n",
       "herbicide-injury                4\n",
       "2-4-d-injury                    1\n",
       "Name: class, dtype: int64"
      ]
     },
     "execution_count": 64,
     "metadata": {},
     "output_type": "execute_result"
    }
   ],
   "source": [
    "# Checking the instance counts of the target attribute\n",
    "df['class'].value_counts()"
   ]
  },
  {
   "cell_type": "code",
   "execution_count": 65,
   "id": "b1990d3e-4aa9-4353-af80-f7d7ae658d02",
   "metadata": {},
   "outputs": [],
   "source": [
    "# Removing classes having <= 4 instances\n",
    "df = remove_class(df,'class')"
   ]
  },
  {
   "cell_type": "code",
   "execution_count": 66,
   "id": "5d3c878d",
   "metadata": {},
   "outputs": [],
   "source": [
    "# Encoding the attributes of the dataset\n",
    "df = encoding(df)"
   ]
  },
  {
   "cell_type": "code",
   "execution_count": 67,
   "id": "3de4147b",
   "metadata": {},
   "outputs": [],
   "source": [
    "# Imputing the missing values if any by using KNN Imputer\n",
    "df = imputation(df)"
   ]
  },
  {
   "cell_type": "code",
   "execution_count": 68,
   "id": "974c66b0",
   "metadata": {},
   "outputs": [],
   "source": [
    "# Separating dependent and independent variables\n",
    "X, y = separating(df, 'class')"
   ]
  },
  {
   "cell_type": "code",
   "execution_count": 69,
   "id": "b1044184-1146-4600-ba4f-09a35cd8d9a2",
   "metadata": {},
   "outputs": [],
   "source": [
    "# Handing class imbalance problem using SMOTEN\n",
    "X, y = oversampling(X,y)"
   ]
  },
  {
   "cell_type": "code",
   "execution_count": 70,
   "id": "8ee4d850-5f80-4543-a06a-2108c259c1d7",
   "metadata": {},
   "outputs": [
    {
     "name": "stdout",
     "output_type": "stream",
     "text": [
      "[0.8161764705882353, 0.7867647058823529, 0.7794117647058824, 0.7205882352941176, 0.7205882352941176, 0.7867647058823529, 0.7941176470588235, 0.8308823529411765, 0.6029411764705882, 0.5661764705882353, 0.6544117647058824, 0.6764705882352942, 0.7720588235294118, 0.7279411764705882, 0.6176470588235294, 0.6985294117647058, 0.7794117647058824, 0.7426470588235294, 0.6617647058823529, 0.7426470588235294, 0.6397058823529411, 0.6838235294117647, 0.7426470588235294, 0.4485294117647059, 0.8088235294117647, 0.8161764705882353, 0.7941176470588235, 0.5514705882352942, 0.6617647058823529, 0.7720588235294118, 0.7205882352941176, 0.6470588235294118, 0.6470588235294118, 0.6544117647058824, 0.7205882352941176, 0.7647058823529411, 0.7352941176470589, 0.7647058823529411, 0.6911764705882353, 0.8602941176470589, 0.7426470588235294, 0.7426470588235294, 0.625, 0.7058823529411765, 0.7279411764705882, 0.6102941176470589, 0.5294117647058824, 0.7794117647058824, 0.7426470588235294, 0.7352941176470589, 0.5441176470588235, 0.6029411764705882, 0.5882352941176471, 0.7352941176470589, 0.7058823529411765, 0.8676470588235294, 0.8676470588235294, 0.7205882352941176, 0.7794117647058824, 0.7426470588235294, 0.8014705882352942, 0.8897058823529411, 0.7647058823529411, 0.8235294117647058, 0.6617647058823529, 0.6544117647058824, 0.7352941176470589, 0.6838235294117647, 0.6911764705882353, 0.6176470588235294, 0.7426470588235294, 0.8308823529411765, 0.7867647058823529, 0.7426470588235294, 0.7647058823529411, 0.6691176470588235, 0.8455882352941176, 0.6544117647058824, 0.7058823529411765, 0.7205882352941176, 0.9117647058823529, 0.8088235294117647, 0.7279411764705882, 0.9044117647058824, 0.7647058823529411, 0.7058823529411765, 0.6764705882352942, 0.7794117647058824, 0.6617647058823529, 0.7058823529411765, 0.8308823529411765, 0.6985294117647058, 0.6102941176470589, 0.47794117647058826, 0.8529411764705882, 0.5514705882352942, 0.7132352941176471, 0.7132352941176471, 0.7205882352941176, 0.8308823529411765]\n",
      "Standard Deviation: 0.08941309499784372\n",
      "Mean: 0.7213235294117648\n"
     ]
    }
   ],
   "source": [
    "repetition(X,y)"
   ]
  },
  {
   "cell_type": "markdown",
   "id": "65710777-469d-45ad-9ba5-7cb8610770b9",
   "metadata": {},
   "source": [
    "# 8. Molecular Biology (Promoter Gene Sequences) Dataset"
   ]
  },
  {
   "cell_type": "code",
   "execution_count": 71,
   "id": "8c59ab06-b20c-454e-aa8a-f0bdbb380957",
   "metadata": {},
   "outputs": [],
   "source": [
    "# Loading the dataset\n",
    "df = pd.read_csv(\"datasets/promoters.csv\")"
   ]
  },
  {
   "cell_type": "code",
   "execution_count": 72,
   "id": "ab6f16ec-2a7a-47d3-9be6-20cddba369ad",
   "metadata": {},
   "outputs": [
    {
     "data": {
      "text/html": [
       "<div>\n",
       "<style scoped>\n",
       "    .dataframe tbody tr th:only-of-type {\n",
       "        vertical-align: middle;\n",
       "    }\n",
       "\n",
       "    .dataframe tbody tr th {\n",
       "        vertical-align: top;\n",
       "    }\n",
       "\n",
       "    .dataframe thead th {\n",
       "        text-align: right;\n",
       "    }\n",
       "</style>\n",
       "<table border=\"1\" class=\"dataframe\">\n",
       "  <thead>\n",
       "    <tr style=\"text-align: right;\">\n",
       "      <th></th>\n",
       "      <th>class</th>\n",
       "      <th>instance_name</th>\n",
       "      <th>sequence</th>\n",
       "    </tr>\n",
       "  </thead>\n",
       "  <tbody>\n",
       "    <tr>\n",
       "      <th>0</th>\n",
       "      <td>+</td>\n",
       "      <td>S10</td>\n",
       "      <td>\\t\\ttactagcaatacgcttgcgttcggtggttaagtatgtataat...</td>\n",
       "    </tr>\n",
       "    <tr>\n",
       "      <th>1</th>\n",
       "      <td>+</td>\n",
       "      <td>AMPC</td>\n",
       "      <td>\\t\\ttgctatcctgacagttgtcacgctgattggtgtcgttacaat...</td>\n",
       "    </tr>\n",
       "    <tr>\n",
       "      <th>2</th>\n",
       "      <td>+</td>\n",
       "      <td>AROH</td>\n",
       "      <td>\\t\\tgtactagagaactagtgcattagcttatttttttgttatcat...</td>\n",
       "    </tr>\n",
       "    <tr>\n",
       "      <th>3</th>\n",
       "      <td>+</td>\n",
       "      <td>DEOP2</td>\n",
       "      <td>\\taattgtgatgtgtatcgaagtgtgttgcggagtagatgttagaa...</td>\n",
       "    </tr>\n",
       "    <tr>\n",
       "      <th>4</th>\n",
       "      <td>+</td>\n",
       "      <td>LEU1_TRNA</td>\n",
       "      <td>\\ttcgataattaactattgacgaaaagctgaaaaccactagaatgc...</td>\n",
       "    </tr>\n",
       "  </tbody>\n",
       "</table>\n",
       "</div>"
      ],
      "text/plain": [
       "  class instance_name                                           sequence\n",
       "0     +           S10  \\t\\ttactagcaatacgcttgcgttcggtggttaagtatgtataat...\n",
       "1     +          AMPC  \\t\\ttgctatcctgacagttgtcacgctgattggtgtcgttacaat...\n",
       "2     +          AROH  \\t\\tgtactagagaactagtgcattagcttatttttttgttatcat...\n",
       "3     +         DEOP2  \\taattgtgatgtgtatcgaagtgtgttgcggagtagatgttagaa...\n",
       "4     +     LEU1_TRNA  \\ttcgataattaactattgacgaaaagctgaaaaccactagaatgc..."
      ]
     },
     "execution_count": 72,
     "metadata": {},
     "output_type": "execute_result"
    }
   ],
   "source": [
    "# Displaying the first five records of the dataset\n",
    "df.head()"
   ]
  },
  {
   "cell_type": "code",
   "execution_count": 73,
   "id": "69a66955-b8ea-4e1e-b722-437ba381492e",
   "metadata": {},
   "outputs": [],
   "source": [
    "# Formatting columns to create a proper dataset\n",
    "df['sequence'] = df['sequence'].apply(lambda x: x.replace('\\t',''))\n",
    "attributes = [str(i) for i in range(0,59)]\n",
    "df[attributes] = df['sequence'].str.split(pat='', expand=True)\n",
    "df.drop(['sequence','0','58'],axis=1,inplace=True)"
   ]
  },
  {
   "cell_type": "code",
   "execution_count": 74,
   "id": "8f137430-a799-4089-97c4-fc8cfc1ce63e",
   "metadata": {},
   "outputs": [
    {
     "data": {
      "text/html": [
       "<div>\n",
       "<style scoped>\n",
       "    .dataframe tbody tr th:only-of-type {\n",
       "        vertical-align: middle;\n",
       "    }\n",
       "\n",
       "    .dataframe tbody tr th {\n",
       "        vertical-align: top;\n",
       "    }\n",
       "\n",
       "    .dataframe thead th {\n",
       "        text-align: right;\n",
       "    }\n",
       "</style>\n",
       "<table border=\"1\" class=\"dataframe\">\n",
       "  <thead>\n",
       "    <tr style=\"text-align: right;\">\n",
       "      <th></th>\n",
       "      <th>class</th>\n",
       "      <th>instance_name</th>\n",
       "      <th>1</th>\n",
       "      <th>2</th>\n",
       "      <th>3</th>\n",
       "      <th>4</th>\n",
       "      <th>5</th>\n",
       "      <th>6</th>\n",
       "      <th>7</th>\n",
       "      <th>8</th>\n",
       "      <th>...</th>\n",
       "      <th>48</th>\n",
       "      <th>49</th>\n",
       "      <th>50</th>\n",
       "      <th>51</th>\n",
       "      <th>52</th>\n",
       "      <th>53</th>\n",
       "      <th>54</th>\n",
       "      <th>55</th>\n",
       "      <th>56</th>\n",
       "      <th>57</th>\n",
       "    </tr>\n",
       "  </thead>\n",
       "  <tbody>\n",
       "    <tr>\n",
       "      <th>0</th>\n",
       "      <td>+</td>\n",
       "      <td>S10</td>\n",
       "      <td>t</td>\n",
       "      <td>a</td>\n",
       "      <td>c</td>\n",
       "      <td>t</td>\n",
       "      <td>a</td>\n",
       "      <td>g</td>\n",
       "      <td>c</td>\n",
       "      <td>a</td>\n",
       "      <td>...</td>\n",
       "      <td>g</td>\n",
       "      <td>g</td>\n",
       "      <td>c</td>\n",
       "      <td>t</td>\n",
       "      <td>t</td>\n",
       "      <td>g</td>\n",
       "      <td>t</td>\n",
       "      <td>c</td>\n",
       "      <td>g</td>\n",
       "      <td>t</td>\n",
       "    </tr>\n",
       "    <tr>\n",
       "      <th>1</th>\n",
       "      <td>+</td>\n",
       "      <td>AMPC</td>\n",
       "      <td>t</td>\n",
       "      <td>g</td>\n",
       "      <td>c</td>\n",
       "      <td>t</td>\n",
       "      <td>a</td>\n",
       "      <td>t</td>\n",
       "      <td>c</td>\n",
       "      <td>c</td>\n",
       "      <td>...</td>\n",
       "      <td>g</td>\n",
       "      <td>c</td>\n",
       "      <td>a</td>\n",
       "      <td>t</td>\n",
       "      <td>c</td>\n",
       "      <td>g</td>\n",
       "      <td>c</td>\n",
       "      <td>c</td>\n",
       "      <td>a</td>\n",
       "      <td>a</td>\n",
       "    </tr>\n",
       "    <tr>\n",
       "      <th>2</th>\n",
       "      <td>+</td>\n",
       "      <td>AROH</td>\n",
       "      <td>g</td>\n",
       "      <td>t</td>\n",
       "      <td>a</td>\n",
       "      <td>c</td>\n",
       "      <td>t</td>\n",
       "      <td>a</td>\n",
       "      <td>g</td>\n",
       "      <td>a</td>\n",
       "      <td>...</td>\n",
       "      <td>c</td>\n",
       "      <td>c</td>\n",
       "      <td>a</td>\n",
       "      <td>c</td>\n",
       "      <td>c</td>\n",
       "      <td>c</td>\n",
       "      <td>g</td>\n",
       "      <td>g</td>\n",
       "      <td>c</td>\n",
       "      <td>g</td>\n",
       "    </tr>\n",
       "    <tr>\n",
       "      <th>3</th>\n",
       "      <td>+</td>\n",
       "      <td>DEOP2</td>\n",
       "      <td>a</td>\n",
       "      <td>a</td>\n",
       "      <td>t</td>\n",
       "      <td>t</td>\n",
       "      <td>g</td>\n",
       "      <td>t</td>\n",
       "      <td>g</td>\n",
       "      <td>a</td>\n",
       "      <td>...</td>\n",
       "      <td>t</td>\n",
       "      <td>a</td>\n",
       "      <td>a</td>\n",
       "      <td>c</td>\n",
       "      <td>a</td>\n",
       "      <td>a</td>\n",
       "      <td>a</td>\n",
       "      <td>c</td>\n",
       "      <td>t</td>\n",
       "      <td>c</td>\n",
       "    </tr>\n",
       "    <tr>\n",
       "      <th>4</th>\n",
       "      <td>+</td>\n",
       "      <td>LEU1_TRNA</td>\n",
       "      <td>t</td>\n",
       "      <td>c</td>\n",
       "      <td>g</td>\n",
       "      <td>a</td>\n",
       "      <td>t</td>\n",
       "      <td>a</td>\n",
       "      <td>a</td>\n",
       "      <td>t</td>\n",
       "      <td>...</td>\n",
       "      <td>t</td>\n",
       "      <td>c</td>\n",
       "      <td>c</td>\n",
       "      <td>g</td>\n",
       "      <td>t</td>\n",
       "      <td>g</td>\n",
       "      <td>g</td>\n",
       "      <td>t</td>\n",
       "      <td>a</td>\n",
       "      <td>g</td>\n",
       "    </tr>\n",
       "  </tbody>\n",
       "</table>\n",
       "<p>5 rows × 59 columns</p>\n",
       "</div>"
      ],
      "text/plain": [
       "  class instance_name  1  2  3  4  5  6  7  8  ... 48 49 50 51 52 53 54 55 56  \\\n",
       "0     +           S10  t  a  c  t  a  g  c  a  ...  g  g  c  t  t  g  t  c  g   \n",
       "1     +          AMPC  t  g  c  t  a  t  c  c  ...  g  c  a  t  c  g  c  c  a   \n",
       "2     +          AROH  g  t  a  c  t  a  g  a  ...  c  c  a  c  c  c  g  g  c   \n",
       "3     +         DEOP2  a  a  t  t  g  t  g  a  ...  t  a  a  c  a  a  a  c  t   \n",
       "4     +     LEU1_TRNA  t  c  g  a  t  a  a  t  ...  t  c  c  g  t  g  g  t  a   \n",
       "\n",
       "  57  \n",
       "0  t  \n",
       "1  a  \n",
       "2  g  \n",
       "3  c  \n",
       "4  g  \n",
       "\n",
       "[5 rows x 59 columns]"
      ]
     },
     "execution_count": 74,
     "metadata": {},
     "output_type": "execute_result"
    }
   ],
   "source": [
    "# Displaying the first five records of the dataset\n",
    "df.head()"
   ]
  },
  {
   "cell_type": "code",
   "execution_count": 75,
   "id": "46d18f2c-e7bc-4938-9495-ce48fbb7cf8d",
   "metadata": {},
   "outputs": [
    {
     "data": {
      "text/plain": [
       "(106, 59)"
      ]
     },
     "execution_count": 75,
     "metadata": {},
     "output_type": "execute_result"
    }
   ],
   "source": [
    "# Displaying the shape of the dataset i.e. (no. of records, no. of attributes)\n",
    "df.shape"
   ]
  },
  {
   "cell_type": "code",
   "execution_count": 76,
   "id": "c02d0e86-c1f8-4ac3-92f0-e6ae19934c26",
   "metadata": {},
   "outputs": [],
   "source": [
    "# Converting '?' to NaN incase it is present in the dataset\n",
    "df.replace('?', np.nan, inplace=True)"
   ]
  },
  {
   "cell_type": "code",
   "execution_count": 77,
   "id": "73809496-965a-46d1-81bd-582ac1da5a40",
   "metadata": {},
   "outputs": [
    {
     "data": {
      "text/plain": [
       "+    53\n",
       "-    53\n",
       "Name: class, dtype: int64"
      ]
     },
     "execution_count": 77,
     "metadata": {},
     "output_type": "execute_result"
    }
   ],
   "source": [
    "# Checking the instance counts of the target attribute\n",
    "df['class'].value_counts()"
   ]
  },
  {
   "cell_type": "code",
   "execution_count": 78,
   "id": "791a0622-42e7-4213-ab49-4ef0a5dfbb72",
   "metadata": {},
   "outputs": [],
   "source": [
    "# Encoding the attributes of the dataset\n",
    "df = encoding(df)"
   ]
  },
  {
   "cell_type": "code",
   "execution_count": 79,
   "id": "24fa0ebf-c384-4612-94ca-690d95007792",
   "metadata": {},
   "outputs": [],
   "source": [
    "# Imputing the missing values if any by using KNN Imputer\n",
    "df = imputation(df)"
   ]
  },
  {
   "cell_type": "code",
   "execution_count": 80,
   "id": "efb8b9f5-da79-453b-868e-ab76606bbba0",
   "metadata": {},
   "outputs": [],
   "source": [
    "# Separating dependent and independent variables\n",
    "X, y = separating(df, 'class')"
   ]
  },
  {
   "cell_type": "code",
   "execution_count": 81,
   "id": "f529a16b-47e2-49a2-8a61-60941b821d6f",
   "metadata": {},
   "outputs": [
    {
     "name": "stdout",
     "output_type": "stream",
     "text": [
      "[0.5454545454545454, 0.3181818181818182, 0.7727272727272727, 0.6363636363636364, 0.8636363636363636, 0.7727272727272727, 0.8181818181818182, 0.45454545454545453, 0.8636363636363636, 0.5909090909090909, 0.9545454545454546, 0.7727272727272727, 0.6363636363636364, 0.8181818181818182, 0.5454545454545454, 0.6818181818181818, 0.9090909090909091, 0.5909090909090909, 0.8636363636363636, 0.6363636363636364, 0.7727272727272727, 0.8181818181818182, 0.7727272727272727, 0.5454545454545454, 0.8181818181818182, 0.2727272727272727, 0.8636363636363636, 0.5454545454545454, 0.8181818181818182, 0.36363636363636365, 0.6363636363636364, 0.9545454545454546, 0.8181818181818182, 0.45454545454545453, 0.9090909090909091, 0.7272727272727273, 0.7727272727272727, 0.5909090909090909, 0.6363636363636364, 0.8181818181818182, 1.0, 0.7727272727272727, 0.7727272727272727, 0.8181818181818182, 0.9545454545454546, 0.6818181818181818, 0.8181818181818182, 1.0, 0.9090909090909091, 0.8636363636363636, 0.8636363636363636, 0.45454545454545453, 0.9545454545454546, 0.7272727272727273, 0.8181818181818182, 0.6363636363636364, 0.8636363636363636, 0.8636363636363636, 0.45454545454545453, 0.9090909090909091, 0.9545454545454546, 0.8181818181818182, 0.2727272727272727, 0.7272727272727273, 0.9090909090909091, 0.2727272727272727, 0.9545454545454546, 0.8636363636363636, 0.5454545454545454, 0.5909090909090909, 0.7727272727272727, 0.4090909090909091, 0.7727272727272727, 0.9545454545454546, 0.5909090909090909, 0.5454545454545454, 0.9545454545454546, 0.6818181818181818, 0.8181818181818182, 0.9545454545454546, 0.5454545454545454, 0.7272727272727273, 0.7272727272727273, 0.9545454545454546, 0.5909090909090909, 0.36363636363636365, 0.7272727272727273, 0.9090909090909091, 0.36363636363636365, 0.9545454545454546, 0.7272727272727273, 0.8181818181818182, 0.5909090909090909, 0.3181818181818182, 0.8636363636363636, 0.45454545454545453, 0.8181818181818182, 0.5454545454545454, 0.7727272727272727, 0.7727272727272727]\n",
      "Standard Deviation: 0.18738302136056745\n",
      "Mean: 0.7199999999999999\n"
     ]
    }
   ],
   "source": [
    "repetition(X,y)"
   ]
  },
  {
   "cell_type": "markdown",
   "id": "e9397ff2",
   "metadata": {},
   "source": [
    "# 9. Balance Scale Dataset"
   ]
  },
  {
   "cell_type": "code",
   "execution_count": 82,
   "id": "c1512979",
   "metadata": {},
   "outputs": [],
   "source": [
    "# Loading the dataset\n",
    "df = pd.read_csv(\"datasets/balance-scale.csv\")"
   ]
  },
  {
   "cell_type": "code",
   "execution_count": 83,
   "id": "92df023e",
   "metadata": {},
   "outputs": [
    {
     "data": {
      "text/html": [
       "<div>\n",
       "<style scoped>\n",
       "    .dataframe tbody tr th:only-of-type {\n",
       "        vertical-align: middle;\n",
       "    }\n",
       "\n",
       "    .dataframe tbody tr th {\n",
       "        vertical-align: top;\n",
       "    }\n",
       "\n",
       "    .dataframe thead th {\n",
       "        text-align: right;\n",
       "    }\n",
       "</style>\n",
       "<table border=\"1\" class=\"dataframe\">\n",
       "  <thead>\n",
       "    <tr style=\"text-align: right;\">\n",
       "      <th></th>\n",
       "      <th>class</th>\n",
       "      <th>left-weight</th>\n",
       "      <th>left-distance</th>\n",
       "      <th>right-weight</th>\n",
       "      <th>right-distance</th>\n",
       "    </tr>\n",
       "  </thead>\n",
       "  <tbody>\n",
       "    <tr>\n",
       "      <th>0</th>\n",
       "      <td>B</td>\n",
       "      <td>1</td>\n",
       "      <td>1</td>\n",
       "      <td>1</td>\n",
       "      <td>1</td>\n",
       "    </tr>\n",
       "    <tr>\n",
       "      <th>1</th>\n",
       "      <td>R</td>\n",
       "      <td>1</td>\n",
       "      <td>1</td>\n",
       "      <td>1</td>\n",
       "      <td>2</td>\n",
       "    </tr>\n",
       "    <tr>\n",
       "      <th>2</th>\n",
       "      <td>R</td>\n",
       "      <td>1</td>\n",
       "      <td>1</td>\n",
       "      <td>1</td>\n",
       "      <td>3</td>\n",
       "    </tr>\n",
       "    <tr>\n",
       "      <th>3</th>\n",
       "      <td>R</td>\n",
       "      <td>1</td>\n",
       "      <td>1</td>\n",
       "      <td>1</td>\n",
       "      <td>4</td>\n",
       "    </tr>\n",
       "    <tr>\n",
       "      <th>4</th>\n",
       "      <td>R</td>\n",
       "      <td>1</td>\n",
       "      <td>1</td>\n",
       "      <td>1</td>\n",
       "      <td>5</td>\n",
       "    </tr>\n",
       "  </tbody>\n",
       "</table>\n",
       "</div>"
      ],
      "text/plain": [
       "  class  left-weight  left-distance  right-weight  right-distance\n",
       "0     B            1              1             1               1\n",
       "1     R            1              1             1               2\n",
       "2     R            1              1             1               3\n",
       "3     R            1              1             1               4\n",
       "4     R            1              1             1               5"
      ]
     },
     "execution_count": 83,
     "metadata": {},
     "output_type": "execute_result"
    }
   ],
   "source": [
    "# Displaying the first five records of the dataset\n",
    "df.head()"
   ]
  },
  {
   "cell_type": "code",
   "execution_count": 84,
   "id": "9c6f4352",
   "metadata": {},
   "outputs": [
    {
     "data": {
      "text/plain": [
       "(625, 5)"
      ]
     },
     "execution_count": 84,
     "metadata": {},
     "output_type": "execute_result"
    }
   ],
   "source": [
    "# Displaying the shape of the dataset i.e. (no. of records, no. of attributes)\n",
    "df.shape"
   ]
  },
  {
   "cell_type": "code",
   "execution_count": 85,
   "id": "3535396b",
   "metadata": {},
   "outputs": [],
   "source": [
    "# Converting '?' to NaN incase it is present in the dataset\n",
    "df.replace('?', np.nan, inplace=True)"
   ]
  },
  {
   "cell_type": "code",
   "execution_count": 86,
   "id": "918084e9-22b5-4093-9637-749c5c03797e",
   "metadata": {},
   "outputs": [
    {
     "data": {
      "text/plain": [
       "R    288\n",
       "L    288\n",
       "B     49\n",
       "Name: class, dtype: int64"
      ]
     },
     "execution_count": 86,
     "metadata": {},
     "output_type": "execute_result"
    }
   ],
   "source": [
    "# Checking the instance counts of the target attribute\n",
    "df['class'].value_counts()"
   ]
  },
  {
   "cell_type": "code",
   "execution_count": 87,
   "id": "9cc1888f",
   "metadata": {},
   "outputs": [],
   "source": [
    "# Encoding the attributes of the dataset\n",
    "df = encoding(df)"
   ]
  },
  {
   "cell_type": "code",
   "execution_count": 88,
   "id": "611ab596",
   "metadata": {},
   "outputs": [],
   "source": [
    "# Imputing the missing values if any by using KNN Imputer\n",
    "df = imputation(df)"
   ]
  },
  {
   "cell_type": "code",
   "execution_count": 89,
   "id": "cd5cb1f4",
   "metadata": {},
   "outputs": [],
   "source": [
    "# Separating dependent and independent variables\n",
    "X, y = separating(df, 'class')"
   ]
  },
  {
   "cell_type": "code",
   "execution_count": 90,
   "id": "49a3910c-6668-476b-8676-d1c6ffa232a2",
   "metadata": {},
   "outputs": [
    {
     "name": "stdout",
     "output_type": "stream",
     "text": [
      "[0.872, 0.904, 0.88, 0.904, 0.92, 0.896, 0.816, 0.912, 0.872, 0.904, 0.952, 0.904, 0.968, 0.888, 0.896, 0.904, 0.88, 0.856, 0.888, 0.912, 0.88, 0.88, 0.912, 0.936, 0.896, 0.936, 0.944, 0.896, 0.88, 0.872, 0.872, 0.88, 0.896, 0.872, 0.904, 0.912, 0.872, 0.872, 0.936, 0.928, 0.888, 0.912, 0.896, 0.864, 0.896, 0.896, 0.88, 0.88, 0.88, 0.864, 0.856, 0.872, 0.88, 0.912, 0.856, 0.896, 0.904, 0.888, 0.904, 0.904, 0.912, 0.912, 0.856, 0.912, 0.928, 0.88, 0.896, 0.912, 0.896, 0.904, 0.92, 0.936, 0.88, 0.904, 0.88, 0.896, 0.896, 0.904, 0.888, 0.856, 0.936, 0.912, 0.888, 0.88, 0.832, 0.88, 0.896, 0.832, 0.872, 0.904, 0.904, 0.92, 0.888, 0.888, 0.92, 0.808, 0.912, 0.896, 0.88, 0.928]\n",
      "Standard Deviation: 0.02638981621762457\n",
      "Mean: 0.89376\n"
     ]
    }
   ],
   "source": [
    "repetition(X,y)"
   ]
  },
  {
   "cell_type": "markdown",
   "id": "5fd02e19-1559-4920-bf20-a41ad54c5f6a",
   "metadata": {},
   "source": [
    "# 10. Lenses Dataset"
   ]
  },
  {
   "cell_type": "code",
   "execution_count": 91,
   "id": "9f9bdadb-fcf0-48e2-88f1-a6ffbb6902f0",
   "metadata": {},
   "outputs": [],
   "source": [
    "# Loading the dataset\n",
    "df = pd.read_csv(\"datasets/lenses.csv\", delimiter=\"  \", engine=\"python\")"
   ]
  },
  {
   "cell_type": "code",
   "execution_count": 92,
   "id": "00de2de4-d5b0-41b7-b238-b516b80fa0a0",
   "metadata": {},
   "outputs": [
    {
     "data": {
      "text/html": [
       "<div>\n",
       "<style scoped>\n",
       "    .dataframe tbody tr th:only-of-type {\n",
       "        vertical-align: middle;\n",
       "    }\n",
       "\n",
       "    .dataframe tbody tr th {\n",
       "        vertical-align: top;\n",
       "    }\n",
       "\n",
       "    .dataframe thead th {\n",
       "        text-align: right;\n",
       "    }\n",
       "</style>\n",
       "<table border=\"1\" class=\"dataframe\">\n",
       "  <thead>\n",
       "    <tr style=\"text-align: right;\">\n",
       "      <th></th>\n",
       "      <th>class</th>\n",
       "      <th>age</th>\n",
       "      <th>spectacle_prescription</th>\n",
       "      <th>astigmatic</th>\n",
       "      <th>tear_production_rate</th>\n",
       "    </tr>\n",
       "  </thead>\n",
       "  <tbody>\n",
       "    <tr>\n",
       "      <th>1</th>\n",
       "      <td>1</td>\n",
       "      <td>1</td>\n",
       "      <td>1</td>\n",
       "      <td>1</td>\n",
       "      <td>3.0</td>\n",
       "    </tr>\n",
       "    <tr>\n",
       "      <th>2</th>\n",
       "      <td>1</td>\n",
       "      <td>1</td>\n",
       "      <td>1</td>\n",
       "      <td>2</td>\n",
       "      <td>2.0</td>\n",
       "    </tr>\n",
       "    <tr>\n",
       "      <th>3</th>\n",
       "      <td>1</td>\n",
       "      <td>1</td>\n",
       "      <td>2</td>\n",
       "      <td>1</td>\n",
       "      <td>3.0</td>\n",
       "    </tr>\n",
       "    <tr>\n",
       "      <th>4</th>\n",
       "      <td>1</td>\n",
       "      <td>1</td>\n",
       "      <td>2</td>\n",
       "      <td>2</td>\n",
       "      <td>1.0</td>\n",
       "    </tr>\n",
       "    <tr>\n",
       "      <th>5</th>\n",
       "      <td>1</td>\n",
       "      <td>2</td>\n",
       "      <td>1</td>\n",
       "      <td>1</td>\n",
       "      <td>3.0</td>\n",
       "    </tr>\n",
       "  </tbody>\n",
       "</table>\n",
       "</div>"
      ],
      "text/plain": [
       "   class  age  spectacle_prescription  astigmatic  tear_production_rate\n",
       "1      1    1                       1           1                   3.0\n",
       "2      1    1                       1           2                   2.0\n",
       "3      1    1                       2           1                   3.0\n",
       "4      1    1                       2           2                   1.0\n",
       "5      1    2                       1           1                   3.0"
      ]
     },
     "execution_count": 92,
     "metadata": {},
     "output_type": "execute_result"
    }
   ],
   "source": [
    "# Displaying the first five records of the dataset\n",
    "df.head()"
   ]
  },
  {
   "cell_type": "code",
   "execution_count": 93,
   "id": "217391c1-bbb2-4a4c-b09b-b259fd51c6f5",
   "metadata": {},
   "outputs": [
    {
     "data": {
      "text/plain": [
       "(24, 5)"
      ]
     },
     "execution_count": 93,
     "metadata": {},
     "output_type": "execute_result"
    }
   ],
   "source": [
    "# Displaying the shape of the dataset i.e. (no. of records, no. of attributes)\n",
    "df.shape"
   ]
  },
  {
   "cell_type": "code",
   "execution_count": 94,
   "id": "26513926-685f-44f7-9b67-8e1267caff96",
   "metadata": {},
   "outputs": [],
   "source": [
    "# Converting '?' to NaN incase it is present in the dataset\n",
    "df.replace('?', np.nan, inplace=True)"
   ]
  },
  {
   "cell_type": "code",
   "execution_count": 95,
   "id": "c0544e39-7890-4e12-8766-a901bf59589f",
   "metadata": {},
   "outputs": [
    {
     "data": {
      "text/plain": [
       "1    15\n",
       "2     9\n",
       "Name: class, dtype: int64"
      ]
     },
     "execution_count": 95,
     "metadata": {},
     "output_type": "execute_result"
    }
   ],
   "source": [
    "# Checking the instance counts of the target attribute\n",
    "df['class'].value_counts()"
   ]
  },
  {
   "cell_type": "code",
   "execution_count": 96,
   "id": "8c7e3a42-c26f-44b8-a191-ec837b88155e",
   "metadata": {},
   "outputs": [],
   "source": [
    "# Encoding the attributes of the dataset\n",
    "df = encoding(df)"
   ]
  },
  {
   "cell_type": "code",
   "execution_count": 97,
   "id": "cf060a98-b640-4baa-b750-7fd00e3ff00a",
   "metadata": {},
   "outputs": [],
   "source": [
    "# Imputing the missing values if any by using KNN Imputer\n",
    "df = imputation(df)"
   ]
  },
  {
   "cell_type": "code",
   "execution_count": 98,
   "id": "67ae96aa-4548-4010-b063-e12b21ba9117",
   "metadata": {},
   "outputs": [],
   "source": [
    "# Separating dependent and independent variables\n",
    "X, y = separating(df, 'class')"
   ]
  },
  {
   "cell_type": "code",
   "execution_count": 99,
   "id": "e138fa45-23a4-49c6-b2fe-1e11874a9113",
   "metadata": {},
   "outputs": [
    {
     "name": "stdout",
     "output_type": "stream",
     "text": [
      "[0.4, 0.4, 0.4, 0.2, 0.4, 0.6, 0.6, 0.8, 0.8, 0.4, 0.6, 0.6, 0.6, 0.6, 0.4, 0.6, 0.4, 0.6, 0.4, 0.4, 0.6, 0.4, 0.4, 0.2, 0.6, 0.4, 0.2, 0.4, 0.6, 0.6, 0.6, 0.6, 0.4, 0.6, 0.6, 0.8, 0.4, 0.8, 0.2, 0.6, 0.2, 0.6, 0.4, 0.4, 0.6, 0.4, 0.6, 0.8, 0.4, 0.6, 0.4, 0.4, 0.4, 0.4, 0.4, 0.8, 0.4, 0.6, 0.4, 0.4, 0.8, 0.4, 0.4, 0.4, 0.6, 0.8, 0.4, 0.6, 0.2, 0.6, 0.4, 0.6, 0.6, 0.4, 0.8, 0.6, 0.6, 0.4, 0.4, 0.8, 0.4, 0.6, 0.8, 0.2, 0.8, 0.4, 0.6, 0.8, 0.4, 0.6, 0.4, 0.8, 0.6, 0.8, 0.6, 0.2, 0.6, 0.2, 0.6, 0.6]\n",
      "Standard Deviation: 0.1701293625450939\n",
      "Mean: 0.516\n"
     ]
    }
   ],
   "source": [
    "repetition(X,y)"
   ]
  },
  {
   "cell_type": "markdown",
   "id": "b2e5092f",
   "metadata": {},
   "source": [
    "# 11. Molecular Biology (Splice-junction Gene Sequences) Dataset"
   ]
  },
  {
   "cell_type": "code",
   "execution_count": 100,
   "id": "0208fc14",
   "metadata": {},
   "outputs": [],
   "source": [
    "# Loading the dataset\n",
    "df = pd.read_csv(\"datasets/splice.csv\")"
   ]
  },
  {
   "cell_type": "code",
   "execution_count": 101,
   "id": "b3ce340e",
   "metadata": {
    "scrolled": true
   },
   "outputs": [
    {
     "data": {
      "text/html": [
       "<div>\n",
       "<style scoped>\n",
       "    .dataframe tbody tr th:only-of-type {\n",
       "        vertical-align: middle;\n",
       "    }\n",
       "\n",
       "    .dataframe tbody tr th {\n",
       "        vertical-align: top;\n",
       "    }\n",
       "\n",
       "    .dataframe thead th {\n",
       "        text-align: right;\n",
       "    }\n",
       "</style>\n",
       "<table border=\"1\" class=\"dataframe\">\n",
       "  <thead>\n",
       "    <tr style=\"text-align: right;\">\n",
       "      <th></th>\n",
       "      <th>class</th>\n",
       "      <th>instance_name</th>\n",
       "      <th>sequence</th>\n",
       "    </tr>\n",
       "  </thead>\n",
       "  <tbody>\n",
       "    <tr>\n",
       "      <th>0</th>\n",
       "      <td>EI</td>\n",
       "      <td>ATRINS-DONOR-521</td>\n",
       "      <td>CCAGCTGCATCACAGGAGGCCAGCGAGCAGG...</td>\n",
       "    </tr>\n",
       "    <tr>\n",
       "      <th>1</th>\n",
       "      <td>EI</td>\n",
       "      <td>ATRINS-DONOR-905</td>\n",
       "      <td>AGACCCGCCGGGAGGCGGAGGACCTGCAGGG...</td>\n",
       "    </tr>\n",
       "    <tr>\n",
       "      <th>2</th>\n",
       "      <td>EI</td>\n",
       "      <td>BABAPOE-DONOR-30</td>\n",
       "      <td>GAGGTGAAGGACGTCCTTCCCCAGGAGCCGG...</td>\n",
       "    </tr>\n",
       "    <tr>\n",
       "      <th>3</th>\n",
       "      <td>EI</td>\n",
       "      <td>BABAPOE-DONOR-867</td>\n",
       "      <td>GGGCTGCGTTGCTGGTCACATTCCTGGCAGGT...</td>\n",
       "    </tr>\n",
       "    <tr>\n",
       "      <th>4</th>\n",
       "      <td>EI</td>\n",
       "      <td>BABAPOE-DONOR-2817</td>\n",
       "      <td>GCTCAGCCCCCAGGTCACCCAGGAACTGACGTG...</td>\n",
       "    </tr>\n",
       "  </tbody>\n",
       "</table>\n",
       "</div>"
      ],
      "text/plain": [
       "  class           instance_name  \\\n",
       "0    EI        ATRINS-DONOR-521   \n",
       "1    EI        ATRINS-DONOR-905   \n",
       "2    EI        BABAPOE-DONOR-30   \n",
       "3    EI       BABAPOE-DONOR-867   \n",
       "4    EI      BABAPOE-DONOR-2817   \n",
       "\n",
       "                                            sequence  \n",
       "0                 CCAGCTGCATCACAGGAGGCCAGCGAGCAGG...  \n",
       "1                 AGACCCGCCGGGAGGCGGAGGACCTGCAGGG...  \n",
       "2                 GAGGTGAAGGACGTCCTTCCCCAGGAGCCGG...  \n",
       "3                GGGCTGCGTTGCTGGTCACATTCCTGGCAGGT...  \n",
       "4               GCTCAGCCCCCAGGTCACCCAGGAACTGACGTG...  "
      ]
     },
     "execution_count": 101,
     "metadata": {},
     "output_type": "execute_result"
    }
   ],
   "source": [
    "# Displaying the first five records of the dataset\n",
    "df.head()"
   ]
  },
  {
   "cell_type": "code",
   "execution_count": 102,
   "id": "3b65a42d",
   "metadata": {},
   "outputs": [],
   "source": [
    "# Formatting columns to create a proper dataset\n",
    "df['sequence'] = df['sequence'].apply(lambda x: x.replace(' ',''))\n",
    "attributes = [str(i) for i in range(0,62)]\n",
    "df[attributes] = df['sequence'].str.split(pat='', expand=True)\n",
    "df.drop(['sequence','0','61'],axis=1,inplace=True)"
   ]
  },
  {
   "cell_type": "code",
   "execution_count": 103,
   "id": "19c55e9c",
   "metadata": {},
   "outputs": [],
   "source": [
    "# Dropping unwanted columns\n",
    "df.drop(['instance_name'], axis=1, inplace=True)"
   ]
  },
  {
   "cell_type": "code",
   "execution_count": 104,
   "id": "fb98231b",
   "metadata": {},
   "outputs": [
    {
     "data": {
      "text/html": [
       "<div>\n",
       "<style scoped>\n",
       "    .dataframe tbody tr th:only-of-type {\n",
       "        vertical-align: middle;\n",
       "    }\n",
       "\n",
       "    .dataframe tbody tr th {\n",
       "        vertical-align: top;\n",
       "    }\n",
       "\n",
       "    .dataframe thead th {\n",
       "        text-align: right;\n",
       "    }\n",
       "</style>\n",
       "<table border=\"1\" class=\"dataframe\">\n",
       "  <thead>\n",
       "    <tr style=\"text-align: right;\">\n",
       "      <th></th>\n",
       "      <th>class</th>\n",
       "      <th>1</th>\n",
       "      <th>2</th>\n",
       "      <th>3</th>\n",
       "      <th>4</th>\n",
       "      <th>5</th>\n",
       "      <th>6</th>\n",
       "      <th>7</th>\n",
       "      <th>8</th>\n",
       "      <th>9</th>\n",
       "      <th>...</th>\n",
       "      <th>51</th>\n",
       "      <th>52</th>\n",
       "      <th>53</th>\n",
       "      <th>54</th>\n",
       "      <th>55</th>\n",
       "      <th>56</th>\n",
       "      <th>57</th>\n",
       "      <th>58</th>\n",
       "      <th>59</th>\n",
       "      <th>60</th>\n",
       "    </tr>\n",
       "  </thead>\n",
       "  <tbody>\n",
       "    <tr>\n",
       "      <th>0</th>\n",
       "      <td>EI</td>\n",
       "      <td>C</td>\n",
       "      <td>C</td>\n",
       "      <td>A</td>\n",
       "      <td>G</td>\n",
       "      <td>C</td>\n",
       "      <td>T</td>\n",
       "      <td>G</td>\n",
       "      <td>C</td>\n",
       "      <td>A</td>\n",
       "      <td>...</td>\n",
       "      <td>A</td>\n",
       "      <td>G</td>\n",
       "      <td>C</td>\n",
       "      <td>C</td>\n",
       "      <td>A</td>\n",
       "      <td>G</td>\n",
       "      <td>T</td>\n",
       "      <td>C</td>\n",
       "      <td>T</td>\n",
       "      <td>G</td>\n",
       "    </tr>\n",
       "    <tr>\n",
       "      <th>1</th>\n",
       "      <td>EI</td>\n",
       "      <td>A</td>\n",
       "      <td>G</td>\n",
       "      <td>A</td>\n",
       "      <td>C</td>\n",
       "      <td>C</td>\n",
       "      <td>C</td>\n",
       "      <td>G</td>\n",
       "      <td>C</td>\n",
       "      <td>C</td>\n",
       "      <td>...</td>\n",
       "      <td>G</td>\n",
       "      <td>T</td>\n",
       "      <td>G</td>\n",
       "      <td>C</td>\n",
       "      <td>C</td>\n",
       "      <td>C</td>\n",
       "      <td>C</td>\n",
       "      <td>C</td>\n",
       "      <td>G</td>\n",
       "      <td>C</td>\n",
       "    </tr>\n",
       "    <tr>\n",
       "      <th>2</th>\n",
       "      <td>EI</td>\n",
       "      <td>G</td>\n",
       "      <td>A</td>\n",
       "      <td>G</td>\n",
       "      <td>G</td>\n",
       "      <td>T</td>\n",
       "      <td>G</td>\n",
       "      <td>A</td>\n",
       "      <td>A</td>\n",
       "      <td>G</td>\n",
       "      <td>...</td>\n",
       "      <td>C</td>\n",
       "      <td>A</td>\n",
       "      <td>C</td>\n",
       "      <td>G</td>\n",
       "      <td>G</td>\n",
       "      <td>G</td>\n",
       "      <td>G</td>\n",
       "      <td>A</td>\n",
       "      <td>T</td>\n",
       "      <td>G</td>\n",
       "    </tr>\n",
       "    <tr>\n",
       "      <th>3</th>\n",
       "      <td>EI</td>\n",
       "      <td>G</td>\n",
       "      <td>G</td>\n",
       "      <td>G</td>\n",
       "      <td>C</td>\n",
       "      <td>T</td>\n",
       "      <td>G</td>\n",
       "      <td>C</td>\n",
       "      <td>G</td>\n",
       "      <td>T</td>\n",
       "      <td>...</td>\n",
       "      <td>G</td>\n",
       "      <td>G</td>\n",
       "      <td>T</td>\n",
       "      <td>T</td>\n",
       "      <td>T</td>\n",
       "      <td>T</td>\n",
       "      <td>C</td>\n",
       "      <td>C</td>\n",
       "      <td>C</td>\n",
       "      <td>C</td>\n",
       "    </tr>\n",
       "    <tr>\n",
       "      <th>4</th>\n",
       "      <td>EI</td>\n",
       "      <td>G</td>\n",
       "      <td>C</td>\n",
       "      <td>T</td>\n",
       "      <td>C</td>\n",
       "      <td>A</td>\n",
       "      <td>G</td>\n",
       "      <td>C</td>\n",
       "      <td>C</td>\n",
       "      <td>C</td>\n",
       "      <td>...</td>\n",
       "      <td>C</td>\n",
       "      <td>C</td>\n",
       "      <td>T</td>\n",
       "      <td>T</td>\n",
       "      <td>G</td>\n",
       "      <td>A</td>\n",
       "      <td>C</td>\n",
       "      <td>C</td>\n",
       "      <td>C</td>\n",
       "      <td>T</td>\n",
       "    </tr>\n",
       "  </tbody>\n",
       "</table>\n",
       "<p>5 rows × 61 columns</p>\n",
       "</div>"
      ],
      "text/plain": [
       "  class  1  2  3  4  5  6  7  8  9  ... 51 52 53 54 55 56 57 58 59 60\n",
       "0    EI  C  C  A  G  C  T  G  C  A  ...  A  G  C  C  A  G  T  C  T  G\n",
       "1    EI  A  G  A  C  C  C  G  C  C  ...  G  T  G  C  C  C  C  C  G  C\n",
       "2    EI  G  A  G  G  T  G  A  A  G  ...  C  A  C  G  G  G  G  A  T  G\n",
       "3    EI  G  G  G  C  T  G  C  G  T  ...  G  G  T  T  T  T  C  C  C  C\n",
       "4    EI  G  C  T  C  A  G  C  C  C  ...  C  C  T  T  G  A  C  C  C  T\n",
       "\n",
       "[5 rows x 61 columns]"
      ]
     },
     "execution_count": 104,
     "metadata": {},
     "output_type": "execute_result"
    }
   ],
   "source": [
    "# Displaying the first five records of the dataset\n",
    "df.head()"
   ]
  },
  {
   "cell_type": "code",
   "execution_count": 105,
   "id": "74fd1ae2",
   "metadata": {},
   "outputs": [
    {
     "data": {
      "text/plain": [
       "(3190, 61)"
      ]
     },
     "execution_count": 105,
     "metadata": {},
     "output_type": "execute_result"
    }
   ],
   "source": [
    "# Displaying the shape of the dataset i.e. (no. of records, no. of attributes)\n",
    "df.shape"
   ]
  },
  {
   "cell_type": "code",
   "execution_count": 106,
   "id": "a353d62e",
   "metadata": {},
   "outputs": [],
   "source": [
    "# Converting '?' to NaN incase it is present in the dataset\n",
    "df.replace('?', np.nan, inplace=True)"
   ]
  },
  {
   "cell_type": "code",
   "execution_count": 107,
   "id": "c08e2aa9-2c15-4859-9d3e-8c6c262e3409",
   "metadata": {},
   "outputs": [
    {
     "data": {
      "text/plain": [
       "N     1655\n",
       "IE     768\n",
       "EI     767\n",
       "Name: class, dtype: int64"
      ]
     },
     "execution_count": 107,
     "metadata": {},
     "output_type": "execute_result"
    }
   ],
   "source": [
    "# Checking the instance counts of the target attribute\n",
    "df['class'].value_counts()"
   ]
  },
  {
   "cell_type": "code",
   "execution_count": 108,
   "id": "22ee765d",
   "metadata": {},
   "outputs": [],
   "source": [
    "# Encoding the attributes of the dataset\n",
    "df = encoding(df)"
   ]
  },
  {
   "cell_type": "code",
   "execution_count": 109,
   "id": "b02f09cf",
   "metadata": {},
   "outputs": [],
   "source": [
    "# Imputing the missing values if any by using KNN Imputer\n",
    "df = imputation(df)"
   ]
  },
  {
   "cell_type": "code",
   "execution_count": 110,
   "id": "6646ecd6",
   "metadata": {},
   "outputs": [],
   "source": [
    "# Separating dependent and independent variables\n",
    "X, y = separating(df, 'class')"
   ]
  },
  {
   "cell_type": "code",
   "execution_count": 111,
   "id": "b14aea59-7a92-4d4d-9257-6964c559a262",
   "metadata": {},
   "outputs": [],
   "source": [
    "# Handing class imbalance problem using SMOTEN\n",
    "X, y = oversampling(X,y)"
   ]
  },
  {
   "cell_type": "code",
   "execution_count": 112,
   "id": "8bc1e5f8-2d5a-4074-a1d2-3ca9feb52fda",
   "metadata": {},
   "outputs": [
    {
     "name": "stdout",
     "output_type": "stream",
     "text": [
      "[0.7603222557905337, 0.6968781470292045, 0.7643504531722054, 0.7270896273917422, 0.7754279959718026, 0.7401812688821753, 0.7683786505538771, 0.7200402819738168, 0.7774420946626385, 0.8056394763343404, 0.7512588116817724, 0.7854984894259819, 0.7734138972809668, 0.796576032225579, 0.7381671701913394, 0.7462235649546828, 0.7512588116817724, 0.7542799597180262, 0.7331319234642497, 0.7411883182275931, 0.7764350453172205, 0.716012084592145, 0.7049345417925479, 0.7341389728096677, 0.7009063444108762, 0.7351460221550856, 0.7734138972809668, 0.7925478348439073, 0.6968781470292045, 0.7734138972809668, 0.7059415911379657, 0.7210473313192346, 0.7663645518630413, 0.7109768378650554, 0.7522658610271903, 0.7240684793554885, 0.729103726082578, 0.7351460221550856, 0.7663645518630413, 0.7119838872104733, 0.7069486404833837, 0.8016112789526687, 0.756294058408862, 0.756294058408862, 0.6958710976837865, 0.7643504531722054, 0.7099697885196374, 0.7734138972809668, 0.7754279959718026, 0.7170191339375629, 0.7633434038267876, 0.7633434038267876, 0.7421953675730111, 0.7341389728096677, 0.8096676737160121, 0.7955689828801611, 0.7794561933534743, 0.8036253776435045, 0.6948640483383686, 0.75730110775428, 0.701913393756294, 0.8197381671701913, 0.7331319234642497, 0.7754279959718026, 0.7935548841893253, 0.7280966767371602, 0.7804632426988922, 0.7905337361530715, 0.8026183282980867, 0.7311178247734139, 0.7230614300100705, 0.716012084592145, 0.7663645518630413, 0.796576032225579, 0.7603222557905337, 0.8006042296072508, 0.7824773413897281, 0.7452165156092648, 0.7522658610271903, 0.7260825780463243, 0.7693856998992951, 0.8147029204431017, 0.716012084592145, 0.756294058408862, 0.7139979859013091, 0.7190332326283988, 0.7401812688821753, 0.7482376636455186, 0.7250755287009063, 0.743202416918429, 0.7583081570996979, 0.7210473313192346, 0.7139979859013091, 0.7361530715005036, 0.7854984894259819, 0.7371601208459214, 0.6837865055387714, 0.7200402819738168, 0.7552870090634441, 0.8157099697885196]\n",
      "Standard Deviation: 0.032543958470172364\n",
      "Mean: 0.7503323262839879\n"
     ]
    }
   ],
   "source": [
    "repetition(X,y)"
   ]
  },
  {
   "cell_type": "markdown",
   "id": "4acdc276",
   "metadata": {},
   "source": [
    "# 12. SPECT Heart Dataset"
   ]
  },
  {
   "cell_type": "code",
   "execution_count": 113,
   "id": "f0c72adf",
   "metadata": {},
   "outputs": [],
   "source": [
    "# Loading the dataset\n",
    "df = pd.read_csv(\"datasets/SPECT.csv\")"
   ]
  },
  {
   "cell_type": "code",
   "execution_count": 114,
   "id": "7f264f32",
   "metadata": {},
   "outputs": [
    {
     "data": {
      "text/html": [
       "<div>\n",
       "<style scoped>\n",
       "    .dataframe tbody tr th:only-of-type {\n",
       "        vertical-align: middle;\n",
       "    }\n",
       "\n",
       "    .dataframe tbody tr th {\n",
       "        vertical-align: top;\n",
       "    }\n",
       "\n",
       "    .dataframe thead th {\n",
       "        text-align: right;\n",
       "    }\n",
       "</style>\n",
       "<table border=\"1\" class=\"dataframe\">\n",
       "  <thead>\n",
       "    <tr style=\"text-align: right;\">\n",
       "      <th></th>\n",
       "      <th>class</th>\n",
       "      <th>F1</th>\n",
       "      <th>F2</th>\n",
       "      <th>F3</th>\n",
       "      <th>F4</th>\n",
       "      <th>F5</th>\n",
       "      <th>F6</th>\n",
       "      <th>F7</th>\n",
       "      <th>F8</th>\n",
       "      <th>F9</th>\n",
       "      <th>...</th>\n",
       "      <th>F13</th>\n",
       "      <th>F14</th>\n",
       "      <th>F15</th>\n",
       "      <th>F16</th>\n",
       "      <th>F17</th>\n",
       "      <th>F18</th>\n",
       "      <th>F19</th>\n",
       "      <th>F20</th>\n",
       "      <th>F21</th>\n",
       "      <th>F22</th>\n",
       "    </tr>\n",
       "  </thead>\n",
       "  <tbody>\n",
       "    <tr>\n",
       "      <th>0</th>\n",
       "      <td>1</td>\n",
       "      <td>0</td>\n",
       "      <td>0</td>\n",
       "      <td>0</td>\n",
       "      <td>1</td>\n",
       "      <td>0</td>\n",
       "      <td>0</td>\n",
       "      <td>0</td>\n",
       "      <td>1</td>\n",
       "      <td>1</td>\n",
       "      <td>...</td>\n",
       "      <td>1</td>\n",
       "      <td>1</td>\n",
       "      <td>0</td>\n",
       "      <td>0</td>\n",
       "      <td>0</td>\n",
       "      <td>0</td>\n",
       "      <td>0</td>\n",
       "      <td>0</td>\n",
       "      <td>0</td>\n",
       "      <td>0</td>\n",
       "    </tr>\n",
       "    <tr>\n",
       "      <th>1</th>\n",
       "      <td>1</td>\n",
       "      <td>0</td>\n",
       "      <td>0</td>\n",
       "      <td>1</td>\n",
       "      <td>1</td>\n",
       "      <td>0</td>\n",
       "      <td>0</td>\n",
       "      <td>0</td>\n",
       "      <td>1</td>\n",
       "      <td>1</td>\n",
       "      <td>...</td>\n",
       "      <td>1</td>\n",
       "      <td>1</td>\n",
       "      <td>0</td>\n",
       "      <td>0</td>\n",
       "      <td>0</td>\n",
       "      <td>0</td>\n",
       "      <td>0</td>\n",
       "      <td>0</td>\n",
       "      <td>0</td>\n",
       "      <td>1</td>\n",
       "    </tr>\n",
       "    <tr>\n",
       "      <th>2</th>\n",
       "      <td>1</td>\n",
       "      <td>1</td>\n",
       "      <td>0</td>\n",
       "      <td>1</td>\n",
       "      <td>0</td>\n",
       "      <td>1</td>\n",
       "      <td>0</td>\n",
       "      <td>0</td>\n",
       "      <td>1</td>\n",
       "      <td>0</td>\n",
       "      <td>...</td>\n",
       "      <td>1</td>\n",
       "      <td>0</td>\n",
       "      <td>0</td>\n",
       "      <td>0</td>\n",
       "      <td>0</td>\n",
       "      <td>0</td>\n",
       "      <td>0</td>\n",
       "      <td>0</td>\n",
       "      <td>0</td>\n",
       "      <td>0</td>\n",
       "    </tr>\n",
       "    <tr>\n",
       "      <th>3</th>\n",
       "      <td>1</td>\n",
       "      <td>0</td>\n",
       "      <td>0</td>\n",
       "      <td>0</td>\n",
       "      <td>0</td>\n",
       "      <td>0</td>\n",
       "      <td>0</td>\n",
       "      <td>0</td>\n",
       "      <td>0</td>\n",
       "      <td>0</td>\n",
       "      <td>...</td>\n",
       "      <td>0</td>\n",
       "      <td>0</td>\n",
       "      <td>0</td>\n",
       "      <td>0</td>\n",
       "      <td>0</td>\n",
       "      <td>0</td>\n",
       "      <td>0</td>\n",
       "      <td>1</td>\n",
       "      <td>1</td>\n",
       "      <td>1</td>\n",
       "    </tr>\n",
       "    <tr>\n",
       "      <th>4</th>\n",
       "      <td>1</td>\n",
       "      <td>0</td>\n",
       "      <td>0</td>\n",
       "      <td>0</td>\n",
       "      <td>0</td>\n",
       "      <td>0</td>\n",
       "      <td>0</td>\n",
       "      <td>0</td>\n",
       "      <td>1</td>\n",
       "      <td>0</td>\n",
       "      <td>...</td>\n",
       "      <td>1</td>\n",
       "      <td>0</td>\n",
       "      <td>1</td>\n",
       "      <td>1</td>\n",
       "      <td>0</td>\n",
       "      <td>0</td>\n",
       "      <td>0</td>\n",
       "      <td>0</td>\n",
       "      <td>0</td>\n",
       "      <td>0</td>\n",
       "    </tr>\n",
       "  </tbody>\n",
       "</table>\n",
       "<p>5 rows × 23 columns</p>\n",
       "</div>"
      ],
      "text/plain": [
       "   class  F1  F2  F3  F4  F5  F6  F7  F8  F9  ...  F13  F14  F15  F16  F17  \\\n",
       "0      1   0   0   0   1   0   0   0   1   1  ...    1    1    0    0    0   \n",
       "1      1   0   0   1   1   0   0   0   1   1  ...    1    1    0    0    0   \n",
       "2      1   1   0   1   0   1   0   0   1   0  ...    1    0    0    0    0   \n",
       "3      1   0   0   0   0   0   0   0   0   0  ...    0    0    0    0    0   \n",
       "4      1   0   0   0   0   0   0   0   1   0  ...    1    0    1    1    0   \n",
       "\n",
       "   F18  F19  F20  F21  F22  \n",
       "0    0    0    0    0    0  \n",
       "1    0    0    0    0    1  \n",
       "2    0    0    0    0    0  \n",
       "3    0    0    1    1    1  \n",
       "4    0    0    0    0    0  \n",
       "\n",
       "[5 rows x 23 columns]"
      ]
     },
     "execution_count": 114,
     "metadata": {},
     "output_type": "execute_result"
    }
   ],
   "source": [
    "# Displaying the first five records of the dataset\n",
    "df.head()"
   ]
  },
  {
   "cell_type": "code",
   "execution_count": 115,
   "id": "60dbc1c5",
   "metadata": {},
   "outputs": [
    {
     "data": {
      "text/plain": [
       "(267, 23)"
      ]
     },
     "execution_count": 115,
     "metadata": {},
     "output_type": "execute_result"
    }
   ],
   "source": [
    "# Displaying the shape of the dataset i.e. (no. of records, no. of attributes)\n",
    "df.shape"
   ]
  },
  {
   "cell_type": "code",
   "execution_count": 116,
   "id": "e568d692",
   "metadata": {},
   "outputs": [],
   "source": [
    "# Converting '?' to NaN incase it is present in the dataset\n",
    "df.replace('?', np.nan, inplace=True)"
   ]
  },
  {
   "cell_type": "code",
   "execution_count": 117,
   "id": "6aa686af-5915-4fc4-887d-412de115efb5",
   "metadata": {},
   "outputs": [
    {
     "data": {
      "text/plain": [
       "1    212\n",
       "0     55\n",
       "Name: class, dtype: int64"
      ]
     },
     "execution_count": 117,
     "metadata": {},
     "output_type": "execute_result"
    }
   ],
   "source": [
    "# Checking the instance counts of the target attribute\n",
    "df['class'].value_counts()"
   ]
  },
  {
   "cell_type": "code",
   "execution_count": 118,
   "id": "b6efef63",
   "metadata": {},
   "outputs": [],
   "source": [
    "# Encoding the attributes of the dataset\n",
    "df = encoding(df)"
   ]
  },
  {
   "cell_type": "code",
   "execution_count": 119,
   "id": "c6a17f84",
   "metadata": {},
   "outputs": [],
   "source": [
    "# Imputing the missing values if any by using KNN Imputer\n",
    "df = imputation(df)"
   ]
  },
  {
   "cell_type": "code",
   "execution_count": 120,
   "id": "2602eb3f",
   "metadata": {},
   "outputs": [],
   "source": [
    "# Separating dependent and independent variables\n",
    "X, y = separating(df, 'class')"
   ]
  },
  {
   "cell_type": "code",
   "execution_count": 121,
   "id": "5bd36d2e-1c78-4262-8bfa-ec756dffa3a6",
   "metadata": {},
   "outputs": [
    {
     "name": "stdout",
     "output_type": "stream",
     "text": [
      "[0.8333333333333334, 0.8148148148148148, 0.8333333333333334, 0.7777777777777778, 0.7777777777777778, 0.8148148148148148, 0.8333333333333334, 0.7592592592592593, 0.8148148148148148, 0.7592592592592593, 0.7777777777777778, 0.7962962962962963, 0.8333333333333334, 0.7962962962962963, 0.8333333333333334, 0.8888888888888888, 0.7592592592592593, 0.8703703703703703, 0.8148148148148148, 0.8518518518518519, 0.8333333333333334, 0.7777777777777778, 0.7222222222222222, 0.7407407407407407, 0.8518518518518519, 0.8333333333333334, 0.8148148148148148, 0.7592592592592593, 0.6851851851851852, 0.7407407407407407, 0.7777777777777778, 0.7037037037037037, 0.7962962962962963, 0.8333333333333334, 0.8333333333333334, 0.8333333333333334, 0.7222222222222222, 0.8333333333333334, 0.7962962962962963, 0.8518518518518519, 0.7962962962962963, 0.7592592592592593, 0.8333333333333334, 0.7592592592592593, 0.7222222222222222, 0.7592592592592593, 0.7962962962962963, 0.7962962962962963, 0.8518518518518519, 0.7962962962962963, 0.8148148148148148, 0.7592592592592593, 0.8333333333333334, 0.7962962962962963, 0.8703703703703703, 0.8518518518518519, 0.7962962962962963, 0.8148148148148148, 0.7592592592592593, 0.8888888888888888, 0.7777777777777778, 0.8148148148148148, 0.8148148148148148, 0.6851851851851852, 0.7407407407407407, 0.8518518518518519, 0.8518518518518519, 0.8148148148148148, 0.8333333333333334, 0.8333333333333334, 0.8888888888888888, 0.8148148148148148, 0.6851851851851852, 0.8703703703703703, 0.6111111111111112, 0.7962962962962963, 0.7962962962962963, 0.6666666666666666, 0.7407407407407407, 0.7037037037037037, 0.8888888888888888, 0.8148148148148148, 0.8703703703703703, 0.7777777777777778, 0.8518518518518519, 0.7592592592592593, 0.7777777777777778, 0.7777777777777778, 0.8888888888888888, 0.7592592592592593, 0.8333333333333334, 0.7592592592592593, 0.7592592592592593, 0.8333333333333334, 0.7222222222222222, 0.7222222222222222, 0.7592592592592593, 0.7592592592592593, 0.7407407407407407, 0.7037037037037037]\n",
      "Standard Deviation: 0.05447435560317666\n",
      "Mean: 0.7938888888888889\n"
     ]
    }
   ],
   "source": [
    "repetition(X,y)"
   ]
  },
  {
   "cell_type": "markdown",
   "id": "558eb586",
   "metadata": {},
   "source": [
    "# 13. Primary Tumor Dataset"
   ]
  },
  {
   "cell_type": "code",
   "execution_count": 122,
   "id": "c3da460a",
   "metadata": {},
   "outputs": [],
   "source": [
    "# Loading the dataset\n",
    "df = pd.read_csv(\"datasets/primary-tumor.csv\")"
   ]
  },
  {
   "cell_type": "code",
   "execution_count": 123,
   "id": "cecce23f",
   "metadata": {},
   "outputs": [
    {
     "data": {
      "text/html": [
       "<div>\n",
       "<style scoped>\n",
       "    .dataframe tbody tr th:only-of-type {\n",
       "        vertical-align: middle;\n",
       "    }\n",
       "\n",
       "    .dataframe tbody tr th {\n",
       "        vertical-align: top;\n",
       "    }\n",
       "\n",
       "    .dataframe thead th {\n",
       "        text-align: right;\n",
       "    }\n",
       "</style>\n",
       "<table border=\"1\" class=\"dataframe\">\n",
       "  <thead>\n",
       "    <tr style=\"text-align: right;\">\n",
       "      <th></th>\n",
       "      <th>class</th>\n",
       "      <th>age</th>\n",
       "      <th>sex</th>\n",
       "      <th>histologic-type</th>\n",
       "      <th>degree-of-diffe</th>\n",
       "      <th>bone</th>\n",
       "      <th>bone-marrow</th>\n",
       "      <th>lung</th>\n",
       "      <th>pleura</th>\n",
       "      <th>peritoneum</th>\n",
       "      <th>liver</th>\n",
       "      <th>brain</th>\n",
       "      <th>skin</th>\n",
       "      <th>neck</th>\n",
       "      <th>supraclavicular</th>\n",
       "      <th>axillar</th>\n",
       "      <th>mediastinum</th>\n",
       "      <th>abdominal</th>\n",
       "    </tr>\n",
       "  </thead>\n",
       "  <tbody>\n",
       "    <tr>\n",
       "      <th>0</th>\n",
       "      <td>1</td>\n",
       "      <td>1</td>\n",
       "      <td>1</td>\n",
       "      <td>?</td>\n",
       "      <td>3</td>\n",
       "      <td>2</td>\n",
       "      <td>2</td>\n",
       "      <td>1</td>\n",
       "      <td>2</td>\n",
       "      <td>2</td>\n",
       "      <td>2</td>\n",
       "      <td>2</td>\n",
       "      <td>2</td>\n",
       "      <td>2</td>\n",
       "      <td>2</td>\n",
       "      <td>2</td>\n",
       "      <td>2</td>\n",
       "      <td>2</td>\n",
       "    </tr>\n",
       "    <tr>\n",
       "      <th>1</th>\n",
       "      <td>1</td>\n",
       "      <td>1</td>\n",
       "      <td>1</td>\n",
       "      <td>?</td>\n",
       "      <td>3</td>\n",
       "      <td>2</td>\n",
       "      <td>2</td>\n",
       "      <td>2</td>\n",
       "      <td>2</td>\n",
       "      <td>2</td>\n",
       "      <td>1</td>\n",
       "      <td>2</td>\n",
       "      <td>2</td>\n",
       "      <td>2</td>\n",
       "      <td>1</td>\n",
       "      <td>2</td>\n",
       "      <td>1</td>\n",
       "      <td>2</td>\n",
       "    </tr>\n",
       "    <tr>\n",
       "      <th>2</th>\n",
       "      <td>1</td>\n",
       "      <td>1</td>\n",
       "      <td>2</td>\n",
       "      <td>2</td>\n",
       "      <td>3</td>\n",
       "      <td>1</td>\n",
       "      <td>2</td>\n",
       "      <td>2</td>\n",
       "      <td>2</td>\n",
       "      <td>2</td>\n",
       "      <td>2</td>\n",
       "      <td>2</td>\n",
       "      <td>2</td>\n",
       "      <td>2</td>\n",
       "      <td>2</td>\n",
       "      <td>2</td>\n",
       "      <td>1</td>\n",
       "      <td>2</td>\n",
       "    </tr>\n",
       "    <tr>\n",
       "      <th>3</th>\n",
       "      <td>1</td>\n",
       "      <td>1</td>\n",
       "      <td>2</td>\n",
       "      <td>?</td>\n",
       "      <td>3</td>\n",
       "      <td>1</td>\n",
       "      <td>2</td>\n",
       "      <td>1</td>\n",
       "      <td>1</td>\n",
       "      <td>2</td>\n",
       "      <td>2</td>\n",
       "      <td>2</td>\n",
       "      <td>2</td>\n",
       "      <td>2</td>\n",
       "      <td>2</td>\n",
       "      <td>2</td>\n",
       "      <td>1</td>\n",
       "      <td>2</td>\n",
       "    </tr>\n",
       "    <tr>\n",
       "      <th>4</th>\n",
       "      <td>1</td>\n",
       "      <td>1</td>\n",
       "      <td>2</td>\n",
       "      <td>?</td>\n",
       "      <td>3</td>\n",
       "      <td>1</td>\n",
       "      <td>2</td>\n",
       "      <td>1</td>\n",
       "      <td>1</td>\n",
       "      <td>2</td>\n",
       "      <td>2</td>\n",
       "      <td>2</td>\n",
       "      <td>2</td>\n",
       "      <td>2</td>\n",
       "      <td>2</td>\n",
       "      <td>2</td>\n",
       "      <td>1</td>\n",
       "      <td>2</td>\n",
       "    </tr>\n",
       "  </tbody>\n",
       "</table>\n",
       "</div>"
      ],
      "text/plain": [
       "   class  age sex histologic-type degree-of-diffe  bone  bone-marrow  lung  \\\n",
       "0      1    1   1               ?               3     2            2     1   \n",
       "1      1    1   1               ?               3     2            2     2   \n",
       "2      1    1   2               2               3     1            2     2   \n",
       "3      1    1   2               ?               3     1            2     1   \n",
       "4      1    1   2               ?               3     1            2     1   \n",
       "\n",
       "   pleura  peritoneum  liver  brain skin  neck  supraclavicular axillar  \\\n",
       "0       2           2      2      2    2     2                2       2   \n",
       "1       2           2      1      2    2     2                1       2   \n",
       "2       2           2      2      2    2     2                2       2   \n",
       "3       1           2      2      2    2     2                2       2   \n",
       "4       1           2      2      2    2     2                2       2   \n",
       "\n",
       "   mediastinum  abdominal  \n",
       "0            2          2  \n",
       "1            1          2  \n",
       "2            1          2  \n",
       "3            1          2  \n",
       "4            1          2  "
      ]
     },
     "execution_count": 123,
     "metadata": {},
     "output_type": "execute_result"
    }
   ],
   "source": [
    "# Displaying the first five records of the dataset\n",
    "df.head()"
   ]
  },
  {
   "cell_type": "code",
   "execution_count": 124,
   "id": "62f0dbf5",
   "metadata": {},
   "outputs": [
    {
     "data": {
      "text/plain": [
       "(339, 18)"
      ]
     },
     "execution_count": 124,
     "metadata": {},
     "output_type": "execute_result"
    }
   ],
   "source": [
    "# Displaying the shape of the dataset i.e. (no. of records, no. of attributes)\n",
    "df.shape"
   ]
  },
  {
   "cell_type": "code",
   "execution_count": 125,
   "id": "76008e74",
   "metadata": {},
   "outputs": [],
   "source": [
    "# Converting '?' to NaN incase it is present in the dataset\n",
    "df.replace('?', np.nan, inplace=True)"
   ]
  },
  {
   "cell_type": "code",
   "execution_count": 126,
   "id": "6d28140f-bd0b-43e2-8851-9ab45fe0643e",
   "metadata": {},
   "outputs": [
    {
     "data": {
      "text/plain": [
       "1     84\n",
       "5     39\n",
       "18    29\n",
       "11    28\n",
       "14    24\n",
       "22    24\n",
       "2     20\n",
       "12    16\n",
       "7     14\n",
       "4     14\n",
       "17    10\n",
       "3      9\n",
       "13     7\n",
       "8      6\n",
       "19     6\n",
       "10     2\n",
       "15     2\n",
       "20     2\n",
       "6      1\n",
       "16     1\n",
       "21     1\n",
       "Name: class, dtype: int64"
      ]
     },
     "execution_count": 126,
     "metadata": {},
     "output_type": "execute_result"
    }
   ],
   "source": [
    "# Checking the instance counts of the target attribute\n",
    "df['class'].value_counts()"
   ]
  },
  {
   "cell_type": "code",
   "execution_count": 127,
   "id": "c6ebf846-59b6-40fe-b67f-39c3d02fe0b6",
   "metadata": {},
   "outputs": [],
   "source": [
    "# Removing classes having <= 4 instances\n",
    "df = remove_class(df,'class')"
   ]
  },
  {
   "cell_type": "code",
   "execution_count": 128,
   "id": "cfe6f3fb",
   "metadata": {},
   "outputs": [],
   "source": [
    "# Encoding the attributes of the dataset\n",
    "df = encoding(df)"
   ]
  },
  {
   "cell_type": "code",
   "execution_count": 129,
   "id": "f50e1c33",
   "metadata": {},
   "outputs": [],
   "source": [
    "# Imputing the missing values if any by using KNN Imputer\n",
    "df = imputation(df)"
   ]
  },
  {
   "cell_type": "code",
   "execution_count": 130,
   "id": "ec3ab54f",
   "metadata": {},
   "outputs": [],
   "source": [
    "# Separating dependent and independent variables\n",
    "X, y = separating(df, 'class')"
   ]
  },
  {
   "cell_type": "code",
   "execution_count": 131,
   "id": "838414fb-2e60-443d-a4a7-fd5c1cbd6667",
   "metadata": {},
   "outputs": [],
   "source": [
    "# Handing class imbalance problem using SMOTEN\n",
    "X, y = oversampling(X,y)"
   ]
  },
  {
   "cell_type": "code",
   "execution_count": 132,
   "id": "46302b34-b425-444b-9c9c-7ef356a4b6ad",
   "metadata": {},
   "outputs": [
    {
     "name": "stdout",
     "output_type": "stream",
     "text": [
      "[0.5515873015873016, 0.5277777777777778, 0.5357142857142857, 0.5674603174603174, 0.5873015873015873, 0.5198412698412699, 0.623015873015873, 0.45634920634920634, 0.5436507936507936, 0.5833333333333334, 0.6111111111111112, 0.5714285714285714, 0.6150793650793651, 0.38492063492063494, 0.5555555555555556, 0.5595238095238095, 0.5396825396825397, 0.43253968253968256, 0.35714285714285715, 0.3888888888888889, 0.4087301587301587, 0.6111111111111112, 0.6190476190476191, 0.5238095238095238, 0.5436507936507936, 0.4642857142857143, 0.6071428571428571, 0.6071428571428571, 0.4166666666666667, 0.5198412698412699, 0.6666666666666666, 0.5158730158730159, 0.6428571428571429, 0.6150793650793651, 0.5952380952380952, 0.5277777777777778, 0.49603174603174605, 0.49206349206349204, 0.48412698412698413, 0.4126984126984127, 0.5912698412698413, 0.6468253968253969, 0.48412698412698413, 0.5357142857142857, 0.5873015873015873, 0.5515873015873016, 0.5912698412698413, 0.4365079365079365, 0.503968253968254, 0.5515873015873016, 0.5079365079365079, 0.5238095238095238, 0.6031746031746031, 0.6031746031746031, 0.5634920634920635, 0.6388888888888888, 0.6309523809523809, 0.6388888888888888, 0.6587301587301587, 0.5992063492063492, 0.5833333333333334, 0.47619047619047616, 0.46825396825396826, 0.5, 0.5674603174603174, 0.27380952380952384, 0.5, 0.4365079365079365, 0.6031746031746031, 0.5436507936507936, 0.6428571428571429, 0.5317460317460317, 0.5714285714285714, 0.4603174603174603, 0.5793650793650794, 0.4365079365079365, 0.5277777777777778, 0.5714285714285714, 0.42063492063492064, 0.6825396825396826, 0.6349206349206349, 0.5833333333333334, 0.5634920634920635, 0.5, 0.6071428571428571, 0.5515873015873016, 0.49603174603174605, 0.4801587301587302, 0.46825396825396826, 0.5119047619047619, 0.6150793650793651, 0.5317460317460317, 0.5952380952380952, 0.6190476190476191, 0.5515873015873016, 0.48412698412698413, 0.35714285714285715, 0.6111111111111112, 0.4365079365079365, 0.5595238095238095]\n",
      "Standard Deviation: 0.07716110405402439\n",
      "Mean: 0.5386507936507936\n"
     ]
    }
   ],
   "source": [
    "repetition(X,y)"
   ]
  },
  {
   "cell_type": "markdown",
   "id": "faeca948",
   "metadata": {},
   "source": [
    "# 14. Chess (King-Rook vs. King-Pawn) Dataset"
   ]
  },
  {
   "cell_type": "code",
   "execution_count": 133,
   "id": "5a5f23b9",
   "metadata": {},
   "outputs": [],
   "source": [
    "# Loading the dataset\n",
    "df = pd.read_csv(\"datasets/kr-vs-kp.csv\")"
   ]
  },
  {
   "cell_type": "code",
   "execution_count": 134,
   "id": "dc70dd6f",
   "metadata": {},
   "outputs": [
    {
     "data": {
      "text/html": [
       "<div>\n",
       "<style scoped>\n",
       "    .dataframe tbody tr th:only-of-type {\n",
       "        vertical-align: middle;\n",
       "    }\n",
       "\n",
       "    .dataframe tbody tr th {\n",
       "        vertical-align: top;\n",
       "    }\n",
       "\n",
       "    .dataframe thead th {\n",
       "        text-align: right;\n",
       "    }\n",
       "</style>\n",
       "<table border=\"1\" class=\"dataframe\">\n",
       "  <thead>\n",
       "    <tr style=\"text-align: right;\">\n",
       "      <th></th>\n",
       "      <th>bkblk</th>\n",
       "      <th>bknwy</th>\n",
       "      <th>bkon8</th>\n",
       "      <th>bkona</th>\n",
       "      <th>bkspr</th>\n",
       "      <th>bkxbq</th>\n",
       "      <th>bkxcr</th>\n",
       "      <th>bkxwp</th>\n",
       "      <th>blxwp</th>\n",
       "      <th>bxqsq</th>\n",
       "      <th>...</th>\n",
       "      <th>spcop</th>\n",
       "      <th>stlmt</th>\n",
       "      <th>thrsk</th>\n",
       "      <th>wkcti</th>\n",
       "      <th>wkna8</th>\n",
       "      <th>wknck</th>\n",
       "      <th>wkovl</th>\n",
       "      <th>wkpos</th>\n",
       "      <th>wtoeg</th>\n",
       "      <th>class</th>\n",
       "    </tr>\n",
       "  </thead>\n",
       "  <tbody>\n",
       "    <tr>\n",
       "      <th>0</th>\n",
       "      <td>f</td>\n",
       "      <td>f</td>\n",
       "      <td>f</td>\n",
       "      <td>f</td>\n",
       "      <td>f</td>\n",
       "      <td>f</td>\n",
       "      <td>f</td>\n",
       "      <td>f</td>\n",
       "      <td>f</td>\n",
       "      <td>f</td>\n",
       "      <td>...</td>\n",
       "      <td>f</td>\n",
       "      <td>f</td>\n",
       "      <td>f</td>\n",
       "      <td>f</td>\n",
       "      <td>f</td>\n",
       "      <td>f</td>\n",
       "      <td>t</td>\n",
       "      <td>t</td>\n",
       "      <td>n</td>\n",
       "      <td>won</td>\n",
       "    </tr>\n",
       "    <tr>\n",
       "      <th>1</th>\n",
       "      <td>f</td>\n",
       "      <td>f</td>\n",
       "      <td>f</td>\n",
       "      <td>f</td>\n",
       "      <td>t</td>\n",
       "      <td>f</td>\n",
       "      <td>f</td>\n",
       "      <td>f</td>\n",
       "      <td>f</td>\n",
       "      <td>f</td>\n",
       "      <td>...</td>\n",
       "      <td>f</td>\n",
       "      <td>f</td>\n",
       "      <td>f</td>\n",
       "      <td>f</td>\n",
       "      <td>f</td>\n",
       "      <td>f</td>\n",
       "      <td>t</td>\n",
       "      <td>t</td>\n",
       "      <td>n</td>\n",
       "      <td>won</td>\n",
       "    </tr>\n",
       "    <tr>\n",
       "      <th>2</th>\n",
       "      <td>f</td>\n",
       "      <td>f</td>\n",
       "      <td>f</td>\n",
       "      <td>f</td>\n",
       "      <td>t</td>\n",
       "      <td>f</td>\n",
       "      <td>t</td>\n",
       "      <td>f</td>\n",
       "      <td>f</td>\n",
       "      <td>f</td>\n",
       "      <td>...</td>\n",
       "      <td>f</td>\n",
       "      <td>f</td>\n",
       "      <td>f</td>\n",
       "      <td>f</td>\n",
       "      <td>f</td>\n",
       "      <td>f</td>\n",
       "      <td>t</td>\n",
       "      <td>t</td>\n",
       "      <td>n</td>\n",
       "      <td>won</td>\n",
       "    </tr>\n",
       "    <tr>\n",
       "      <th>3</th>\n",
       "      <td>f</td>\n",
       "      <td>f</td>\n",
       "      <td>f</td>\n",
       "      <td>f</td>\n",
       "      <td>f</td>\n",
       "      <td>f</td>\n",
       "      <td>f</td>\n",
       "      <td>f</td>\n",
       "      <td>t</td>\n",
       "      <td>f</td>\n",
       "      <td>...</td>\n",
       "      <td>f</td>\n",
       "      <td>f</td>\n",
       "      <td>f</td>\n",
       "      <td>f</td>\n",
       "      <td>f</td>\n",
       "      <td>f</td>\n",
       "      <td>t</td>\n",
       "      <td>t</td>\n",
       "      <td>n</td>\n",
       "      <td>won</td>\n",
       "    </tr>\n",
       "    <tr>\n",
       "      <th>4</th>\n",
       "      <td>f</td>\n",
       "      <td>f</td>\n",
       "      <td>f</td>\n",
       "      <td>f</td>\n",
       "      <td>f</td>\n",
       "      <td>f</td>\n",
       "      <td>f</td>\n",
       "      <td>f</td>\n",
       "      <td>f</td>\n",
       "      <td>f</td>\n",
       "      <td>...</td>\n",
       "      <td>f</td>\n",
       "      <td>f</td>\n",
       "      <td>f</td>\n",
       "      <td>f</td>\n",
       "      <td>f</td>\n",
       "      <td>f</td>\n",
       "      <td>t</td>\n",
       "      <td>t</td>\n",
       "      <td>n</td>\n",
       "      <td>won</td>\n",
       "    </tr>\n",
       "  </tbody>\n",
       "</table>\n",
       "<p>5 rows × 37 columns</p>\n",
       "</div>"
      ],
      "text/plain": [
       "  bkblk bknwy bkon8 bkona bkspr bkxbq bkxcr bkxwp blxwp bxqsq  ... spcop  \\\n",
       "0     f     f     f     f     f     f     f     f     f     f  ...     f   \n",
       "1     f     f     f     f     t     f     f     f     f     f  ...     f   \n",
       "2     f     f     f     f     t     f     t     f     f     f  ...     f   \n",
       "3     f     f     f     f     f     f     f     f     t     f  ...     f   \n",
       "4     f     f     f     f     f     f     f     f     f     f  ...     f   \n",
       "\n",
       "  stlmt thrsk wkcti wkna8 wknck wkovl wkpos wtoeg class  \n",
       "0     f     f     f     f     f     t     t     n   won  \n",
       "1     f     f     f     f     f     t     t     n   won  \n",
       "2     f     f     f     f     f     t     t     n   won  \n",
       "3     f     f     f     f     f     t     t     n   won  \n",
       "4     f     f     f     f     f     t     t     n   won  \n",
       "\n",
       "[5 rows x 37 columns]"
      ]
     },
     "execution_count": 134,
     "metadata": {},
     "output_type": "execute_result"
    }
   ],
   "source": [
    "# Displaying the first five records of the dataset\n",
    "df.head()"
   ]
  },
  {
   "cell_type": "code",
   "execution_count": 135,
   "id": "b093dad7",
   "metadata": {},
   "outputs": [
    {
     "data": {
      "text/plain": [
       "(3196, 37)"
      ]
     },
     "execution_count": 135,
     "metadata": {},
     "output_type": "execute_result"
    }
   ],
   "source": [
    "# Displaying the shape of the dataset i.e. (no. of records, no. of attributes)\n",
    "df.shape"
   ]
  },
  {
   "cell_type": "code",
   "execution_count": 136,
   "id": "501159dd",
   "metadata": {},
   "outputs": [],
   "source": [
    "# Converting '?' to NaN incase it is present in the dataset\n",
    "df.replace('?', np.nan, inplace=True)"
   ]
  },
  {
   "cell_type": "code",
   "execution_count": 137,
   "id": "d3252db6-1bd4-4bf3-9f0e-241b9e634f40",
   "metadata": {},
   "outputs": [
    {
     "data": {
      "text/plain": [
       "won      1669\n",
       "nowin    1527\n",
       "Name: class, dtype: int64"
      ]
     },
     "execution_count": 137,
     "metadata": {},
     "output_type": "execute_result"
    }
   ],
   "source": [
    "# Checking the instance counts of the target attribute\n",
    "df['class'].value_counts()"
   ]
  },
  {
   "cell_type": "code",
   "execution_count": 138,
   "id": "5129332c",
   "metadata": {},
   "outputs": [],
   "source": [
    "# Encoding the attributes of the dataset\n",
    "df = encoding(df)"
   ]
  },
  {
   "cell_type": "code",
   "execution_count": 139,
   "id": "de7544ae",
   "metadata": {},
   "outputs": [],
   "source": [
    "# Imputing the missing values if any by using KNN Imputer\n",
    "df = imputation(df)"
   ]
  },
  {
   "cell_type": "code",
   "execution_count": 140,
   "id": "4bbb07f9",
   "metadata": {},
   "outputs": [],
   "source": [
    "# Separating dependent and independent variables\n",
    "X, y = separating(df, 'class')"
   ]
  },
  {
   "cell_type": "code",
   "execution_count": 141,
   "id": "ad007ceb-0a3b-414b-87f8-78c58038c8a8",
   "metadata": {},
   "outputs": [],
   "source": [
    "# Handing class imbalance problem using SMOTEN\n",
    "X, y = oversampling(X,y)"
   ]
  },
  {
   "cell_type": "code",
   "execution_count": 142,
   "id": "be0bf116-264e-455b-be8f-ebbafcb6bcdf",
   "metadata": {},
   "outputs": [
    {
     "name": "stdout",
     "output_type": "stream",
     "text": [
      "[0.8188622754491018, 0.8098802395209581, 0.8502994011976048, 0.7559880239520959, 0.8143712574850299, 0.7215568862275449, 0.7634730538922155, 0.7604790419161677, 0.7335329341317365, 0.6646706586826348, 0.7050898203592815, 0.5853293413173652, 0.8233532934131736, 0.8203592814371258, 0.7934131736526946, 0.592814371257485, 0.5284431137724551, 0.7679640718562875, 0.5553892215568862, 0.8008982035928144, 0.7829341317365269, 0.8173652694610778, 0.7514970059880239, 0.6646706586826348, 0.7739520958083832, 0.718562874251497, 0.7245508982035929, 0.8278443113772455, 0.7754491017964071, 0.655688622754491, 0.6916167664670658, 0.8023952095808383, 0.7395209580838323, 0.8293413173652695, 0.8353293413173652, 0.8383233532934131, 0.75, 0.7649700598802395, 0.7050898203592815, 0.6092814371257484, 0.75, 0.8502994011976048, 0.8353293413173652, 0.7035928143712575, 0.655688622754491, 0.8068862275449101, 0.7544910179640718, 0.8143712574850299, 0.6407185628742516, 0.6721556886227545, 0.7844311377245509, 0.8188622754491018, 0.8233532934131736, 0.7215568862275449, 0.7949101796407185, 0.8098802395209581, 0.6332335329341318, 0.8413173652694611, 0.6931137724550899, 0.8562874251497006, 0.7589820359281437, 0.7619760479041916, 0.8233532934131736, 0.6541916167664671, 0.812874251497006, 0.7529940119760479, 0.7664670658682635, 0.6077844311377245, 0.7275449101796407, 0.6796407185628742, 0.7485029940119761, 0.8143712574850299, 0.7694610778443114, 0.8278443113772455, 0.8008982035928144, 0.7470059880239521, 0.6272455089820359, 0.7754491017964071, 0.8398203592814372, 0.8517964071856288, 0.8488023952095808, 0.812874251497006, 0.6407185628742516, 0.781437125748503, 0.7170658682634731, 0.718562874251497, 0.7604790419161677, 0.8248502994011976, 0.5748502994011976, 0.8233532934131736, 0.8338323353293413, 0.6976047904191617, 0.8263473053892215, 0.8143712574850299, 0.7485029940119761, 0.8308383233532934, 0.8173652694610778, 0.8458083832335329, 0.7050898203592815, 0.8053892215568862]\n",
      "Standard Deviation: 0.0761590302109852\n",
      "Mean: 0.7556137724550898\n"
     ]
    }
   ],
   "source": [
    "repetition(X,y)"
   ]
  },
  {
   "cell_type": "markdown",
   "id": "a006d4b3",
   "metadata": {},
   "source": [
    "# 15. Lymphography Dataset"
   ]
  },
  {
   "cell_type": "code",
   "execution_count": 143,
   "id": "2d0ac6f1",
   "metadata": {},
   "outputs": [],
   "source": [
    "# Loading the dataset\n",
    "df = pd.read_csv(\"datasets/lymphography.csv\")"
   ]
  },
  {
   "cell_type": "code",
   "execution_count": 144,
   "id": "0b5dae74",
   "metadata": {},
   "outputs": [
    {
     "data": {
      "text/html": [
       "<div>\n",
       "<style scoped>\n",
       "    .dataframe tbody tr th:only-of-type {\n",
       "        vertical-align: middle;\n",
       "    }\n",
       "\n",
       "    .dataframe tbody tr th {\n",
       "        vertical-align: top;\n",
       "    }\n",
       "\n",
       "    .dataframe thead th {\n",
       "        text-align: right;\n",
       "    }\n",
       "</style>\n",
       "<table border=\"1\" class=\"dataframe\">\n",
       "  <thead>\n",
       "    <tr style=\"text-align: right;\">\n",
       "      <th></th>\n",
       "      <th>class</th>\n",
       "      <th>lymphatics</th>\n",
       "      <th>block of affere</th>\n",
       "      <th>bl. of lymph. c</th>\n",
       "      <th>bl. of lymph. s</th>\n",
       "      <th>by pass</th>\n",
       "      <th>extravasates</th>\n",
       "      <th>regeneration of</th>\n",
       "      <th>early uptake in</th>\n",
       "      <th>lym.nodes dimin</th>\n",
       "      <th>lym.nodes enlar</th>\n",
       "      <th>changes in lym.</th>\n",
       "      <th>defect in node</th>\n",
       "      <th>changes in node</th>\n",
       "      <th>changes in stru</th>\n",
       "      <th>special forms</th>\n",
       "      <th>dislocation of</th>\n",
       "      <th>exclusion of no</th>\n",
       "      <th>no. of nodes in</th>\n",
       "    </tr>\n",
       "  </thead>\n",
       "  <tbody>\n",
       "    <tr>\n",
       "      <th>0</th>\n",
       "      <td>3</td>\n",
       "      <td>4</td>\n",
       "      <td>2</td>\n",
       "      <td>1</td>\n",
       "      <td>1</td>\n",
       "      <td>1</td>\n",
       "      <td>1</td>\n",
       "      <td>1</td>\n",
       "      <td>2</td>\n",
       "      <td>1</td>\n",
       "      <td>2</td>\n",
       "      <td>2</td>\n",
       "      <td>2</td>\n",
       "      <td>4</td>\n",
       "      <td>8</td>\n",
       "      <td>1</td>\n",
       "      <td>1</td>\n",
       "      <td>2</td>\n",
       "      <td>2</td>\n",
       "    </tr>\n",
       "    <tr>\n",
       "      <th>1</th>\n",
       "      <td>2</td>\n",
       "      <td>3</td>\n",
       "      <td>2</td>\n",
       "      <td>1</td>\n",
       "      <td>1</td>\n",
       "      <td>2</td>\n",
       "      <td>2</td>\n",
       "      <td>1</td>\n",
       "      <td>2</td>\n",
       "      <td>1</td>\n",
       "      <td>3</td>\n",
       "      <td>3</td>\n",
       "      <td>2</td>\n",
       "      <td>3</td>\n",
       "      <td>4</td>\n",
       "      <td>2</td>\n",
       "      <td>2</td>\n",
       "      <td>2</td>\n",
       "      <td>2</td>\n",
       "    </tr>\n",
       "    <tr>\n",
       "      <th>2</th>\n",
       "      <td>3</td>\n",
       "      <td>3</td>\n",
       "      <td>2</td>\n",
       "      <td>2</td>\n",
       "      <td>2</td>\n",
       "      <td>2</td>\n",
       "      <td>2</td>\n",
       "      <td>2</td>\n",
       "      <td>2</td>\n",
       "      <td>1</td>\n",
       "      <td>4</td>\n",
       "      <td>3</td>\n",
       "      <td>3</td>\n",
       "      <td>4</td>\n",
       "      <td>8</td>\n",
       "      <td>3</td>\n",
       "      <td>2</td>\n",
       "      <td>2</td>\n",
       "      <td>7</td>\n",
       "    </tr>\n",
       "    <tr>\n",
       "      <th>3</th>\n",
       "      <td>3</td>\n",
       "      <td>3</td>\n",
       "      <td>1</td>\n",
       "      <td>1</td>\n",
       "      <td>1</td>\n",
       "      <td>1</td>\n",
       "      <td>2</td>\n",
       "      <td>1</td>\n",
       "      <td>2</td>\n",
       "      <td>1</td>\n",
       "      <td>3</td>\n",
       "      <td>3</td>\n",
       "      <td>4</td>\n",
       "      <td>4</td>\n",
       "      <td>4</td>\n",
       "      <td>3</td>\n",
       "      <td>1</td>\n",
       "      <td>2</td>\n",
       "      <td>6</td>\n",
       "    </tr>\n",
       "    <tr>\n",
       "      <th>4</th>\n",
       "      <td>2</td>\n",
       "      <td>3</td>\n",
       "      <td>1</td>\n",
       "      <td>1</td>\n",
       "      <td>1</td>\n",
       "      <td>1</td>\n",
       "      <td>1</td>\n",
       "      <td>1</td>\n",
       "      <td>1</td>\n",
       "      <td>1</td>\n",
       "      <td>2</td>\n",
       "      <td>2</td>\n",
       "      <td>4</td>\n",
       "      <td>3</td>\n",
       "      <td>5</td>\n",
       "      <td>1</td>\n",
       "      <td>2</td>\n",
       "      <td>2</td>\n",
       "      <td>1</td>\n",
       "    </tr>\n",
       "  </tbody>\n",
       "</table>\n",
       "</div>"
      ],
      "text/plain": [
       "   class  lymphatics  block of affere  bl. of lymph. c  bl. of lymph. s  \\\n",
       "0      3           4                2                1                1   \n",
       "1      2           3                2                1                1   \n",
       "2      3           3                2                2                2   \n",
       "3      3           3                1                1                1   \n",
       "4      2           3                1                1                1   \n",
       "\n",
       "   by pass  extravasates  regeneration of  early uptake in  lym.nodes dimin  \\\n",
       "0        1             1                1                2                1   \n",
       "1        2             2                1                2                1   \n",
       "2        2             2                2                2                1   \n",
       "3        1             2                1                2                1   \n",
       "4        1             1                1                1                1   \n",
       "\n",
       "   lym.nodes enlar  changes in lym.  defect in node  changes in node  \\\n",
       "0                2                2               2                4   \n",
       "1                3                3               2                3   \n",
       "2                4                3               3                4   \n",
       "3                3                3               4                4   \n",
       "4                2                2               4                3   \n",
       "\n",
       "   changes in stru  special forms  dislocation of  exclusion of no  \\\n",
       "0                8              1               1                2   \n",
       "1                4              2               2                2   \n",
       "2                8              3               2                2   \n",
       "3                4              3               1                2   \n",
       "4                5              1               2                2   \n",
       "\n",
       "   no. of nodes in  \n",
       "0                2  \n",
       "1                2  \n",
       "2                7  \n",
       "3                6  \n",
       "4                1  "
      ]
     },
     "execution_count": 144,
     "metadata": {},
     "output_type": "execute_result"
    }
   ],
   "source": [
    "# Displaying the first five records of the dataset\n",
    "df.head()"
   ]
  },
  {
   "cell_type": "code",
   "execution_count": 145,
   "id": "bb9eda8f",
   "metadata": {},
   "outputs": [
    {
     "data": {
      "text/plain": [
       "(148, 19)"
      ]
     },
     "execution_count": 145,
     "metadata": {},
     "output_type": "execute_result"
    }
   ],
   "source": [
    "# Displaying the shape of the dataset i.e. (no. of records, no. of attributes)\n",
    "df.shape"
   ]
  },
  {
   "cell_type": "code",
   "execution_count": 146,
   "id": "63a25f00",
   "metadata": {},
   "outputs": [],
   "source": [
    "# Converting '?' to NaN incase it is present in the dataset\n",
    "df.replace('?', np.nan, inplace=True)"
   ]
  },
  {
   "cell_type": "code",
   "execution_count": 147,
   "id": "d1f4238e-b303-4d43-83cc-8336a1ef2e56",
   "metadata": {},
   "outputs": [
    {
     "data": {
      "text/plain": [
       "2    81\n",
       "3    61\n",
       "4     4\n",
       "1     2\n",
       "Name: class, dtype: int64"
      ]
     },
     "execution_count": 147,
     "metadata": {},
     "output_type": "execute_result"
    }
   ],
   "source": [
    "# Checking the instance counts of the target attribute\n",
    "df['class'].value_counts()"
   ]
  },
  {
   "cell_type": "code",
   "execution_count": 148,
   "id": "88b648b8-e8c3-4a36-821f-a195089d89b5",
   "metadata": {},
   "outputs": [],
   "source": [
    "# Removing classes having <= 4 instances\n",
    "df = remove_class(df,'class')"
   ]
  },
  {
   "cell_type": "code",
   "execution_count": 149,
   "id": "9fe6aa59",
   "metadata": {},
   "outputs": [],
   "source": [
    "# Encoding the attributes of the dataset\n",
    "df = encoding(df)"
   ]
  },
  {
   "cell_type": "code",
   "execution_count": 150,
   "id": "253cdfd9",
   "metadata": {},
   "outputs": [],
   "source": [
    "# Imputing the missing values if any by using KNN Imputer\n",
    "df = imputation(df)"
   ]
  },
  {
   "cell_type": "code",
   "execution_count": 151,
   "id": "9da42189",
   "metadata": {},
   "outputs": [],
   "source": [
    "# Separating dependent and independent variables\n",
    "X, y = separating(df, 'class')"
   ]
  },
  {
   "cell_type": "code",
   "execution_count": 152,
   "id": "31de079d-e4fb-4c55-93ca-b9ded5ea559e",
   "metadata": {},
   "outputs": [],
   "source": [
    "# Handing class imbalance problem using SMOTEN\n",
    "X, y = oversampling(X,y)"
   ]
  },
  {
   "cell_type": "code",
   "execution_count": 153,
   "id": "7f49824c-0669-4a40-9e0e-1c3a88f53076",
   "metadata": {},
   "outputs": [
    {
     "name": "stdout",
     "output_type": "stream",
     "text": [
      "[0.7272727272727273, 0.6666666666666666, 0.7272727272727273, 0.9393939393939394, 0.8181818181818182, 0.7272727272727273, 0.7575757575757576, 0.8484848484848485, 0.7272727272727273, 0.9090909090909091, 0.7272727272727273, 0.6666666666666666, 0.6666666666666666, 0.696969696969697, 0.48484848484848486, 0.7575757575757576, 0.7878787878787878, 0.6666666666666666, 0.8181818181818182, 0.9090909090909091, 0.8484848484848485, 0.7272727272727273, 0.8181818181818182, 0.7272727272727273, 0.8484848484848485, 0.8484848484848485, 0.6363636363636364, 0.7272727272727273, 0.7272727272727273, 0.696969696969697, 0.7575757575757576, 0.9090909090909091, 0.696969696969697, 0.8181818181818182, 0.7575757575757576, 0.6666666666666666, 0.696969696969697, 0.7575757575757576, 0.8787878787878788, 0.696969696969697, 0.8787878787878788, 0.8181818181818182, 0.8484848484848485, 0.7878787878787878, 0.7878787878787878, 0.8787878787878788, 0.6666666666666666, 0.7878787878787878, 0.8787878787878788, 0.6666666666666666, 0.9090909090909091, 0.6060606060606061, 0.8484848484848485, 0.6666666666666666, 0.8484848484848485, 0.8787878787878788, 0.7878787878787878, 0.7272727272727273, 0.7878787878787878, 0.7575757575757576, 0.8181818181818182, 0.7878787878787878, 0.7878787878787878, 0.8787878787878788, 0.8181818181818182, 0.7272727272727273, 0.7575757575757576, 0.5151515151515151, 0.6666666666666666, 0.7575757575757576, 0.9393939393939394, 0.696969696969697, 0.6666666666666666, 0.9090909090909091, 0.36363636363636365, 0.8181818181818182, 0.7272727272727273, 0.5757575757575758, 0.5454545454545454, 0.8484848484848485, 0.8484848484848485, 0.6060606060606061, 0.8181818181818182, 0.6363636363636364, 0.9393939393939394, 0.8484848484848485, 0.9393939393939394, 0.3939393939393939, 0.8181818181818182, 0.7575757575757576, 0.9090909090909091, 0.9090909090909091, 0.9090909090909091, 0.5757575757575758, 0.8484848484848485, 0.7878787878787878, 0.696969696969697, 0.6060606060606061, 0.696969696969697, 0.8181818181818182]\n",
      "Standard Deviation: 0.1138281210363209\n",
      "Mean: 0.7606060606060607\n"
     ]
    }
   ],
   "source": [
    "repetition(X,y)"
   ]
  },
  {
   "cell_type": "markdown",
   "id": "959d3fec",
   "metadata": {},
   "source": [
    "# 16. Connect-4 Dataset"
   ]
  },
  {
   "cell_type": "code",
   "execution_count": 154,
   "id": "ed7e330b",
   "metadata": {},
   "outputs": [],
   "source": [
    "# Loading the dataset\n",
    "df = pd.read_csv(\"datasets/connect-4.csv\")"
   ]
  },
  {
   "cell_type": "code",
   "execution_count": 155,
   "id": "05cd890c",
   "metadata": {},
   "outputs": [
    {
     "data": {
      "text/html": [
       "<div>\n",
       "<style scoped>\n",
       "    .dataframe tbody tr th:only-of-type {\n",
       "        vertical-align: middle;\n",
       "    }\n",
       "\n",
       "    .dataframe tbody tr th {\n",
       "        vertical-align: top;\n",
       "    }\n",
       "\n",
       "    .dataframe thead th {\n",
       "        text-align: right;\n",
       "    }\n",
       "</style>\n",
       "<table border=\"1\" class=\"dataframe\">\n",
       "  <thead>\n",
       "    <tr style=\"text-align: right;\">\n",
       "      <th></th>\n",
       "      <th>a1</th>\n",
       "      <th>a2</th>\n",
       "      <th>a3</th>\n",
       "      <th>a4</th>\n",
       "      <th>a5</th>\n",
       "      <th>a6</th>\n",
       "      <th>b1</th>\n",
       "      <th>b2</th>\n",
       "      <th>b3</th>\n",
       "      <th>b4</th>\n",
       "      <th>...</th>\n",
       "      <th>f4</th>\n",
       "      <th>f5</th>\n",
       "      <th>f6</th>\n",
       "      <th>g1</th>\n",
       "      <th>g2</th>\n",
       "      <th>g3</th>\n",
       "      <th>g4</th>\n",
       "      <th>g5</th>\n",
       "      <th>g6</th>\n",
       "      <th>class</th>\n",
       "    </tr>\n",
       "  </thead>\n",
       "  <tbody>\n",
       "    <tr>\n",
       "      <th>0</th>\n",
       "      <td>b</td>\n",
       "      <td>b</td>\n",
       "      <td>b</td>\n",
       "      <td>b</td>\n",
       "      <td>b</td>\n",
       "      <td>b</td>\n",
       "      <td>b</td>\n",
       "      <td>b</td>\n",
       "      <td>b</td>\n",
       "      <td>b</td>\n",
       "      <td>...</td>\n",
       "      <td>b</td>\n",
       "      <td>b</td>\n",
       "      <td>b</td>\n",
       "      <td>b</td>\n",
       "      <td>b</td>\n",
       "      <td>b</td>\n",
       "      <td>b</td>\n",
       "      <td>b</td>\n",
       "      <td>b</td>\n",
       "      <td>win</td>\n",
       "    </tr>\n",
       "    <tr>\n",
       "      <th>1</th>\n",
       "      <td>b</td>\n",
       "      <td>b</td>\n",
       "      <td>b</td>\n",
       "      <td>b</td>\n",
       "      <td>b</td>\n",
       "      <td>b</td>\n",
       "      <td>b</td>\n",
       "      <td>b</td>\n",
       "      <td>b</td>\n",
       "      <td>b</td>\n",
       "      <td>...</td>\n",
       "      <td>b</td>\n",
       "      <td>b</td>\n",
       "      <td>b</td>\n",
       "      <td>b</td>\n",
       "      <td>b</td>\n",
       "      <td>b</td>\n",
       "      <td>b</td>\n",
       "      <td>b</td>\n",
       "      <td>b</td>\n",
       "      <td>win</td>\n",
       "    </tr>\n",
       "    <tr>\n",
       "      <th>2</th>\n",
       "      <td>b</td>\n",
       "      <td>b</td>\n",
       "      <td>b</td>\n",
       "      <td>b</td>\n",
       "      <td>b</td>\n",
       "      <td>b</td>\n",
       "      <td>o</td>\n",
       "      <td>b</td>\n",
       "      <td>b</td>\n",
       "      <td>b</td>\n",
       "      <td>...</td>\n",
       "      <td>b</td>\n",
       "      <td>b</td>\n",
       "      <td>b</td>\n",
       "      <td>b</td>\n",
       "      <td>b</td>\n",
       "      <td>b</td>\n",
       "      <td>b</td>\n",
       "      <td>b</td>\n",
       "      <td>b</td>\n",
       "      <td>win</td>\n",
       "    </tr>\n",
       "    <tr>\n",
       "      <th>3</th>\n",
       "      <td>b</td>\n",
       "      <td>b</td>\n",
       "      <td>b</td>\n",
       "      <td>b</td>\n",
       "      <td>b</td>\n",
       "      <td>b</td>\n",
       "      <td>b</td>\n",
       "      <td>b</td>\n",
       "      <td>b</td>\n",
       "      <td>b</td>\n",
       "      <td>...</td>\n",
       "      <td>b</td>\n",
       "      <td>b</td>\n",
       "      <td>b</td>\n",
       "      <td>b</td>\n",
       "      <td>b</td>\n",
       "      <td>b</td>\n",
       "      <td>b</td>\n",
       "      <td>b</td>\n",
       "      <td>b</td>\n",
       "      <td>win</td>\n",
       "    </tr>\n",
       "    <tr>\n",
       "      <th>4</th>\n",
       "      <td>o</td>\n",
       "      <td>b</td>\n",
       "      <td>b</td>\n",
       "      <td>b</td>\n",
       "      <td>b</td>\n",
       "      <td>b</td>\n",
       "      <td>b</td>\n",
       "      <td>b</td>\n",
       "      <td>b</td>\n",
       "      <td>b</td>\n",
       "      <td>...</td>\n",
       "      <td>b</td>\n",
       "      <td>b</td>\n",
       "      <td>b</td>\n",
       "      <td>b</td>\n",
       "      <td>b</td>\n",
       "      <td>b</td>\n",
       "      <td>b</td>\n",
       "      <td>b</td>\n",
       "      <td>b</td>\n",
       "      <td>win</td>\n",
       "    </tr>\n",
       "  </tbody>\n",
       "</table>\n",
       "<p>5 rows × 43 columns</p>\n",
       "</div>"
      ],
      "text/plain": [
       "  a1 a2 a3 a4 a5 a6 b1 b2 b3 b4  ... f4 f5 f6 g1 g2 g3 g4 g5 g6 class\n",
       "0  b  b  b  b  b  b  b  b  b  b  ...  b  b  b  b  b  b  b  b  b   win\n",
       "1  b  b  b  b  b  b  b  b  b  b  ...  b  b  b  b  b  b  b  b  b   win\n",
       "2  b  b  b  b  b  b  o  b  b  b  ...  b  b  b  b  b  b  b  b  b   win\n",
       "3  b  b  b  b  b  b  b  b  b  b  ...  b  b  b  b  b  b  b  b  b   win\n",
       "4  o  b  b  b  b  b  b  b  b  b  ...  b  b  b  b  b  b  b  b  b   win\n",
       "\n",
       "[5 rows x 43 columns]"
      ]
     },
     "execution_count": 155,
     "metadata": {},
     "output_type": "execute_result"
    }
   ],
   "source": [
    "# Displaying the first five records of the dataset\n",
    "df.head()"
   ]
  },
  {
   "cell_type": "code",
   "execution_count": 156,
   "id": "254a5764",
   "metadata": {},
   "outputs": [
    {
     "data": {
      "text/plain": [
       "(67557, 43)"
      ]
     },
     "execution_count": 156,
     "metadata": {},
     "output_type": "execute_result"
    }
   ],
   "source": [
    "# Displaying the shape of the dataset i.e. (no. of records, no. of attributes)\n",
    "df.shape"
   ]
  },
  {
   "cell_type": "code",
   "execution_count": 157,
   "id": "d4b08502",
   "metadata": {},
   "outputs": [],
   "source": [
    "# Converting '?' to NaN incase it is present in the dataset\n",
    "df.replace('?', np.nan, inplace=True)"
   ]
  },
  {
   "cell_type": "code",
   "execution_count": 158,
   "id": "b63aef67-aacc-441a-bbbc-05d40336b398",
   "metadata": {},
   "outputs": [
    {
     "data": {
      "text/plain": [
       "win     44473\n",
       "loss    16635\n",
       "draw     6449\n",
       "Name: class, dtype: int64"
      ]
     },
     "execution_count": 158,
     "metadata": {},
     "output_type": "execute_result"
    }
   ],
   "source": [
    "# Checking the instance counts of the target attribute\n",
    "df['class'].value_counts()"
   ]
  },
  {
   "cell_type": "code",
   "execution_count": 159,
   "id": "17c36228",
   "metadata": {},
   "outputs": [],
   "source": [
    "# Encoding the attributes of the dataset\n",
    "df = encoding(df)"
   ]
  },
  {
   "cell_type": "code",
   "execution_count": 160,
   "id": "97bb24ad",
   "metadata": {},
   "outputs": [],
   "source": [
    "# Imputing the missing values if any by using KNN Imputer\n",
    "df = imputation(df)"
   ]
  },
  {
   "cell_type": "code",
   "execution_count": 161,
   "id": "bcd6339f",
   "metadata": {},
   "outputs": [],
   "source": [
    "# Separating dependent and independent variables\n",
    "X, y = separating(df, 'class')"
   ]
  },
  {
   "cell_type": "code",
   "execution_count": 162,
   "id": "89a2d8f1-1e7c-4406-b28d-2a4889af44a0",
   "metadata": {},
   "outputs": [],
   "source": [
    "# Handing class imbalance problem using SMOTEN\n",
    "X, y = oversampling(X,y)"
   ]
  },
  {
   "cell_type": "code",
   "execution_count": 163,
   "id": "f65c6361-3fd2-49d6-a30c-d736d2a65d62",
   "metadata": {},
   "outputs": [
    {
     "name": "stdout",
     "output_type": "stream",
     "text": [
      "[0.4455104182281517, 0.432206565732274, 0.4359541298156199, 0.4368160695547894, 0.4448733323339829, 0.4244865837205816, 0.42977064907809925, 0.4697571578473992, 0.4366286913506221, 0.404886823564683, 0.4118947684005396, 0.43055763753560183, 0.44097586568730324, 0.43531704392145104, 0.4337055913656124, 0.4268475490930895, 0.3865612351971219, 0.42291260680557635, 0.41418078249138063, 0.4086343876480288, 0.4401139259481337, 0.3930819967021436, 0.4332184080347774, 0.43183180932393944, 0.4196522260530655, 0.43925198620896416, 0.43423025033728074, 0.4648103732573827, 0.46323639634237745, 0.42842152600809474, 0.4161295158147204, 0.4201394093839005, 0.41556738120221853, 0.4405636336381352, 0.46098785789236996, 0.42917103882476393, 0.4545045720281817, 0.39952780692549844, 0.43033278369060113, 0.42733473242392445, 0.4345300554639484, 0.4246364862839155, 0.40623594663468743, 0.40623594663468743, 0.4395143156947984, 0.46364862839154547, 0.4434492579823115, 0.4169539799130565, 0.4363663618647879, 0.4387648028781292, 0.45356768100734524, 0.4483585669314945, 0.440301304152301, 0.43141957727477137, 0.4347174336681157, 0.42808424524059363, 0.4404512067156348, 0.43659121570978865, 0.4282716234447609, 0.4258731824314196, 0.4809623744566032, 0.46226202968070756, 0.43591665417478637, 0.402600809473842, 0.40218857742467395, 0.4239619247489132, 0.440301304152301, 0.3988907210313296, 0.40200119922050664, 0.426397841403088, 0.414705441463049, 0.43108229650727026, 0.4478713836006596, 0.41744116324389147, 0.446110028481487, 0.44790885924149304, 0.4047369210013491, 0.4464473092489882, 0.4302203567681007, 0.4290586119022635, 0.41002098635886675, 0.4343801529006146, 0.43917703492729726, 0.45371758357067904, 0.4173287363213911, 0.4207390196372358, 0.42725978114225754, 0.4372283016039574, 0.4373782041672913, 0.4222005696297407, 0.43201918752810675, 0.43175685804227254, 0.4403762554339679, 0.46241193224404137, 0.38337580572627794, 0.4055613850996852, 0.4697571578473992, 0.44449857592564834, 0.45581621945735273, 0.4333683105981112]\n",
      "Standard Deviation: 0.018482277484602416\n",
      "Mean: 0.4314199520311798\n"
     ]
    }
   ],
   "source": [
    "repetition(X,y)"
   ]
  },
  {
   "cell_type": "markdown",
   "id": "5b2c4496",
   "metadata": {},
   "source": [
    "# 17. Hayes-Roth Dataset"
   ]
  },
  {
   "cell_type": "code",
   "execution_count": 164,
   "id": "b36eb5ff",
   "metadata": {},
   "outputs": [],
   "source": [
    "# Loading the dataset\n",
    "df = pd.read_csv(\"datasets/hayes-roth.csv\")"
   ]
  },
  {
   "cell_type": "code",
   "execution_count": 165,
   "id": "1b2e2e09",
   "metadata": {},
   "outputs": [
    {
     "data": {
      "text/html": [
       "<div>\n",
       "<style scoped>\n",
       "    .dataframe tbody tr th:only-of-type {\n",
       "        vertical-align: middle;\n",
       "    }\n",
       "\n",
       "    .dataframe tbody tr th {\n",
       "        vertical-align: top;\n",
       "    }\n",
       "\n",
       "    .dataframe thead th {\n",
       "        text-align: right;\n",
       "    }\n",
       "</style>\n",
       "<table border=\"1\" class=\"dataframe\">\n",
       "  <thead>\n",
       "    <tr style=\"text-align: right;\">\n",
       "      <th></th>\n",
       "      <th>hobby</th>\n",
       "      <th>age</th>\n",
       "      <th>educational_level</th>\n",
       "      <th>marital_status</th>\n",
       "      <th>class</th>\n",
       "    </tr>\n",
       "  </thead>\n",
       "  <tbody>\n",
       "    <tr>\n",
       "      <th>0</th>\n",
       "      <td>2</td>\n",
       "      <td>1</td>\n",
       "      <td>1</td>\n",
       "      <td>2</td>\n",
       "      <td>1</td>\n",
       "    </tr>\n",
       "    <tr>\n",
       "      <th>1</th>\n",
       "      <td>2</td>\n",
       "      <td>1</td>\n",
       "      <td>3</td>\n",
       "      <td>2</td>\n",
       "      <td>2</td>\n",
       "    </tr>\n",
       "    <tr>\n",
       "      <th>2</th>\n",
       "      <td>3</td>\n",
       "      <td>1</td>\n",
       "      <td>4</td>\n",
       "      <td>1</td>\n",
       "      <td>3</td>\n",
       "    </tr>\n",
       "    <tr>\n",
       "      <th>3</th>\n",
       "      <td>2</td>\n",
       "      <td>4</td>\n",
       "      <td>2</td>\n",
       "      <td>2</td>\n",
       "      <td>3</td>\n",
       "    </tr>\n",
       "    <tr>\n",
       "      <th>4</th>\n",
       "      <td>1</td>\n",
       "      <td>1</td>\n",
       "      <td>3</td>\n",
       "      <td>4</td>\n",
       "      <td>3</td>\n",
       "    </tr>\n",
       "  </tbody>\n",
       "</table>\n",
       "</div>"
      ],
      "text/plain": [
       "   hobby  age  educational_level  marital_status  class\n",
       "0      2    1                  1               2      1\n",
       "1      2    1                  3               2      2\n",
       "2      3    1                  4               1      3\n",
       "3      2    4                  2               2      3\n",
       "4      1    1                  3               4      3"
      ]
     },
     "execution_count": 165,
     "metadata": {},
     "output_type": "execute_result"
    }
   ],
   "source": [
    "# Displaying the first five records of the dataset\n",
    "df.head()"
   ]
  },
  {
   "cell_type": "code",
   "execution_count": 166,
   "id": "f599eb02",
   "metadata": {},
   "outputs": [
    {
     "data": {
      "text/plain": [
       "(160, 5)"
      ]
     },
     "execution_count": 166,
     "metadata": {},
     "output_type": "execute_result"
    }
   ],
   "source": [
    "# Displaying the shape of the dataset i.e. (no. of records, no. of attributes)\n",
    "df.shape"
   ]
  },
  {
   "cell_type": "code",
   "execution_count": 167,
   "id": "717c0f81",
   "metadata": {},
   "outputs": [],
   "source": [
    "# Converting '?' to NaN incase it is present in the dataset\n",
    "df.replace('?', np.nan, inplace=True)"
   ]
  },
  {
   "cell_type": "code",
   "execution_count": 168,
   "id": "85448b35-3b42-4ccd-b2d9-5b39bc73c5a3",
   "metadata": {},
   "outputs": [
    {
     "data": {
      "text/plain": [
       "1    65\n",
       "2    64\n",
       "3    31\n",
       "Name: class, dtype: int64"
      ]
     },
     "execution_count": 168,
     "metadata": {},
     "output_type": "execute_result"
    }
   ],
   "source": [
    "# Checking the instance counts of the target attribute\n",
    "df['class'].value_counts()"
   ]
  },
  {
   "cell_type": "code",
   "execution_count": 169,
   "id": "12ef3ba0",
   "metadata": {},
   "outputs": [],
   "source": [
    "# Encoding the attributes of the dataset\n",
    "df = encoding(df)"
   ]
  },
  {
   "cell_type": "code",
   "execution_count": 170,
   "id": "a42aa593",
   "metadata": {},
   "outputs": [],
   "source": [
    "# Imputing the missing values if any by using KNN Imputer\n",
    "df = imputation(df)"
   ]
  },
  {
   "cell_type": "code",
   "execution_count": 171,
   "id": "c61d15da",
   "metadata": {},
   "outputs": [],
   "source": [
    "# Separating dependent and independent variables\n",
    "X, y = separating(df, 'class')"
   ]
  },
  {
   "cell_type": "code",
   "execution_count": 172,
   "id": "c59de233-11fc-4635-8110-2a1664abaf28",
   "metadata": {},
   "outputs": [
    {
     "name": "stdout",
     "output_type": "stream",
     "text": [
      "[0.65625, 0.59375, 0.6875, 0.59375, 0.5625, 0.65625, 0.40625, 0.5, 0.6875, 0.625, 0.59375, 0.5625, 0.59375, 0.625, 0.65625, 0.59375, 0.71875, 0.5, 0.5625, 0.71875, 0.59375, 0.5, 0.71875, 0.59375, 0.71875, 0.5625, 0.53125, 0.625, 0.71875, 0.625, 0.625, 0.78125, 0.625, 0.71875, 0.59375, 0.46875, 0.78125, 0.75, 0.53125, 0.65625, 0.6875, 0.6875, 0.65625, 0.6875, 0.625, 0.625, 0.40625, 0.59375, 0.75, 0.4375, 0.5625, 0.6875, 0.59375, 0.625, 0.6875, 0.75, 0.65625, 0.40625, 0.5625, 0.78125, 0.5625, 0.59375, 0.59375, 0.65625, 0.625, 0.625, 0.75, 0.6875, 0.59375, 0.53125, 0.71875, 0.5625, 0.65625, 0.53125, 0.75, 0.65625, 0.6875, 0.78125, 0.59375, 0.65625, 0.59375, 0.625, 0.65625, 0.375, 0.59375, 0.34375, 0.5625, 0.59375, 0.5625, 0.40625, 0.65625, 0.65625, 0.59375, 0.65625, 0.75, 0.59375, 0.5, 0.6875, 0.6875, 0.78125]\n",
      "Standard Deviation: 0.0937557289916195\n",
      "Mean: 0.6196875\n"
     ]
    }
   ],
   "source": [
    "repetition(X,y)"
   ]
  },
  {
   "cell_type": "markdown",
   "id": "29375c84",
   "metadata": {},
   "source": [
    "# 18. Lung Cancer Prediction Dataset"
   ]
  },
  {
   "cell_type": "code",
   "execution_count": 173,
   "id": "7903131d",
   "metadata": {},
   "outputs": [],
   "source": [
    "# Loading the dataset\n",
    "df = pd.read_csv(\"datasets/cancer-patients.csv\")"
   ]
  },
  {
   "cell_type": "code",
   "execution_count": 174,
   "id": "b6ca20df",
   "metadata": {},
   "outputs": [
    {
     "data": {
      "text/html": [
       "<div>\n",
       "<style scoped>\n",
       "    .dataframe tbody tr th:only-of-type {\n",
       "        vertical-align: middle;\n",
       "    }\n",
       "\n",
       "    .dataframe tbody tr th {\n",
       "        vertical-align: top;\n",
       "    }\n",
       "\n",
       "    .dataframe thead th {\n",
       "        text-align: right;\n",
       "    }\n",
       "</style>\n",
       "<table border=\"1\" class=\"dataframe\">\n",
       "  <thead>\n",
       "    <tr style=\"text-align: right;\">\n",
       "      <th></th>\n",
       "      <th>index</th>\n",
       "      <th>Patient Id</th>\n",
       "      <th>Age</th>\n",
       "      <th>Gender</th>\n",
       "      <th>Air Pollution</th>\n",
       "      <th>Alcohol use</th>\n",
       "      <th>Dust Allergy</th>\n",
       "      <th>OccuPational Hazards</th>\n",
       "      <th>Genetic Risk</th>\n",
       "      <th>chronic Lung Disease</th>\n",
       "      <th>...</th>\n",
       "      <th>Fatigue</th>\n",
       "      <th>Weight Loss</th>\n",
       "      <th>Shortness of Breath</th>\n",
       "      <th>Wheezing</th>\n",
       "      <th>Swallowing Difficulty</th>\n",
       "      <th>Clubbing of Finger Nails</th>\n",
       "      <th>Frequent Cold</th>\n",
       "      <th>Dry Cough</th>\n",
       "      <th>Snoring</th>\n",
       "      <th>Level</th>\n",
       "    </tr>\n",
       "  </thead>\n",
       "  <tbody>\n",
       "    <tr>\n",
       "      <th>0</th>\n",
       "      <td>0</td>\n",
       "      <td>P1</td>\n",
       "      <td>33</td>\n",
       "      <td>1</td>\n",
       "      <td>2</td>\n",
       "      <td>4</td>\n",
       "      <td>5</td>\n",
       "      <td>4</td>\n",
       "      <td>3</td>\n",
       "      <td>2</td>\n",
       "      <td>...</td>\n",
       "      <td>3</td>\n",
       "      <td>4</td>\n",
       "      <td>2</td>\n",
       "      <td>2</td>\n",
       "      <td>3</td>\n",
       "      <td>1</td>\n",
       "      <td>2</td>\n",
       "      <td>3</td>\n",
       "      <td>4</td>\n",
       "      <td>Low</td>\n",
       "    </tr>\n",
       "    <tr>\n",
       "      <th>1</th>\n",
       "      <td>1</td>\n",
       "      <td>P10</td>\n",
       "      <td>17</td>\n",
       "      <td>1</td>\n",
       "      <td>3</td>\n",
       "      <td>1</td>\n",
       "      <td>5</td>\n",
       "      <td>3</td>\n",
       "      <td>4</td>\n",
       "      <td>2</td>\n",
       "      <td>...</td>\n",
       "      <td>1</td>\n",
       "      <td>3</td>\n",
       "      <td>7</td>\n",
       "      <td>8</td>\n",
       "      <td>6</td>\n",
       "      <td>2</td>\n",
       "      <td>1</td>\n",
       "      <td>7</td>\n",
       "      <td>2</td>\n",
       "      <td>Medium</td>\n",
       "    </tr>\n",
       "    <tr>\n",
       "      <th>2</th>\n",
       "      <td>2</td>\n",
       "      <td>P100</td>\n",
       "      <td>35</td>\n",
       "      <td>1</td>\n",
       "      <td>4</td>\n",
       "      <td>5</td>\n",
       "      <td>6</td>\n",
       "      <td>5</td>\n",
       "      <td>5</td>\n",
       "      <td>4</td>\n",
       "      <td>...</td>\n",
       "      <td>8</td>\n",
       "      <td>7</td>\n",
       "      <td>9</td>\n",
       "      <td>2</td>\n",
       "      <td>1</td>\n",
       "      <td>4</td>\n",
       "      <td>6</td>\n",
       "      <td>7</td>\n",
       "      <td>2</td>\n",
       "      <td>High</td>\n",
       "    </tr>\n",
       "    <tr>\n",
       "      <th>3</th>\n",
       "      <td>3</td>\n",
       "      <td>P1000</td>\n",
       "      <td>37</td>\n",
       "      <td>1</td>\n",
       "      <td>7</td>\n",
       "      <td>7</td>\n",
       "      <td>7</td>\n",
       "      <td>7</td>\n",
       "      <td>6</td>\n",
       "      <td>7</td>\n",
       "      <td>...</td>\n",
       "      <td>4</td>\n",
       "      <td>2</td>\n",
       "      <td>3</td>\n",
       "      <td>1</td>\n",
       "      <td>4</td>\n",
       "      <td>5</td>\n",
       "      <td>6</td>\n",
       "      <td>7</td>\n",
       "      <td>5</td>\n",
       "      <td>High</td>\n",
       "    </tr>\n",
       "    <tr>\n",
       "      <th>4</th>\n",
       "      <td>4</td>\n",
       "      <td>P101</td>\n",
       "      <td>46</td>\n",
       "      <td>1</td>\n",
       "      <td>6</td>\n",
       "      <td>8</td>\n",
       "      <td>7</td>\n",
       "      <td>7</td>\n",
       "      <td>7</td>\n",
       "      <td>6</td>\n",
       "      <td>...</td>\n",
       "      <td>3</td>\n",
       "      <td>2</td>\n",
       "      <td>4</td>\n",
       "      <td>1</td>\n",
       "      <td>4</td>\n",
       "      <td>2</td>\n",
       "      <td>4</td>\n",
       "      <td>2</td>\n",
       "      <td>3</td>\n",
       "      <td>High</td>\n",
       "    </tr>\n",
       "  </tbody>\n",
       "</table>\n",
       "<p>5 rows × 26 columns</p>\n",
       "</div>"
      ],
      "text/plain": [
       "   index Patient Id  Age  Gender  Air Pollution  Alcohol use  Dust Allergy  \\\n",
       "0      0         P1   33       1              2            4             5   \n",
       "1      1        P10   17       1              3            1             5   \n",
       "2      2       P100   35       1              4            5             6   \n",
       "3      3      P1000   37       1              7            7             7   \n",
       "4      4       P101   46       1              6            8             7   \n",
       "\n",
       "   OccuPational Hazards  Genetic Risk  chronic Lung Disease  ...  Fatigue  \\\n",
       "0                     4             3                     2  ...        3   \n",
       "1                     3             4                     2  ...        1   \n",
       "2                     5             5                     4  ...        8   \n",
       "3                     7             6                     7  ...        4   \n",
       "4                     7             7                     6  ...        3   \n",
       "\n",
       "   Weight Loss  Shortness of Breath  Wheezing  Swallowing Difficulty  \\\n",
       "0            4                    2         2                      3   \n",
       "1            3                    7         8                      6   \n",
       "2            7                    9         2                      1   \n",
       "3            2                    3         1                      4   \n",
       "4            2                    4         1                      4   \n",
       "\n",
       "   Clubbing of Finger Nails  Frequent Cold  Dry Cough  Snoring   Level  \n",
       "0                         1              2          3        4     Low  \n",
       "1                         2              1          7        2  Medium  \n",
       "2                         4              6          7        2    High  \n",
       "3                         5              6          7        5    High  \n",
       "4                         2              4          2        3    High  \n",
       "\n",
       "[5 rows x 26 columns]"
      ]
     },
     "execution_count": 174,
     "metadata": {},
     "output_type": "execute_result"
    }
   ],
   "source": [
    "# Displaying the first five records of the dataset\n",
    "df.head()"
   ]
  },
  {
   "cell_type": "code",
   "execution_count": 175,
   "id": "27b44c43",
   "metadata": {},
   "outputs": [],
   "source": [
    "# Dropping unwanted columns\n",
    "df.drop(['index','Patient Id','Age'], axis=1, inplace=True)"
   ]
  },
  {
   "cell_type": "code",
   "execution_count": 176,
   "id": "b86f77e9",
   "metadata": {},
   "outputs": [
    {
     "data": {
      "text/html": [
       "<div>\n",
       "<style scoped>\n",
       "    .dataframe tbody tr th:only-of-type {\n",
       "        vertical-align: middle;\n",
       "    }\n",
       "\n",
       "    .dataframe tbody tr th {\n",
       "        vertical-align: top;\n",
       "    }\n",
       "\n",
       "    .dataframe thead th {\n",
       "        text-align: right;\n",
       "    }\n",
       "</style>\n",
       "<table border=\"1\" class=\"dataframe\">\n",
       "  <thead>\n",
       "    <tr style=\"text-align: right;\">\n",
       "      <th></th>\n",
       "      <th>Gender</th>\n",
       "      <th>Air Pollution</th>\n",
       "      <th>Alcohol use</th>\n",
       "      <th>Dust Allergy</th>\n",
       "      <th>OccuPational Hazards</th>\n",
       "      <th>Genetic Risk</th>\n",
       "      <th>chronic Lung Disease</th>\n",
       "      <th>Balanced Diet</th>\n",
       "      <th>Obesity</th>\n",
       "      <th>Smoking</th>\n",
       "      <th>...</th>\n",
       "      <th>Fatigue</th>\n",
       "      <th>Weight Loss</th>\n",
       "      <th>Shortness of Breath</th>\n",
       "      <th>Wheezing</th>\n",
       "      <th>Swallowing Difficulty</th>\n",
       "      <th>Clubbing of Finger Nails</th>\n",
       "      <th>Frequent Cold</th>\n",
       "      <th>Dry Cough</th>\n",
       "      <th>Snoring</th>\n",
       "      <th>Level</th>\n",
       "    </tr>\n",
       "  </thead>\n",
       "  <tbody>\n",
       "    <tr>\n",
       "      <th>0</th>\n",
       "      <td>1</td>\n",
       "      <td>2</td>\n",
       "      <td>4</td>\n",
       "      <td>5</td>\n",
       "      <td>4</td>\n",
       "      <td>3</td>\n",
       "      <td>2</td>\n",
       "      <td>2</td>\n",
       "      <td>4</td>\n",
       "      <td>3</td>\n",
       "      <td>...</td>\n",
       "      <td>3</td>\n",
       "      <td>4</td>\n",
       "      <td>2</td>\n",
       "      <td>2</td>\n",
       "      <td>3</td>\n",
       "      <td>1</td>\n",
       "      <td>2</td>\n",
       "      <td>3</td>\n",
       "      <td>4</td>\n",
       "      <td>Low</td>\n",
       "    </tr>\n",
       "    <tr>\n",
       "      <th>1</th>\n",
       "      <td>1</td>\n",
       "      <td>3</td>\n",
       "      <td>1</td>\n",
       "      <td>5</td>\n",
       "      <td>3</td>\n",
       "      <td>4</td>\n",
       "      <td>2</td>\n",
       "      <td>2</td>\n",
       "      <td>2</td>\n",
       "      <td>2</td>\n",
       "      <td>...</td>\n",
       "      <td>1</td>\n",
       "      <td>3</td>\n",
       "      <td>7</td>\n",
       "      <td>8</td>\n",
       "      <td>6</td>\n",
       "      <td>2</td>\n",
       "      <td>1</td>\n",
       "      <td>7</td>\n",
       "      <td>2</td>\n",
       "      <td>Medium</td>\n",
       "    </tr>\n",
       "    <tr>\n",
       "      <th>2</th>\n",
       "      <td>1</td>\n",
       "      <td>4</td>\n",
       "      <td>5</td>\n",
       "      <td>6</td>\n",
       "      <td>5</td>\n",
       "      <td>5</td>\n",
       "      <td>4</td>\n",
       "      <td>6</td>\n",
       "      <td>7</td>\n",
       "      <td>2</td>\n",
       "      <td>...</td>\n",
       "      <td>8</td>\n",
       "      <td>7</td>\n",
       "      <td>9</td>\n",
       "      <td>2</td>\n",
       "      <td>1</td>\n",
       "      <td>4</td>\n",
       "      <td>6</td>\n",
       "      <td>7</td>\n",
       "      <td>2</td>\n",
       "      <td>High</td>\n",
       "    </tr>\n",
       "    <tr>\n",
       "      <th>3</th>\n",
       "      <td>1</td>\n",
       "      <td>7</td>\n",
       "      <td>7</td>\n",
       "      <td>7</td>\n",
       "      <td>7</td>\n",
       "      <td>6</td>\n",
       "      <td>7</td>\n",
       "      <td>7</td>\n",
       "      <td>7</td>\n",
       "      <td>7</td>\n",
       "      <td>...</td>\n",
       "      <td>4</td>\n",
       "      <td>2</td>\n",
       "      <td>3</td>\n",
       "      <td>1</td>\n",
       "      <td>4</td>\n",
       "      <td>5</td>\n",
       "      <td>6</td>\n",
       "      <td>7</td>\n",
       "      <td>5</td>\n",
       "      <td>High</td>\n",
       "    </tr>\n",
       "    <tr>\n",
       "      <th>4</th>\n",
       "      <td>1</td>\n",
       "      <td>6</td>\n",
       "      <td>8</td>\n",
       "      <td>7</td>\n",
       "      <td>7</td>\n",
       "      <td>7</td>\n",
       "      <td>6</td>\n",
       "      <td>7</td>\n",
       "      <td>7</td>\n",
       "      <td>8</td>\n",
       "      <td>...</td>\n",
       "      <td>3</td>\n",
       "      <td>2</td>\n",
       "      <td>4</td>\n",
       "      <td>1</td>\n",
       "      <td>4</td>\n",
       "      <td>2</td>\n",
       "      <td>4</td>\n",
       "      <td>2</td>\n",
       "      <td>3</td>\n",
       "      <td>High</td>\n",
       "    </tr>\n",
       "  </tbody>\n",
       "</table>\n",
       "<p>5 rows × 23 columns</p>\n",
       "</div>"
      ],
      "text/plain": [
       "   Gender  Air Pollution  Alcohol use  Dust Allergy  OccuPational Hazards  \\\n",
       "0       1              2            4             5                     4   \n",
       "1       1              3            1             5                     3   \n",
       "2       1              4            5             6                     5   \n",
       "3       1              7            7             7                     7   \n",
       "4       1              6            8             7                     7   \n",
       "\n",
       "   Genetic Risk  chronic Lung Disease  Balanced Diet  Obesity  Smoking  ...  \\\n",
       "0             3                     2              2        4        3  ...   \n",
       "1             4                     2              2        2        2  ...   \n",
       "2             5                     4              6        7        2  ...   \n",
       "3             6                     7              7        7        7  ...   \n",
       "4             7                     6              7        7        8  ...   \n",
       "\n",
       "   Fatigue  Weight Loss  Shortness of Breath  Wheezing  Swallowing Difficulty  \\\n",
       "0        3            4                    2         2                      3   \n",
       "1        1            3                    7         8                      6   \n",
       "2        8            7                    9         2                      1   \n",
       "3        4            2                    3         1                      4   \n",
       "4        3            2                    4         1                      4   \n",
       "\n",
       "   Clubbing of Finger Nails  Frequent Cold  Dry Cough  Snoring   Level  \n",
       "0                         1              2          3        4     Low  \n",
       "1                         2              1          7        2  Medium  \n",
       "2                         4              6          7        2    High  \n",
       "3                         5              6          7        5    High  \n",
       "4                         2              4          2        3    High  \n",
       "\n",
       "[5 rows x 23 columns]"
      ]
     },
     "execution_count": 176,
     "metadata": {},
     "output_type": "execute_result"
    }
   ],
   "source": [
    "# Displaying the first five records of the dataset\n",
    "df.head()"
   ]
  },
  {
   "cell_type": "code",
   "execution_count": 177,
   "id": "b37dedeb",
   "metadata": {},
   "outputs": [
    {
     "data": {
      "text/plain": [
       "(1000, 23)"
      ]
     },
     "execution_count": 177,
     "metadata": {},
     "output_type": "execute_result"
    }
   ],
   "source": [
    "# Displaying the shape of the dataset i.e. (no. of records, no. of attributes)\n",
    "df.shape"
   ]
  },
  {
   "cell_type": "code",
   "execution_count": 178,
   "id": "3a6a0a84",
   "metadata": {},
   "outputs": [],
   "source": [
    "# Converting '?' to NaN incase it is present in the dataset\n",
    "df.replace('?', np.nan, inplace=True)"
   ]
  },
  {
   "cell_type": "code",
   "execution_count": 179,
   "id": "0c26b26d-6bd5-4d29-9547-60667efcb956",
   "metadata": {},
   "outputs": [
    {
     "data": {
      "text/plain": [
       "High      365\n",
       "Medium    332\n",
       "Low       303\n",
       "Name: Level, dtype: int64"
      ]
     },
     "execution_count": 179,
     "metadata": {},
     "output_type": "execute_result"
    }
   ],
   "source": [
    "# Checking the instance counts of the target attribute\n",
    "df['Level'].value_counts()"
   ]
  },
  {
   "cell_type": "code",
   "execution_count": 180,
   "id": "9f90e454",
   "metadata": {},
   "outputs": [],
   "source": [
    "# Encoding the attributes of the dataset\n",
    "df = encoding(df)"
   ]
  },
  {
   "cell_type": "code",
   "execution_count": 181,
   "id": "26016939",
   "metadata": {},
   "outputs": [],
   "source": [
    "# Imputing the missing values if any by using KNN Imputer\n",
    "df = imputation(df)"
   ]
  },
  {
   "cell_type": "code",
   "execution_count": 182,
   "id": "7107734f",
   "metadata": {},
   "outputs": [],
   "source": [
    "# Separating dependent and independent variables\n",
    "X, y = separating(df, 'Level')"
   ]
  },
  {
   "cell_type": "code",
   "execution_count": 183,
   "id": "25ca8671-f962-4886-8c1d-ee7da6766014",
   "metadata": {},
   "outputs": [
    {
     "name": "stdout",
     "output_type": "stream",
     "text": [
      "[0.925, 0.94, 0.915, 0.955, 0.915, 0.895, 0.87, 0.9, 0.95, 0.9, 0.93, 0.92, 0.925, 0.89, 0.915, 0.9, 0.955, 0.94, 0.935, 0.945, 0.915, 0.88, 0.925, 0.91, 0.93, 0.9, 0.95, 0.905, 0.925, 0.91, 0.9, 0.92, 0.91, 0.895, 0.94, 0.91, 0.91, 0.92, 0.91, 0.91, 0.94, 0.915, 0.93, 0.92, 0.79, 0.895, 0.88, 0.915, 0.94, 0.91, 0.925, 0.925, 0.915, 0.945, 0.91, 0.93, 0.925, 0.89, 0.855, 0.905, 0.88, 0.87, 0.915, 0.915, 0.905, 0.895, 0.87, 0.885, 0.91, 0.925, 0.885, 0.875, 0.935, 0.92, 0.815, 0.905, 0.89, 0.86, 0.89, 0.9, 0.905, 0.9, 0.88, 0.94, 0.92, 0.91, 0.905, 0.89, 0.915, 0.895, 0.885, 0.9, 0.92, 0.925, 0.885, 0.89, 0.875, 0.875, 0.9, 0.85]\n",
      "Standard Deviation: 0.02673999813014204\n",
      "Mean: 0.90665\n"
     ]
    }
   ],
   "source": [
    "repetition(X,y)"
   ]
  },
  {
   "cell_type": "markdown",
   "id": "e2168342",
   "metadata": {},
   "source": [
    "# 19. Phishing Website Dataset"
   ]
  },
  {
   "cell_type": "code",
   "execution_count": 184,
   "id": "34e728a5",
   "metadata": {},
   "outputs": [],
   "source": [
    "# Loading the dataset\n",
    "df = pd.read_csv(\"datasets/phishing.csv\")"
   ]
  },
  {
   "cell_type": "code",
   "execution_count": 185,
   "id": "b7e9c33b",
   "metadata": {},
   "outputs": [
    {
     "data": {
      "text/html": [
       "<div>\n",
       "<style scoped>\n",
       "    .dataframe tbody tr th:only-of-type {\n",
       "        vertical-align: middle;\n",
       "    }\n",
       "\n",
       "    .dataframe tbody tr th {\n",
       "        vertical-align: top;\n",
       "    }\n",
       "\n",
       "    .dataframe thead th {\n",
       "        text-align: right;\n",
       "    }\n",
       "</style>\n",
       "<table border=\"1\" class=\"dataframe\">\n",
       "  <thead>\n",
       "    <tr style=\"text-align: right;\">\n",
       "      <th></th>\n",
       "      <th>Index</th>\n",
       "      <th>UsingIP</th>\n",
       "      <th>LongURL</th>\n",
       "      <th>ShortURL</th>\n",
       "      <th>Symbol@</th>\n",
       "      <th>Redirecting//</th>\n",
       "      <th>PrefixSuffix-</th>\n",
       "      <th>SubDomains</th>\n",
       "      <th>HTTPS</th>\n",
       "      <th>DomainRegLen</th>\n",
       "      <th>...</th>\n",
       "      <th>UsingPopupWindow</th>\n",
       "      <th>IframeRedirection</th>\n",
       "      <th>AgeofDomain</th>\n",
       "      <th>DNSRecording</th>\n",
       "      <th>WebsiteTraffic</th>\n",
       "      <th>PageRank</th>\n",
       "      <th>GoogleIndex</th>\n",
       "      <th>LinksPointingToPage</th>\n",
       "      <th>StatsReport</th>\n",
       "      <th>class</th>\n",
       "    </tr>\n",
       "  </thead>\n",
       "  <tbody>\n",
       "    <tr>\n",
       "      <th>0</th>\n",
       "      <td>0</td>\n",
       "      <td>1</td>\n",
       "      <td>1</td>\n",
       "      <td>1</td>\n",
       "      <td>1</td>\n",
       "      <td>1</td>\n",
       "      <td>-1</td>\n",
       "      <td>0</td>\n",
       "      <td>1</td>\n",
       "      <td>-1</td>\n",
       "      <td>...</td>\n",
       "      <td>1</td>\n",
       "      <td>1</td>\n",
       "      <td>-1</td>\n",
       "      <td>-1</td>\n",
       "      <td>0</td>\n",
       "      <td>-1</td>\n",
       "      <td>1</td>\n",
       "      <td>1</td>\n",
       "      <td>1</td>\n",
       "      <td>-1</td>\n",
       "    </tr>\n",
       "    <tr>\n",
       "      <th>1</th>\n",
       "      <td>1</td>\n",
       "      <td>1</td>\n",
       "      <td>0</td>\n",
       "      <td>1</td>\n",
       "      <td>1</td>\n",
       "      <td>1</td>\n",
       "      <td>-1</td>\n",
       "      <td>-1</td>\n",
       "      <td>-1</td>\n",
       "      <td>-1</td>\n",
       "      <td>...</td>\n",
       "      <td>1</td>\n",
       "      <td>1</td>\n",
       "      <td>1</td>\n",
       "      <td>-1</td>\n",
       "      <td>1</td>\n",
       "      <td>-1</td>\n",
       "      <td>1</td>\n",
       "      <td>0</td>\n",
       "      <td>-1</td>\n",
       "      <td>-1</td>\n",
       "    </tr>\n",
       "    <tr>\n",
       "      <th>2</th>\n",
       "      <td>2</td>\n",
       "      <td>1</td>\n",
       "      <td>0</td>\n",
       "      <td>1</td>\n",
       "      <td>1</td>\n",
       "      <td>1</td>\n",
       "      <td>-1</td>\n",
       "      <td>-1</td>\n",
       "      <td>-1</td>\n",
       "      <td>1</td>\n",
       "      <td>...</td>\n",
       "      <td>1</td>\n",
       "      <td>1</td>\n",
       "      <td>-1</td>\n",
       "      <td>-1</td>\n",
       "      <td>1</td>\n",
       "      <td>-1</td>\n",
       "      <td>1</td>\n",
       "      <td>-1</td>\n",
       "      <td>1</td>\n",
       "      <td>-1</td>\n",
       "    </tr>\n",
       "    <tr>\n",
       "      <th>3</th>\n",
       "      <td>3</td>\n",
       "      <td>1</td>\n",
       "      <td>0</td>\n",
       "      <td>-1</td>\n",
       "      <td>1</td>\n",
       "      <td>1</td>\n",
       "      <td>-1</td>\n",
       "      <td>1</td>\n",
       "      <td>1</td>\n",
       "      <td>-1</td>\n",
       "      <td>...</td>\n",
       "      <td>-1</td>\n",
       "      <td>1</td>\n",
       "      <td>-1</td>\n",
       "      <td>-1</td>\n",
       "      <td>0</td>\n",
       "      <td>-1</td>\n",
       "      <td>1</td>\n",
       "      <td>1</td>\n",
       "      <td>1</td>\n",
       "      <td>1</td>\n",
       "    </tr>\n",
       "    <tr>\n",
       "      <th>4</th>\n",
       "      <td>4</td>\n",
       "      <td>-1</td>\n",
       "      <td>0</td>\n",
       "      <td>-1</td>\n",
       "      <td>1</td>\n",
       "      <td>-1</td>\n",
       "      <td>-1</td>\n",
       "      <td>1</td>\n",
       "      <td>1</td>\n",
       "      <td>-1</td>\n",
       "      <td>...</td>\n",
       "      <td>1</td>\n",
       "      <td>1</td>\n",
       "      <td>1</td>\n",
       "      <td>1</td>\n",
       "      <td>1</td>\n",
       "      <td>-1</td>\n",
       "      <td>1</td>\n",
       "      <td>-1</td>\n",
       "      <td>-1</td>\n",
       "      <td>1</td>\n",
       "    </tr>\n",
       "  </tbody>\n",
       "</table>\n",
       "<p>5 rows × 32 columns</p>\n",
       "</div>"
      ],
      "text/plain": [
       "   Index  UsingIP  LongURL  ShortURL  Symbol@  Redirecting//  PrefixSuffix-  \\\n",
       "0      0        1        1         1        1              1             -1   \n",
       "1      1        1        0         1        1              1             -1   \n",
       "2      2        1        0         1        1              1             -1   \n",
       "3      3        1        0        -1        1              1             -1   \n",
       "4      4       -1        0        -1        1             -1             -1   \n",
       "\n",
       "   SubDomains  HTTPS  DomainRegLen  ...  UsingPopupWindow  IframeRedirection  \\\n",
       "0           0      1            -1  ...                 1                  1   \n",
       "1          -1     -1            -1  ...                 1                  1   \n",
       "2          -1     -1             1  ...                 1                  1   \n",
       "3           1      1            -1  ...                -1                  1   \n",
       "4           1      1            -1  ...                 1                  1   \n",
       "\n",
       "   AgeofDomain  DNSRecording  WebsiteTraffic  PageRank  GoogleIndex  \\\n",
       "0           -1            -1               0        -1            1   \n",
       "1            1            -1               1        -1            1   \n",
       "2           -1            -1               1        -1            1   \n",
       "3           -1            -1               0        -1            1   \n",
       "4            1             1               1        -1            1   \n",
       "\n",
       "   LinksPointingToPage  StatsReport  class  \n",
       "0                    1            1     -1  \n",
       "1                    0           -1     -1  \n",
       "2                   -1            1     -1  \n",
       "3                    1            1      1  \n",
       "4                   -1           -1      1  \n",
       "\n",
       "[5 rows x 32 columns]"
      ]
     },
     "execution_count": 185,
     "metadata": {},
     "output_type": "execute_result"
    }
   ],
   "source": [
    "# Displaying the first five records of the dataset\n",
    "df.head()"
   ]
  },
  {
   "cell_type": "code",
   "execution_count": 186,
   "id": "55e1bffb",
   "metadata": {},
   "outputs": [],
   "source": [
    "# Dropping unwanted columns\n",
    "df.drop(['Index'], axis=1, inplace=True)"
   ]
  },
  {
   "cell_type": "code",
   "execution_count": 187,
   "id": "a836fc24",
   "metadata": {},
   "outputs": [
    {
     "data": {
      "text/html": [
       "<div>\n",
       "<style scoped>\n",
       "    .dataframe tbody tr th:only-of-type {\n",
       "        vertical-align: middle;\n",
       "    }\n",
       "\n",
       "    .dataframe tbody tr th {\n",
       "        vertical-align: top;\n",
       "    }\n",
       "\n",
       "    .dataframe thead th {\n",
       "        text-align: right;\n",
       "    }\n",
       "</style>\n",
       "<table border=\"1\" class=\"dataframe\">\n",
       "  <thead>\n",
       "    <tr style=\"text-align: right;\">\n",
       "      <th></th>\n",
       "      <th>UsingIP</th>\n",
       "      <th>LongURL</th>\n",
       "      <th>ShortURL</th>\n",
       "      <th>Symbol@</th>\n",
       "      <th>Redirecting//</th>\n",
       "      <th>PrefixSuffix-</th>\n",
       "      <th>SubDomains</th>\n",
       "      <th>HTTPS</th>\n",
       "      <th>DomainRegLen</th>\n",
       "      <th>Favicon</th>\n",
       "      <th>...</th>\n",
       "      <th>UsingPopupWindow</th>\n",
       "      <th>IframeRedirection</th>\n",
       "      <th>AgeofDomain</th>\n",
       "      <th>DNSRecording</th>\n",
       "      <th>WebsiteTraffic</th>\n",
       "      <th>PageRank</th>\n",
       "      <th>GoogleIndex</th>\n",
       "      <th>LinksPointingToPage</th>\n",
       "      <th>StatsReport</th>\n",
       "      <th>class</th>\n",
       "    </tr>\n",
       "  </thead>\n",
       "  <tbody>\n",
       "    <tr>\n",
       "      <th>0</th>\n",
       "      <td>1</td>\n",
       "      <td>1</td>\n",
       "      <td>1</td>\n",
       "      <td>1</td>\n",
       "      <td>1</td>\n",
       "      <td>-1</td>\n",
       "      <td>0</td>\n",
       "      <td>1</td>\n",
       "      <td>-1</td>\n",
       "      <td>1</td>\n",
       "      <td>...</td>\n",
       "      <td>1</td>\n",
       "      <td>1</td>\n",
       "      <td>-1</td>\n",
       "      <td>-1</td>\n",
       "      <td>0</td>\n",
       "      <td>-1</td>\n",
       "      <td>1</td>\n",
       "      <td>1</td>\n",
       "      <td>1</td>\n",
       "      <td>-1</td>\n",
       "    </tr>\n",
       "    <tr>\n",
       "      <th>1</th>\n",
       "      <td>1</td>\n",
       "      <td>0</td>\n",
       "      <td>1</td>\n",
       "      <td>1</td>\n",
       "      <td>1</td>\n",
       "      <td>-1</td>\n",
       "      <td>-1</td>\n",
       "      <td>-1</td>\n",
       "      <td>-1</td>\n",
       "      <td>1</td>\n",
       "      <td>...</td>\n",
       "      <td>1</td>\n",
       "      <td>1</td>\n",
       "      <td>1</td>\n",
       "      <td>-1</td>\n",
       "      <td>1</td>\n",
       "      <td>-1</td>\n",
       "      <td>1</td>\n",
       "      <td>0</td>\n",
       "      <td>-1</td>\n",
       "      <td>-1</td>\n",
       "    </tr>\n",
       "    <tr>\n",
       "      <th>2</th>\n",
       "      <td>1</td>\n",
       "      <td>0</td>\n",
       "      <td>1</td>\n",
       "      <td>1</td>\n",
       "      <td>1</td>\n",
       "      <td>-1</td>\n",
       "      <td>-1</td>\n",
       "      <td>-1</td>\n",
       "      <td>1</td>\n",
       "      <td>1</td>\n",
       "      <td>...</td>\n",
       "      <td>1</td>\n",
       "      <td>1</td>\n",
       "      <td>-1</td>\n",
       "      <td>-1</td>\n",
       "      <td>1</td>\n",
       "      <td>-1</td>\n",
       "      <td>1</td>\n",
       "      <td>-1</td>\n",
       "      <td>1</td>\n",
       "      <td>-1</td>\n",
       "    </tr>\n",
       "    <tr>\n",
       "      <th>3</th>\n",
       "      <td>1</td>\n",
       "      <td>0</td>\n",
       "      <td>-1</td>\n",
       "      <td>1</td>\n",
       "      <td>1</td>\n",
       "      <td>-1</td>\n",
       "      <td>1</td>\n",
       "      <td>1</td>\n",
       "      <td>-1</td>\n",
       "      <td>1</td>\n",
       "      <td>...</td>\n",
       "      <td>-1</td>\n",
       "      <td>1</td>\n",
       "      <td>-1</td>\n",
       "      <td>-1</td>\n",
       "      <td>0</td>\n",
       "      <td>-1</td>\n",
       "      <td>1</td>\n",
       "      <td>1</td>\n",
       "      <td>1</td>\n",
       "      <td>1</td>\n",
       "    </tr>\n",
       "    <tr>\n",
       "      <th>4</th>\n",
       "      <td>-1</td>\n",
       "      <td>0</td>\n",
       "      <td>-1</td>\n",
       "      <td>1</td>\n",
       "      <td>-1</td>\n",
       "      <td>-1</td>\n",
       "      <td>1</td>\n",
       "      <td>1</td>\n",
       "      <td>-1</td>\n",
       "      <td>1</td>\n",
       "      <td>...</td>\n",
       "      <td>1</td>\n",
       "      <td>1</td>\n",
       "      <td>1</td>\n",
       "      <td>1</td>\n",
       "      <td>1</td>\n",
       "      <td>-1</td>\n",
       "      <td>1</td>\n",
       "      <td>-1</td>\n",
       "      <td>-1</td>\n",
       "      <td>1</td>\n",
       "    </tr>\n",
       "  </tbody>\n",
       "</table>\n",
       "<p>5 rows × 31 columns</p>\n",
       "</div>"
      ],
      "text/plain": [
       "   UsingIP  LongURL  ShortURL  Symbol@  Redirecting//  PrefixSuffix-  \\\n",
       "0        1        1         1        1              1             -1   \n",
       "1        1        0         1        1              1             -1   \n",
       "2        1        0         1        1              1             -1   \n",
       "3        1        0        -1        1              1             -1   \n",
       "4       -1        0        -1        1             -1             -1   \n",
       "\n",
       "   SubDomains  HTTPS  DomainRegLen  Favicon  ...  UsingPopupWindow  \\\n",
       "0           0      1            -1        1  ...                 1   \n",
       "1          -1     -1            -1        1  ...                 1   \n",
       "2          -1     -1             1        1  ...                 1   \n",
       "3           1      1            -1        1  ...                -1   \n",
       "4           1      1            -1        1  ...                 1   \n",
       "\n",
       "   IframeRedirection  AgeofDomain  DNSRecording  WebsiteTraffic  PageRank  \\\n",
       "0                  1           -1            -1               0        -1   \n",
       "1                  1            1            -1               1        -1   \n",
       "2                  1           -1            -1               1        -1   \n",
       "3                  1           -1            -1               0        -1   \n",
       "4                  1            1             1               1        -1   \n",
       "\n",
       "   GoogleIndex  LinksPointingToPage  StatsReport  class  \n",
       "0            1                    1            1     -1  \n",
       "1            1                    0           -1     -1  \n",
       "2            1                   -1            1     -1  \n",
       "3            1                    1            1      1  \n",
       "4            1                   -1           -1      1  \n",
       "\n",
       "[5 rows x 31 columns]"
      ]
     },
     "execution_count": 187,
     "metadata": {},
     "output_type": "execute_result"
    }
   ],
   "source": [
    "# Displaying the first five records of the dataset\n",
    "df.head()"
   ]
  },
  {
   "cell_type": "code",
   "execution_count": 188,
   "id": "e318e873",
   "metadata": {},
   "outputs": [
    {
     "data": {
      "text/plain": [
       "(11054, 31)"
      ]
     },
     "execution_count": 188,
     "metadata": {},
     "output_type": "execute_result"
    }
   ],
   "source": [
    "# Displaying the shape of the dataset i.e. (no. of records, no. of attributes)\n",
    "df.shape"
   ]
  },
  {
   "cell_type": "code",
   "execution_count": 189,
   "id": "3e8d7eee",
   "metadata": {},
   "outputs": [],
   "source": [
    "# Converting '?' to NaN incase it is present in the dataset\n",
    "df.replace('?', np.nan, inplace=True)"
   ]
  },
  {
   "cell_type": "code",
   "execution_count": 190,
   "id": "06d0e444-a622-4725-83e3-0749ee440806",
   "metadata": {},
   "outputs": [
    {
     "data": {
      "text/plain": [
       " 1    6157\n",
       "-1    4897\n",
       "Name: class, dtype: int64"
      ]
     },
     "execution_count": 190,
     "metadata": {},
     "output_type": "execute_result"
    }
   ],
   "source": [
    "# Checking the instance counts of the target attribute\n",
    "df['class'].value_counts()"
   ]
  },
  {
   "cell_type": "code",
   "execution_count": 191,
   "id": "289427ed",
   "metadata": {},
   "outputs": [],
   "source": [
    "# Encoding the attributes of the dataset\n",
    "df = encoding(df)"
   ]
  },
  {
   "cell_type": "code",
   "execution_count": 192,
   "id": "3a8710e8",
   "metadata": {},
   "outputs": [],
   "source": [
    "# Imputing the missing values if any by using KNN Imputer\n",
    "df = imputation(df)"
   ]
  },
  {
   "cell_type": "code",
   "execution_count": 193,
   "id": "b54fea49",
   "metadata": {},
   "outputs": [],
   "source": [
    "# Separating dependent and independent variables\n",
    "X, y = separating(df, 'class')"
   ]
  },
  {
   "cell_type": "code",
   "execution_count": 194,
   "id": "13637b49-5b71-4bd1-bc78-bc7913e2ace5",
   "metadata": {},
   "outputs": [],
   "source": [
    "# Handing class imbalance problem using SMOTEN\n",
    "X, y = oversampling(X,y)"
   ]
  },
  {
   "cell_type": "code",
   "execution_count": 195,
   "id": "fb8a2261-5865-4bec-9181-d2cdbda8403d",
   "metadata": {},
   "outputs": [
    {
     "name": "stdout",
     "output_type": "stream",
     "text": [
      "[0.9196102314250914, 0.8993097848152659, 0.903369874137231, 0.9147381242387332, 0.8968737312220869, 0.9074299634591961, 0.9204222492894844, 0.9159561510353228, 0.9110840438489647, 0.9053999187982136, 0.9147381242387332, 0.9078359723913926, 0.90580592773041, 0.9082419813235891, 0.9090539991879821, 0.9106780349167681, 0.9224522939504669, 0.9110840438489647, 0.9200162403572879, 0.9200162403572879, 0.9021518473406415, 0.9082419813235891, 0.9029638652050345, 0.9139261063743402, 0.9135200974421437, 0.9147381242387332, 0.9159561510353228, 0.9118960617133577, 0.9066179455948031, 0.9123020706455542, 0.9167681688997158, 0.9131140885099472, 0.9013398294762485, 0.9204222492894844, 0.8948436865611044, 0.90580592773041, 0.9228583028826635, 0.9123020706455542, 0.9098660170523751, 0.9183922046285018, 0.9123020706455542, 0.904181892001624, 0.9013398294762485, 0.8944376776289078, 0.9147381242387332, 0.903369874137231, 0.9143321153065368, 0.9070239545269996, 0.9029638652050345, 0.9118960617133577, 0.9114900527811611, 0.8989037758830695, 0.9114900527811611, 0.9139261063743402, 0.9135200974421437, 0.9155501421031262, 0.9135200974421437, 0.9021518473406415, 0.9086479902557856, 0.9171741778319124, 0.9175801867641088, 0.9106780349167681, 0.9106780349167681, 0.9155501421031262, 0.9151441331709298, 0.901745838408445, 0.8960617133576939, 0.9086479902557856, 0.9098660170523751, 0.9139261063743402, 0.9123020706455542, 0.9187982135606984, 0.9118960617133577, 0.9171741778319124, 0.9106780349167681, 0.9094600081201787, 0.8993097848152659, 0.9005278116118555, 0.904993909866017, 0.9110840438489647, 0.9078359723913926, 0.9175801867641088, 0.8997157937474625, 0.881851400730816, 0.9118960617133577, 0.8960617133576939, 0.9086479902557856, 0.8972797401542834, 0.9094600081201787, 0.9196102314250914, 0.904993909866017, 0.9102720259845717, 0.9155501421031262, 0.9135200974421437, 0.9216402760860739, 0.9082419813235891, 0.9070239545269996, 0.8676410881039383, 0.9175801867641088, 0.904993909866017]\n",
      "Standard Deviation: 0.008375415166971385\n",
      "Mean: 0.909326025172554\n"
     ]
    }
   ],
   "source": [
    "repetition(X,y)"
   ]
  },
  {
   "cell_type": "markdown",
   "id": "c083c636",
   "metadata": {},
   "source": [
    "# 20. Monkey-Pox Patients Dataset"
   ]
  },
  {
   "cell_type": "code",
   "execution_count": 196,
   "id": "fb097023",
   "metadata": {},
   "outputs": [],
   "source": [
    "# Loading the dataset\n",
    "df = pd.read_csv(\"datasets/monkey-pox.csv\")"
   ]
  },
  {
   "cell_type": "code",
   "execution_count": 197,
   "id": "af5584c3",
   "metadata": {},
   "outputs": [
    {
     "data": {
      "text/html": [
       "<div>\n",
       "<style scoped>\n",
       "    .dataframe tbody tr th:only-of-type {\n",
       "        vertical-align: middle;\n",
       "    }\n",
       "\n",
       "    .dataframe tbody tr th {\n",
       "        vertical-align: top;\n",
       "    }\n",
       "\n",
       "    .dataframe thead th {\n",
       "        text-align: right;\n",
       "    }\n",
       "</style>\n",
       "<table border=\"1\" class=\"dataframe\">\n",
       "  <thead>\n",
       "    <tr style=\"text-align: right;\">\n",
       "      <th></th>\n",
       "      <th>Patient_ID</th>\n",
       "      <th>Systemic Illness</th>\n",
       "      <th>Rectal Pain</th>\n",
       "      <th>Sore Throat</th>\n",
       "      <th>Penile Oedema</th>\n",
       "      <th>Oral Lesions</th>\n",
       "      <th>Solitary Lesion</th>\n",
       "      <th>Swollen Tonsils</th>\n",
       "      <th>HIV Infection</th>\n",
       "      <th>Sexually Transmitted Infection</th>\n",
       "      <th>MonkeyPox</th>\n",
       "    </tr>\n",
       "  </thead>\n",
       "  <tbody>\n",
       "    <tr>\n",
       "      <th>0</th>\n",
       "      <td>P0</td>\n",
       "      <td>None</td>\n",
       "      <td>False</td>\n",
       "      <td>True</td>\n",
       "      <td>True</td>\n",
       "      <td>True</td>\n",
       "      <td>False</td>\n",
       "      <td>True</td>\n",
       "      <td>False</td>\n",
       "      <td>False</td>\n",
       "      <td>Negative</td>\n",
       "    </tr>\n",
       "    <tr>\n",
       "      <th>1</th>\n",
       "      <td>P1</td>\n",
       "      <td>Fever</td>\n",
       "      <td>True</td>\n",
       "      <td>False</td>\n",
       "      <td>True</td>\n",
       "      <td>True</td>\n",
       "      <td>False</td>\n",
       "      <td>False</td>\n",
       "      <td>True</td>\n",
       "      <td>False</td>\n",
       "      <td>Positive</td>\n",
       "    </tr>\n",
       "    <tr>\n",
       "      <th>2</th>\n",
       "      <td>P2</td>\n",
       "      <td>Fever</td>\n",
       "      <td>False</td>\n",
       "      <td>True</td>\n",
       "      <td>True</td>\n",
       "      <td>False</td>\n",
       "      <td>False</td>\n",
       "      <td>False</td>\n",
       "      <td>True</td>\n",
       "      <td>False</td>\n",
       "      <td>Positive</td>\n",
       "    </tr>\n",
       "    <tr>\n",
       "      <th>3</th>\n",
       "      <td>P3</td>\n",
       "      <td>None</td>\n",
       "      <td>True</td>\n",
       "      <td>False</td>\n",
       "      <td>False</td>\n",
       "      <td>False</td>\n",
       "      <td>True</td>\n",
       "      <td>True</td>\n",
       "      <td>True</td>\n",
       "      <td>False</td>\n",
       "      <td>Positive</td>\n",
       "    </tr>\n",
       "    <tr>\n",
       "      <th>4</th>\n",
       "      <td>P4</td>\n",
       "      <td>Swollen Lymph Nodes</td>\n",
       "      <td>True</td>\n",
       "      <td>True</td>\n",
       "      <td>True</td>\n",
       "      <td>False</td>\n",
       "      <td>False</td>\n",
       "      <td>True</td>\n",
       "      <td>True</td>\n",
       "      <td>False</td>\n",
       "      <td>Positive</td>\n",
       "    </tr>\n",
       "  </tbody>\n",
       "</table>\n",
       "</div>"
      ],
      "text/plain": [
       "  Patient_ID     Systemic Illness  Rectal Pain  Sore Throat  Penile Oedema  \\\n",
       "0         P0                 None        False         True           True   \n",
       "1         P1                Fever         True        False           True   \n",
       "2         P2                Fever        False         True           True   \n",
       "3         P3                 None         True        False          False   \n",
       "4         P4  Swollen Lymph Nodes         True         True           True   \n",
       "\n",
       "   Oral Lesions  Solitary Lesion  Swollen Tonsils  HIV Infection  \\\n",
       "0          True            False             True          False   \n",
       "1          True            False            False           True   \n",
       "2         False            False            False           True   \n",
       "3         False             True             True           True   \n",
       "4         False            False             True           True   \n",
       "\n",
       "   Sexually Transmitted Infection MonkeyPox  \n",
       "0                           False  Negative  \n",
       "1                           False  Positive  \n",
       "2                           False  Positive  \n",
       "3                           False  Positive  \n",
       "4                           False  Positive  "
      ]
     },
     "execution_count": 197,
     "metadata": {},
     "output_type": "execute_result"
    }
   ],
   "source": [
    "# Displaying the first five records of the dataset\n",
    "df.head()"
   ]
  },
  {
   "cell_type": "code",
   "execution_count": 198,
   "id": "bdbf952c",
   "metadata": {},
   "outputs": [],
   "source": [
    "# Dropping unwanted columns\n",
    "df.drop(['Patient_ID'], axis=1, inplace=True)"
   ]
  },
  {
   "cell_type": "code",
   "execution_count": 199,
   "id": "13b64d13",
   "metadata": {},
   "outputs": [
    {
     "data": {
      "text/html": [
       "<div>\n",
       "<style scoped>\n",
       "    .dataframe tbody tr th:only-of-type {\n",
       "        vertical-align: middle;\n",
       "    }\n",
       "\n",
       "    .dataframe tbody tr th {\n",
       "        vertical-align: top;\n",
       "    }\n",
       "\n",
       "    .dataframe thead th {\n",
       "        text-align: right;\n",
       "    }\n",
       "</style>\n",
       "<table border=\"1\" class=\"dataframe\">\n",
       "  <thead>\n",
       "    <tr style=\"text-align: right;\">\n",
       "      <th></th>\n",
       "      <th>Systemic Illness</th>\n",
       "      <th>Rectal Pain</th>\n",
       "      <th>Sore Throat</th>\n",
       "      <th>Penile Oedema</th>\n",
       "      <th>Oral Lesions</th>\n",
       "      <th>Solitary Lesion</th>\n",
       "      <th>Swollen Tonsils</th>\n",
       "      <th>HIV Infection</th>\n",
       "      <th>Sexually Transmitted Infection</th>\n",
       "      <th>MonkeyPox</th>\n",
       "    </tr>\n",
       "  </thead>\n",
       "  <tbody>\n",
       "    <tr>\n",
       "      <th>0</th>\n",
       "      <td>None</td>\n",
       "      <td>False</td>\n",
       "      <td>True</td>\n",
       "      <td>True</td>\n",
       "      <td>True</td>\n",
       "      <td>False</td>\n",
       "      <td>True</td>\n",
       "      <td>False</td>\n",
       "      <td>False</td>\n",
       "      <td>Negative</td>\n",
       "    </tr>\n",
       "    <tr>\n",
       "      <th>1</th>\n",
       "      <td>Fever</td>\n",
       "      <td>True</td>\n",
       "      <td>False</td>\n",
       "      <td>True</td>\n",
       "      <td>True</td>\n",
       "      <td>False</td>\n",
       "      <td>False</td>\n",
       "      <td>True</td>\n",
       "      <td>False</td>\n",
       "      <td>Positive</td>\n",
       "    </tr>\n",
       "    <tr>\n",
       "      <th>2</th>\n",
       "      <td>Fever</td>\n",
       "      <td>False</td>\n",
       "      <td>True</td>\n",
       "      <td>True</td>\n",
       "      <td>False</td>\n",
       "      <td>False</td>\n",
       "      <td>False</td>\n",
       "      <td>True</td>\n",
       "      <td>False</td>\n",
       "      <td>Positive</td>\n",
       "    </tr>\n",
       "    <tr>\n",
       "      <th>3</th>\n",
       "      <td>None</td>\n",
       "      <td>True</td>\n",
       "      <td>False</td>\n",
       "      <td>False</td>\n",
       "      <td>False</td>\n",
       "      <td>True</td>\n",
       "      <td>True</td>\n",
       "      <td>True</td>\n",
       "      <td>False</td>\n",
       "      <td>Positive</td>\n",
       "    </tr>\n",
       "    <tr>\n",
       "      <th>4</th>\n",
       "      <td>Swollen Lymph Nodes</td>\n",
       "      <td>True</td>\n",
       "      <td>True</td>\n",
       "      <td>True</td>\n",
       "      <td>False</td>\n",
       "      <td>False</td>\n",
       "      <td>True</td>\n",
       "      <td>True</td>\n",
       "      <td>False</td>\n",
       "      <td>Positive</td>\n",
       "    </tr>\n",
       "  </tbody>\n",
       "</table>\n",
       "</div>"
      ],
      "text/plain": [
       "      Systemic Illness  Rectal Pain  Sore Throat  Penile Oedema  Oral Lesions  \\\n",
       "0                 None        False         True           True          True   \n",
       "1                Fever         True        False           True          True   \n",
       "2                Fever        False         True           True         False   \n",
       "3                 None         True        False          False         False   \n",
       "4  Swollen Lymph Nodes         True         True           True         False   \n",
       "\n",
       "   Solitary Lesion  Swollen Tonsils  HIV Infection  \\\n",
       "0            False             True          False   \n",
       "1            False            False           True   \n",
       "2            False            False           True   \n",
       "3             True             True           True   \n",
       "4            False             True           True   \n",
       "\n",
       "   Sexually Transmitted Infection MonkeyPox  \n",
       "0                           False  Negative  \n",
       "1                           False  Positive  \n",
       "2                           False  Positive  \n",
       "3                           False  Positive  \n",
       "4                           False  Positive  "
      ]
     },
     "execution_count": 199,
     "metadata": {},
     "output_type": "execute_result"
    }
   ],
   "source": [
    "# Displaying the first five records of the dataset\n",
    "df.head()"
   ]
  },
  {
   "cell_type": "code",
   "execution_count": 200,
   "id": "44d9fd65",
   "metadata": {},
   "outputs": [
    {
     "data": {
      "text/plain": [
       "(25000, 10)"
      ]
     },
     "execution_count": 200,
     "metadata": {},
     "output_type": "execute_result"
    }
   ],
   "source": [
    "# Displaying the shape of the dataset i.e. (no. of records, no. of attributes)\n",
    "df.shape"
   ]
  },
  {
   "cell_type": "code",
   "execution_count": 201,
   "id": "1fe90e4d",
   "metadata": {},
   "outputs": [],
   "source": [
    "# Converting '?' to NaN incase it is present in the dataset\n",
    "df.replace('?', np.nan, inplace=True)"
   ]
  },
  {
   "cell_type": "code",
   "execution_count": 202,
   "id": "b377e9a6-67c0-46ae-9c2b-eca705ed9e43",
   "metadata": {},
   "outputs": [
    {
     "data": {
      "text/plain": [
       "Positive    15909\n",
       "Negative     9091\n",
       "Name: MonkeyPox, dtype: int64"
      ]
     },
     "execution_count": 202,
     "metadata": {},
     "output_type": "execute_result"
    }
   ],
   "source": [
    "# Checking the instance counts of the target attribute\n",
    "df['MonkeyPox'].value_counts()"
   ]
  },
  {
   "cell_type": "code",
   "execution_count": 203,
   "id": "bd86b89b",
   "metadata": {},
   "outputs": [],
   "source": [
    "# Encoding the attributes of the dataset\n",
    "df = encoding(df)"
   ]
  },
  {
   "cell_type": "code",
   "execution_count": 204,
   "id": "fed0863f",
   "metadata": {},
   "outputs": [],
   "source": [
    "# Imputing the missing values if any by using KNN Imputer\n",
    "df = imputation(df)"
   ]
  },
  {
   "cell_type": "code",
   "execution_count": 205,
   "id": "70ecc130",
   "metadata": {},
   "outputs": [],
   "source": [
    "# Separating dependent and independent variables\n",
    "X, y = separating(df, 'MonkeyPox')"
   ]
  },
  {
   "cell_type": "code",
   "execution_count": 206,
   "id": "fd37b14c-5ba8-47cd-a492-19fbe6657bc7",
   "metadata": {},
   "outputs": [],
   "source": [
    "# Handing class imbalance problem using SMOTEN\n",
    "X, y = oversampling(X,y)"
   ]
  },
  {
   "cell_type": "code",
   "execution_count": 207,
   "id": "25a1f142-51d2-4ddc-b628-c796bd7baca7",
   "metadata": {},
   "outputs": [
    {
     "name": "stdout",
     "output_type": "stream",
     "text": [
      "[0.6321495914519171, 0.6290069138906348, 0.6319924575738529, 0.623664362036455, 0.6332495285983658, 0.6280641106222502, 0.6200502828409805, 0.6337209302325582, 0.6253928346951603, 0.634978001257071, 0.6297925832809553, 0.6247642991829039, 0.6373350094280327, 0.6313639220615965, 0.6382778126964174, 0.6379635449402892, 0.6280641106222502, 0.63073538654934, 0.6327781269641735, 0.6356065367693274, 0.6230358265241986, 0.6228786926461345, 0.6200502828409805, 0.6315210559396606, 0.6293211816467631, 0.6274355751099937, 0.6313639220615965, 0.6323067253299811, 0.6274355751099937, 0.6286926461345066, 0.6252357008170961, 0.6318353236957888, 0.6323067253299811, 0.627906976744186, 0.6321495914519171, 0.6389063482086738, 0.6280641106222502, 0.627906976744186, 0.6305782526712759, 0.6346637335009429, 0.6385920804525456, 0.6341923318667505, 0.6252357008170961, 0.6268070395977373, 0.6329352608422376, 0.6370207416719045, 0.636392206159648, 0.6272784412319296, 0.6327781269641735, 0.6230358265241986, 0.6216216216216216, 0.6351351351351351, 0.6288497800125707, 0.6370207416719045, 0.6280641106222502, 0.6381206788183532, 0.6312067881835324, 0.6348208673790069, 0.6313639220615965, 0.6180075424261471, 0.63340666247643, 0.6280641106222502, 0.6250785669390321, 0.636392206159648, 0.6283783783783784, 0.6330923947203017, 0.634978001257071, 0.6296354494028913, 0.6280641106222502, 0.6367064739157763, 0.6337209302325582, 0.6247642991829039, 0.6206788183532369, 0.6271213073538655, 0.6246071653048397, 0.6341923318667505, 0.6200502828409805, 0.6260213702074168, 0.6360779384035198, 0.6341923318667505, 0.6345065996228787, 0.6275927089880579, 0.6308925204274042, 0.6407919547454431, 0.6356065367693274, 0.6318353236957888, 0.6280641106222502, 0.6365493400377121, 0.6338780641106222, 0.6246071653048397, 0.6362350722815839, 0.6326209930861094, 0.6282212445003142, 0.6337209302325582, 0.6257071024512885, 0.6194217473287241, 0.6274355751099937, 0.6362350722815839, 0.6345065996228787, 0.6299497171590195]\n",
      "Standard Deviation: 0.005054521818848803\n",
      "Mean: 0.6304462602137021\n"
     ]
    }
   ],
   "source": [
    "repetition(X,y)"
   ]
  },
  {
   "cell_type": "markdown",
   "id": "c21d1d03",
   "metadata": {},
   "source": [
    "# 21. Animal Condition Classification Dataset"
   ]
  },
  {
   "cell_type": "code",
   "execution_count": 208,
   "id": "ab4cc396",
   "metadata": {},
   "outputs": [],
   "source": [
    "# Loading the dataset\n",
    "df = pd.read_csv(\"datasets/animal-condition.csv\")"
   ]
  },
  {
   "cell_type": "code",
   "execution_count": 209,
   "id": "22358498",
   "metadata": {},
   "outputs": [
    {
     "data": {
      "text/html": [
       "<div>\n",
       "<style scoped>\n",
       "    .dataframe tbody tr th:only-of-type {\n",
       "        vertical-align: middle;\n",
       "    }\n",
       "\n",
       "    .dataframe tbody tr th {\n",
       "        vertical-align: top;\n",
       "    }\n",
       "\n",
       "    .dataframe thead th {\n",
       "        text-align: right;\n",
       "    }\n",
       "</style>\n",
       "<table border=\"1\" class=\"dataframe\">\n",
       "  <thead>\n",
       "    <tr style=\"text-align: right;\">\n",
       "      <th></th>\n",
       "      <th>AnimalName</th>\n",
       "      <th>symptoms1</th>\n",
       "      <th>symptoms2</th>\n",
       "      <th>symptoms3</th>\n",
       "      <th>symptoms4</th>\n",
       "      <th>symptoms5</th>\n",
       "      <th>Dangerous</th>\n",
       "    </tr>\n",
       "  </thead>\n",
       "  <tbody>\n",
       "    <tr>\n",
       "      <th>0</th>\n",
       "      <td>Dog</td>\n",
       "      <td>Fever</td>\n",
       "      <td>Diarrhea</td>\n",
       "      <td>Vomiting</td>\n",
       "      <td>Weight loss</td>\n",
       "      <td>Dehydration</td>\n",
       "      <td>Yes</td>\n",
       "    </tr>\n",
       "    <tr>\n",
       "      <th>1</th>\n",
       "      <td>Dog</td>\n",
       "      <td>Fever</td>\n",
       "      <td>Diarrhea</td>\n",
       "      <td>Coughing</td>\n",
       "      <td>Tiredness</td>\n",
       "      <td>Pains</td>\n",
       "      <td>Yes</td>\n",
       "    </tr>\n",
       "    <tr>\n",
       "      <th>2</th>\n",
       "      <td>Dog</td>\n",
       "      <td>Fever</td>\n",
       "      <td>Diarrhea</td>\n",
       "      <td>Coughing</td>\n",
       "      <td>Vomiting</td>\n",
       "      <td>Anorexia</td>\n",
       "      <td>Yes</td>\n",
       "    </tr>\n",
       "    <tr>\n",
       "      <th>3</th>\n",
       "      <td>Dog</td>\n",
       "      <td>Fever</td>\n",
       "      <td>Difficulty breathing</td>\n",
       "      <td>Coughing</td>\n",
       "      <td>Lethargy</td>\n",
       "      <td>Sneezing</td>\n",
       "      <td>Yes</td>\n",
       "    </tr>\n",
       "    <tr>\n",
       "      <th>4</th>\n",
       "      <td>Dog</td>\n",
       "      <td>Fever</td>\n",
       "      <td>Diarrhea</td>\n",
       "      <td>Coughing</td>\n",
       "      <td>Lethargy</td>\n",
       "      <td>Blue Eye</td>\n",
       "      <td>Yes</td>\n",
       "    </tr>\n",
       "  </tbody>\n",
       "</table>\n",
       "</div>"
      ],
      "text/plain": [
       "  AnimalName symptoms1             symptoms2 symptoms3    symptoms4  \\\n",
       "0        Dog     Fever              Diarrhea  Vomiting  Weight loss   \n",
       "1        Dog     Fever              Diarrhea  Coughing    Tiredness   \n",
       "2        Dog     Fever              Diarrhea  Coughing     Vomiting   \n",
       "3        Dog     Fever  Difficulty breathing  Coughing     Lethargy   \n",
       "4        Dog     Fever              Diarrhea  Coughing     Lethargy   \n",
       "\n",
       "     symptoms5 Dangerous  \n",
       "0  Dehydration       Yes  \n",
       "1        Pains       Yes  \n",
       "2     Anorexia       Yes  \n",
       "3     Sneezing       Yes  \n",
       "4     Blue Eye       Yes  "
      ]
     },
     "execution_count": 209,
     "metadata": {},
     "output_type": "execute_result"
    }
   ],
   "source": [
    "# Displaying the first five records of the dataset\n",
    "df.head()"
   ]
  },
  {
   "cell_type": "code",
   "execution_count": 210,
   "id": "f35989ad",
   "metadata": {},
   "outputs": [
    {
     "data": {
      "text/plain": [
       "Buffaloes            129\n",
       "Sheep                110\n",
       "Pig                   63\n",
       "Fowl                  62\n",
       "Elephant              59\n",
       "Duck                  56\n",
       "Deer                  38\n",
       "Donkey                38\n",
       "Birds                 37\n",
       "cat                   36\n",
       "Dog                   34\n",
       "Monkey                28\n",
       "Goat                  26\n",
       "Cattle                21\n",
       "Hamster               18\n",
       "Tiger                 17\n",
       "Lion                  16\n",
       "Rabbit                11\n",
       "Horse                 10\n",
       "Chicken                9\n",
       "Fox                    7\n",
       "Other Birds            6\n",
       "horse                  5\n",
       "chicken                4\n",
       "Turtle                 4\n",
       "Pigs                   3\n",
       "cow                    3\n",
       "donkey                 2\n",
       "Goats                  2\n",
       "White-tailed deer      1\n",
       "Hyaenas                1\n",
       "Wolves                 1\n",
       "Dogs                   1\n",
       "Fox                    1\n",
       "Moos                   1\n",
       "Reindeer               1\n",
       "mammal                 1\n",
       "Sika deer              1\n",
       "cattle                 1\n",
       "Mule deer              1\n",
       "Wapiti                 1\n",
       "Elk                    1\n",
       "mules                  1\n",
       "duck                   1\n",
       "snake                  1\n",
       "Black-tailed deer      1\n",
       "Name: AnimalName, dtype: int64"
      ]
     },
     "execution_count": 210,
     "metadata": {},
     "output_type": "execute_result"
    }
   ],
   "source": [
    "# Checking the unique values present in the dataset for the attribute 'AnimalName'\n",
    "df['AnimalName'].value_counts()"
   ]
  },
  {
   "cell_type": "code",
   "execution_count": 211,
   "id": "ae6c1e27",
   "metadata": {},
   "outputs": [],
   "source": [
    "# Fixing the values of the attribute 'AnimalName'\n",
    "df['AnimalName'] = [name.lower() for name in df['AnimalName']]\n",
    "df['AnimalName'].replace({'black-tailed deer':'deer','white-tailed deer':'deer','mule deer':'deer','sika deer':'deer','reindeer':'deer','elk':'deer','wapiti':'deer','mules':'horse','other birds': 'birds','pigs':'pig', 'dogs': 'dog', 'goats': 'goat'}, inplace = True)"
   ]
  },
  {
   "cell_type": "code",
   "execution_count": 212,
   "id": "95fdd072",
   "metadata": {},
   "outputs": [
    {
     "data": {
      "text/html": [
       "<div>\n",
       "<style scoped>\n",
       "    .dataframe tbody tr th:only-of-type {\n",
       "        vertical-align: middle;\n",
       "    }\n",
       "\n",
       "    .dataframe tbody tr th {\n",
       "        vertical-align: top;\n",
       "    }\n",
       "\n",
       "    .dataframe thead th {\n",
       "        text-align: right;\n",
       "    }\n",
       "</style>\n",
       "<table border=\"1\" class=\"dataframe\">\n",
       "  <thead>\n",
       "    <tr style=\"text-align: right;\">\n",
       "      <th></th>\n",
       "      <th>AnimalName</th>\n",
       "      <th>symptoms1</th>\n",
       "      <th>symptoms2</th>\n",
       "      <th>symptoms3</th>\n",
       "      <th>symptoms4</th>\n",
       "      <th>symptoms5</th>\n",
       "      <th>Dangerous</th>\n",
       "    </tr>\n",
       "  </thead>\n",
       "  <tbody>\n",
       "    <tr>\n",
       "      <th>0</th>\n",
       "      <td>dog</td>\n",
       "      <td>Fever</td>\n",
       "      <td>Diarrhea</td>\n",
       "      <td>Vomiting</td>\n",
       "      <td>Weight loss</td>\n",
       "      <td>Dehydration</td>\n",
       "      <td>Yes</td>\n",
       "    </tr>\n",
       "    <tr>\n",
       "      <th>1</th>\n",
       "      <td>dog</td>\n",
       "      <td>Fever</td>\n",
       "      <td>Diarrhea</td>\n",
       "      <td>Coughing</td>\n",
       "      <td>Tiredness</td>\n",
       "      <td>Pains</td>\n",
       "      <td>Yes</td>\n",
       "    </tr>\n",
       "    <tr>\n",
       "      <th>2</th>\n",
       "      <td>dog</td>\n",
       "      <td>Fever</td>\n",
       "      <td>Diarrhea</td>\n",
       "      <td>Coughing</td>\n",
       "      <td>Vomiting</td>\n",
       "      <td>Anorexia</td>\n",
       "      <td>Yes</td>\n",
       "    </tr>\n",
       "    <tr>\n",
       "      <th>3</th>\n",
       "      <td>dog</td>\n",
       "      <td>Fever</td>\n",
       "      <td>Difficulty breathing</td>\n",
       "      <td>Coughing</td>\n",
       "      <td>Lethargy</td>\n",
       "      <td>Sneezing</td>\n",
       "      <td>Yes</td>\n",
       "    </tr>\n",
       "    <tr>\n",
       "      <th>4</th>\n",
       "      <td>dog</td>\n",
       "      <td>Fever</td>\n",
       "      <td>Diarrhea</td>\n",
       "      <td>Coughing</td>\n",
       "      <td>Lethargy</td>\n",
       "      <td>Blue Eye</td>\n",
       "      <td>Yes</td>\n",
       "    </tr>\n",
       "  </tbody>\n",
       "</table>\n",
       "</div>"
      ],
      "text/plain": [
       "  AnimalName symptoms1             symptoms2 symptoms3    symptoms4  \\\n",
       "0        dog     Fever              Diarrhea  Vomiting  Weight loss   \n",
       "1        dog     Fever              Diarrhea  Coughing    Tiredness   \n",
       "2        dog     Fever              Diarrhea  Coughing     Vomiting   \n",
       "3        dog     Fever  Difficulty breathing  Coughing     Lethargy   \n",
       "4        dog     Fever              Diarrhea  Coughing     Lethargy   \n",
       "\n",
       "     symptoms5 Dangerous  \n",
       "0  Dehydration       Yes  \n",
       "1        Pains       Yes  \n",
       "2     Anorexia       Yes  \n",
       "3     Sneezing       Yes  \n",
       "4     Blue Eye       Yes  "
      ]
     },
     "execution_count": 212,
     "metadata": {},
     "output_type": "execute_result"
    }
   ],
   "source": [
    "# Displaying the first five records of the dataset\n",
    "df.head()"
   ]
  },
  {
   "cell_type": "code",
   "execution_count": 213,
   "id": "c948c634",
   "metadata": {},
   "outputs": [
    {
     "data": {
      "text/plain": [
       "(871, 7)"
      ]
     },
     "execution_count": 213,
     "metadata": {},
     "output_type": "execute_result"
    }
   ],
   "source": [
    "# Displaying the shape of the dataset i.e. (no. of records, no. of attributes)\n",
    "df.shape"
   ]
  },
  {
   "cell_type": "code",
   "execution_count": 214,
   "id": "cdd0f423",
   "metadata": {},
   "outputs": [],
   "source": [
    "# Converting '?' to NaN incase it is present in the dataset\n",
    "df.replace('?', np.nan, inplace=True)"
   ]
  },
  {
   "cell_type": "code",
   "execution_count": 215,
   "id": "b59782d2-0c28-476b-b1e0-7a10562c6650",
   "metadata": {},
   "outputs": [
    {
     "data": {
      "text/plain": [
       "Yes    849\n",
       "No      20\n",
       "Name: Dangerous, dtype: int64"
      ]
     },
     "execution_count": 215,
     "metadata": {},
     "output_type": "execute_result"
    }
   ],
   "source": [
    "# Checking the instance counts of the target attribute\n",
    "df['Dangerous'].value_counts()"
   ]
  },
  {
   "cell_type": "code",
   "execution_count": 216,
   "id": "eb9affac",
   "metadata": {},
   "outputs": [],
   "source": [
    "# Encoding the attributes of the dataset\n",
    "df = encoding(df)"
   ]
  },
  {
   "cell_type": "code",
   "execution_count": 217,
   "id": "fbbf6f21",
   "metadata": {},
   "outputs": [],
   "source": [
    "# Imputing the missing values if any by replacing it with the mode\n",
    "df = imputation(df)"
   ]
  },
  {
   "cell_type": "code",
   "execution_count": 218,
   "id": "559bf878",
   "metadata": {},
   "outputs": [],
   "source": [
    "# Separating dependent and independent variables\n",
    "X, y = separating(df, 'Dangerous')"
   ]
  },
  {
   "cell_type": "code",
   "execution_count": 219,
   "id": "9c90777e-3643-455c-8639-8fe12bd87024",
   "metadata": {},
   "outputs": [
    {
     "name": "stdout",
     "output_type": "stream",
     "text": [
      "[0.9885714285714285, 0.9771428571428571, 0.9714285714285714, 0.9714285714285714, 0.9828571428571429, 0.9771428571428571, 0.9771428571428571, 0.9885714285714285, 0.9942857142857143, 0.9657142857142857, 0.9657142857142857, 0.9657142857142857, 0.9714285714285714, 0.9942857142857143, 0.9771428571428571, 0.9657142857142857, 0.9942857142857143, 0.9714285714285714, 0.9657142857142857, 0.9771428571428571, 0.9828571428571429, 0.9714285714285714, 0.9942857142857143, 0.9828571428571429, 0.9885714285714285, 0.9714285714285714, 0.9771428571428571, 0.9771428571428571, 0.9885714285714285, 0.9942857142857143, 0.96, 0.9657142857142857, 0.9771428571428571, 0.9885714285714285, 0.9885714285714285, 0.9885714285714285, 0.9714285714285714, 0.9771428571428571, 0.9828571428571429, 0.9942857142857143, 0.9828571428571429, 0.9657142857142857, 0.9885714285714285, 0.9657142857142857, 0.9771428571428571, 0.9771428571428571, 0.9885714285714285, 0.9885714285714285, 0.9714285714285714, 0.9771428571428571, 0.9771428571428571, 0.9714285714285714, 0.9714285714285714, 0.9714285714285714, 0.9771428571428571, 0.9828571428571429, 0.9828571428571429, 0.9828571428571429, 0.9657142857142857, 0.9771428571428571, 0.9885714285714285, 0.9657142857142857, 0.9657142857142857, 0.9657142857142857, 0.9714285714285714, 0.9885714285714285, 0.9828571428571429, 0.9885714285714285, 0.9771428571428571, 0.9828571428571429, 0.9828571428571429, 0.9885714285714285, 0.9771428571428571, 0.9885714285714285, 0.9771428571428571, 0.9771428571428571, 0.9885714285714285, 0.96, 0.9885714285714285, 0.9828571428571429, 0.9942857142857143, 0.9828571428571429, 0.9771428571428571, 0.9771428571428571, 0.9885714285714285, 0.9657142857142857, 1.0, 0.9828571428571429, 0.96, 0.9657142857142857, 0.9771428571428571, 0.9942857142857143, 0.9428571428571428, 0.9657142857142857, 0.9828571428571429, 0.9885714285714285, 0.9714285714285714, 0.9828571428571429, 0.9714285714285714, 0.9885714285714285]\n",
      "Standard Deviation: 0.010137825713834384\n",
      "Mean: 0.9785714285714288\n"
     ]
    }
   ],
   "source": [
    "repetition(X,y)"
   ]
  },
  {
   "cell_type": "markdown",
   "id": "4390cf07",
   "metadata": {},
   "source": [
    "# 22. Android Malware Detection"
   ]
  },
  {
   "cell_type": "code",
   "execution_count": 220,
   "id": "aa082ca1",
   "metadata": {},
   "outputs": [],
   "source": [
    "# Loading the dataset\n",
    "df = pd.read_csv(\"datasets/TUANDROMD.csv\")"
   ]
  },
  {
   "cell_type": "code",
   "execution_count": 221,
   "id": "5958dfaa",
   "metadata": {},
   "outputs": [
    {
     "data": {
      "text/html": [
       "<div>\n",
       "<style scoped>\n",
       "    .dataframe tbody tr th:only-of-type {\n",
       "        vertical-align: middle;\n",
       "    }\n",
       "\n",
       "    .dataframe tbody tr th {\n",
       "        vertical-align: top;\n",
       "    }\n",
       "\n",
       "    .dataframe thead th {\n",
       "        text-align: right;\n",
       "    }\n",
       "</style>\n",
       "<table border=\"1\" class=\"dataframe\">\n",
       "  <thead>\n",
       "    <tr style=\"text-align: right;\">\n",
       "      <th></th>\n",
       "      <th>ACCESS_ALL_DOWNLOADS</th>\n",
       "      <th>ACCESS_CACHE_FILESYSTEM</th>\n",
       "      <th>ACCESS_CHECKIN_PROPERTIES</th>\n",
       "      <th>ACCESS_COARSE_LOCATION</th>\n",
       "      <th>ACCESS_COARSE_UPDATES</th>\n",
       "      <th>ACCESS_FINE_LOCATION</th>\n",
       "      <th>ACCESS_LOCATION_EXTRA_COMMANDS</th>\n",
       "      <th>ACCESS_MOCK_LOCATION</th>\n",
       "      <th>ACCESS_MTK_MMHW</th>\n",
       "      <th>ACCESS_NETWORK_STATE</th>\n",
       "      <th>...</th>\n",
       "      <th>Landroid/telephony/TelephonyManager;-&gt;getLine1Number</th>\n",
       "      <th>Landroid/telephony/TelephonyManager;-&gt;getNetworkOperator</th>\n",
       "      <th>Landroid/telephony/TelephonyManager;-&gt;getNetworkOperatorName</th>\n",
       "      <th>Landroid/telephony/TelephonyManager;-&gt;getNetworkCountryIso</th>\n",
       "      <th>Landroid/telephony/TelephonyManager;-&gt;getSimOperator</th>\n",
       "      <th>Landroid/telephony/TelephonyManager;-&gt;getSimOperatorName</th>\n",
       "      <th>Landroid/telephony/TelephonyManager;-&gt;getSimCountryIso</th>\n",
       "      <th>Landroid/telephony/TelephonyManager;-&gt;getSimSerialNumber</th>\n",
       "      <th>Lorg/apache/http/impl/client/DefaultHttpClient;-&gt;execute</th>\n",
       "      <th>Label</th>\n",
       "    </tr>\n",
       "  </thead>\n",
       "  <tbody>\n",
       "    <tr>\n",
       "      <th>0</th>\n",
       "      <td>0.0</td>\n",
       "      <td>0.0</td>\n",
       "      <td>0.0</td>\n",
       "      <td>0.0</td>\n",
       "      <td>0.0</td>\n",
       "      <td>0.0</td>\n",
       "      <td>0.0</td>\n",
       "      <td>0.0</td>\n",
       "      <td>0.0</td>\n",
       "      <td>1.0</td>\n",
       "      <td>...</td>\n",
       "      <td>1.0</td>\n",
       "      <td>1.0</td>\n",
       "      <td>1.0</td>\n",
       "      <td>0.0</td>\n",
       "      <td>0.0</td>\n",
       "      <td>0.0</td>\n",
       "      <td>0.0</td>\n",
       "      <td>0.0</td>\n",
       "      <td>1.0</td>\n",
       "      <td>malware</td>\n",
       "    </tr>\n",
       "    <tr>\n",
       "      <th>1</th>\n",
       "      <td>0.0</td>\n",
       "      <td>0.0</td>\n",
       "      <td>0.0</td>\n",
       "      <td>0.0</td>\n",
       "      <td>0.0</td>\n",
       "      <td>0.0</td>\n",
       "      <td>0.0</td>\n",
       "      <td>0.0</td>\n",
       "      <td>0.0</td>\n",
       "      <td>1.0</td>\n",
       "      <td>...</td>\n",
       "      <td>0.0</td>\n",
       "      <td>0.0</td>\n",
       "      <td>0.0</td>\n",
       "      <td>1.0</td>\n",
       "      <td>0.0</td>\n",
       "      <td>0.0</td>\n",
       "      <td>1.0</td>\n",
       "      <td>0.0</td>\n",
       "      <td>0.0</td>\n",
       "      <td>malware</td>\n",
       "    </tr>\n",
       "    <tr>\n",
       "      <th>2</th>\n",
       "      <td>0.0</td>\n",
       "      <td>0.0</td>\n",
       "      <td>0.0</td>\n",
       "      <td>0.0</td>\n",
       "      <td>0.0</td>\n",
       "      <td>0.0</td>\n",
       "      <td>0.0</td>\n",
       "      <td>0.0</td>\n",
       "      <td>0.0</td>\n",
       "      <td>1.0</td>\n",
       "      <td>...</td>\n",
       "      <td>0.0</td>\n",
       "      <td>0.0</td>\n",
       "      <td>0.0</td>\n",
       "      <td>0.0</td>\n",
       "      <td>0.0</td>\n",
       "      <td>0.0</td>\n",
       "      <td>0.0</td>\n",
       "      <td>0.0</td>\n",
       "      <td>0.0</td>\n",
       "      <td>malware</td>\n",
       "    </tr>\n",
       "    <tr>\n",
       "      <th>3</th>\n",
       "      <td>0.0</td>\n",
       "      <td>0.0</td>\n",
       "      <td>0.0</td>\n",
       "      <td>0.0</td>\n",
       "      <td>0.0</td>\n",
       "      <td>0.0</td>\n",
       "      <td>0.0</td>\n",
       "      <td>0.0</td>\n",
       "      <td>0.0</td>\n",
       "      <td>0.0</td>\n",
       "      <td>...</td>\n",
       "      <td>0.0</td>\n",
       "      <td>1.0</td>\n",
       "      <td>1.0</td>\n",
       "      <td>1.0</td>\n",
       "      <td>1.0</td>\n",
       "      <td>0.0</td>\n",
       "      <td>1.0</td>\n",
       "      <td>0.0</td>\n",
       "      <td>0.0</td>\n",
       "      <td>malware</td>\n",
       "    </tr>\n",
       "    <tr>\n",
       "      <th>4</th>\n",
       "      <td>0.0</td>\n",
       "      <td>0.0</td>\n",
       "      <td>0.0</td>\n",
       "      <td>0.0</td>\n",
       "      <td>0.0</td>\n",
       "      <td>0.0</td>\n",
       "      <td>0.0</td>\n",
       "      <td>0.0</td>\n",
       "      <td>0.0</td>\n",
       "      <td>0.0</td>\n",
       "      <td>...</td>\n",
       "      <td>0.0</td>\n",
       "      <td>0.0</td>\n",
       "      <td>0.0</td>\n",
       "      <td>0.0</td>\n",
       "      <td>0.0</td>\n",
       "      <td>0.0</td>\n",
       "      <td>0.0</td>\n",
       "      <td>0.0</td>\n",
       "      <td>0.0</td>\n",
       "      <td>malware</td>\n",
       "    </tr>\n",
       "  </tbody>\n",
       "</table>\n",
       "<p>5 rows × 242 columns</p>\n",
       "</div>"
      ],
      "text/plain": [
       "   ACCESS_ALL_DOWNLOADS  ACCESS_CACHE_FILESYSTEM  ACCESS_CHECKIN_PROPERTIES  \\\n",
       "0                   0.0                      0.0                        0.0   \n",
       "1                   0.0                      0.0                        0.0   \n",
       "2                   0.0                      0.0                        0.0   \n",
       "3                   0.0                      0.0                        0.0   \n",
       "4                   0.0                      0.0                        0.0   \n",
       "\n",
       "   ACCESS_COARSE_LOCATION  ACCESS_COARSE_UPDATES  ACCESS_FINE_LOCATION  \\\n",
       "0                     0.0                    0.0                   0.0   \n",
       "1                     0.0                    0.0                   0.0   \n",
       "2                     0.0                    0.0                   0.0   \n",
       "3                     0.0                    0.0                   0.0   \n",
       "4                     0.0                    0.0                   0.0   \n",
       "\n",
       "   ACCESS_LOCATION_EXTRA_COMMANDS  ACCESS_MOCK_LOCATION  ACCESS_MTK_MMHW  \\\n",
       "0                             0.0                   0.0              0.0   \n",
       "1                             0.0                   0.0              0.0   \n",
       "2                             0.0                   0.0              0.0   \n",
       "3                             0.0                   0.0              0.0   \n",
       "4                             0.0                   0.0              0.0   \n",
       "\n",
       "   ACCESS_NETWORK_STATE  ...  \\\n",
       "0                   1.0  ...   \n",
       "1                   1.0  ...   \n",
       "2                   1.0  ...   \n",
       "3                   0.0  ...   \n",
       "4                   0.0  ...   \n",
       "\n",
       "   Landroid/telephony/TelephonyManager;->getLine1Number  \\\n",
       "0                                                1.0      \n",
       "1                                                0.0      \n",
       "2                                                0.0      \n",
       "3                                                0.0      \n",
       "4                                                0.0      \n",
       "\n",
       "   Landroid/telephony/TelephonyManager;->getNetworkOperator  \\\n",
       "0                                                1.0          \n",
       "1                                                0.0          \n",
       "2                                                0.0          \n",
       "3                                                1.0          \n",
       "4                                                0.0          \n",
       "\n",
       "   Landroid/telephony/TelephonyManager;->getNetworkOperatorName  \\\n",
       "0                                                1.0              \n",
       "1                                                0.0              \n",
       "2                                                0.0              \n",
       "3                                                1.0              \n",
       "4                                                0.0              \n",
       "\n",
       "   Landroid/telephony/TelephonyManager;->getNetworkCountryIso  \\\n",
       "0                                                0.0            \n",
       "1                                                1.0            \n",
       "2                                                0.0            \n",
       "3                                                1.0            \n",
       "4                                                0.0            \n",
       "\n",
       "   Landroid/telephony/TelephonyManager;->getSimOperator  \\\n",
       "0                                                0.0      \n",
       "1                                                0.0      \n",
       "2                                                0.0      \n",
       "3                                                1.0      \n",
       "4                                                0.0      \n",
       "\n",
       "   Landroid/telephony/TelephonyManager;->getSimOperatorName  \\\n",
       "0                                                0.0          \n",
       "1                                                0.0          \n",
       "2                                                0.0          \n",
       "3                                                0.0          \n",
       "4                                                0.0          \n",
       "\n",
       "   Landroid/telephony/TelephonyManager;->getSimCountryIso  \\\n",
       "0                                                0.0        \n",
       "1                                                1.0        \n",
       "2                                                0.0        \n",
       "3                                                1.0        \n",
       "4                                                0.0        \n",
       "\n",
       "   Landroid/telephony/TelephonyManager;->getSimSerialNumber  \\\n",
       "0                                                0.0          \n",
       "1                                                0.0          \n",
       "2                                                0.0          \n",
       "3                                                0.0          \n",
       "4                                                0.0          \n",
       "\n",
       "   Lorg/apache/http/impl/client/DefaultHttpClient;->execute    Label  \n",
       "0                                                1.0         malware  \n",
       "1                                                0.0         malware  \n",
       "2                                                0.0         malware  \n",
       "3                                                0.0         malware  \n",
       "4                                                0.0         malware  \n",
       "\n",
       "[5 rows x 242 columns]"
      ]
     },
     "execution_count": 221,
     "metadata": {},
     "output_type": "execute_result"
    }
   ],
   "source": [
    "# Displaying the first five records of the dataset\n",
    "df.head()"
   ]
  },
  {
   "cell_type": "code",
   "execution_count": 222,
   "id": "903a7393",
   "metadata": {},
   "outputs": [
    {
     "data": {
      "text/plain": [
       "(4465, 242)"
      ]
     },
     "execution_count": 222,
     "metadata": {},
     "output_type": "execute_result"
    }
   ],
   "source": [
    "# Displaying the shape of the dataset i.e. (no. of records, no. of attributes)\n",
    "df.shape"
   ]
  },
  {
   "cell_type": "code",
   "execution_count": 223,
   "id": "114b0e84",
   "metadata": {},
   "outputs": [],
   "source": [
    "# Converting '?' to NaN incase it is present in the dataset\n",
    "df.replace('?', np.nan, inplace=True)"
   ]
  },
  {
   "cell_type": "code",
   "execution_count": 224,
   "id": "807041fe-b17f-409a-ae18-2c971de0b7b3",
   "metadata": {},
   "outputs": [
    {
     "data": {
      "text/plain": [
       "malware     3565\n",
       "goodware     899\n",
       "Name: Label, dtype: int64"
      ]
     },
     "execution_count": 224,
     "metadata": {},
     "output_type": "execute_result"
    }
   ],
   "source": [
    "# Checking the instance counts of the target attribute\n",
    "df['Label'].value_counts()"
   ]
  },
  {
   "cell_type": "code",
   "execution_count": 225,
   "id": "f0db9f7d",
   "metadata": {},
   "outputs": [],
   "source": [
    "# Encoding the attributes of the dataset\n",
    "df = encoding(df)"
   ]
  },
  {
   "cell_type": "code",
   "execution_count": 226,
   "id": "588b9dbc",
   "metadata": {},
   "outputs": [],
   "source": [
    "# Imputing the missing values if any by using KNN Imputer\n",
    "df = imputation(df)"
   ]
  },
  {
   "cell_type": "code",
   "execution_count": 227,
   "id": "7530a29d",
   "metadata": {},
   "outputs": [],
   "source": [
    "# Separating dependent and independent variables\n",
    "X, y = separating(df, 'Label')"
   ]
  },
  {
   "cell_type": "code",
   "execution_count": 228,
   "id": "3831a285-281b-408c-abef-2eb89c618270",
   "metadata": {},
   "outputs": [],
   "source": [
    "# Handing class imbalance problem using SMOTEN\n",
    "X, y = oversampling(X,y)"
   ]
  },
  {
   "cell_type": "code",
   "execution_count": 229,
   "id": "20c00f4c-0bd3-46dc-867f-991b5e83d0cb",
   "metadata": {},
   "outputs": [
    {
     "name": "stdout",
     "output_type": "stream",
     "text": [
      "[0.9537491240364401, 0.9299229152067274, 0.933426769446391, 0.9292221443587947, 0.7701471618780659, 0.764540995094604, 0.9088997897687456, 0.9215136650315346, 0.5613174491941135, 0.8423265592151367, 0.9628591450595655, 0.9110021023125437, 0.9397337070777856, 0.8997897687456202, 0.920812894183602, 0.9509460406447092, 0.9523475823405746, 0.8325157673440785, 0.9096005606166784, 0.9656622284512965, 0.782761037140855, 0.8969866853538893, 0.964260686755431, 0.8297126839523475, 0.918009810791871, 0.9159074982480728, 0.8892782060266293, 0.9677645409950946, 0.9677645409950946, 0.8135949544498949, 0.9656622284512965, 0.9467414155571128, 0.9229152067274001, 0.9474421864050455, 0.9236159775753329, 0.7617379117028732, 0.928521373510862, 0.9621583742116327, 0.9145059565522075, 0.9362298528381219, 0.8731604765241766, 0.9060967063770147, 0.7834618079887876, 0.96916608269096, 0.9439383321653819, 0.9677645409950946, 0.9271198318149965, 0.9698668535388928, 0.6440084092501752, 0.8290119131044149, 0.9418360196215837, 0.9060967063770147, 0.9383321653819201, 0.8402242466713384, 0.9306236860546602, 0.9453398738612474, 0.8486334968465312, 0.7456201822004205, 0.9088997897687456, 0.8598458304134547, 0.9530483531885073, 0.8906797477224947, 0.9663629992992292, 0.8815697266993693, 0.9656622284512965, 0.9628591450595655, 0.9600560616678346, 0.9390329362298528, 0.9025928521373511, 0.9067974772249474, 0.9439383321653819, 0.8836720392431675, 0.9544498948843728, 0.8738612473721094, 0.9495444989488437, 0.8577435178696566, 0.9404344779257183, 0.8801681850035038, 0.9614576033637001, 0.5283812193412754, 0.9600560616678346, 0.6979677645409951, 0.900490539593553, 0.9495444989488437, 0.8556412053258584, 0.9698668535388928, 0.9011913104414856, 0.9145059565522075, 0.7834618079887876, 0.9166082690960056, 0.885073580939033, 0.964260686755431, 0.9509460406447092, 0.9425367904695164, 0.9572529782761037, 0.8815697266993693, 0.8871758934828311, 0.9236159775753329, 0.562718990889979, 0.9719691660826909]\n",
      "Standard Deviation: 0.08758964487255932\n",
      "Mean: 0.8947372109320253\n"
     ]
    }
   ],
   "source": [
    "repetition(X,y)"
   ]
  }
 ],
 "metadata": {
  "kernelspec": {
   "display_name": "Python 3 (ipykernel)",
   "language": "python",
   "name": "python3"
  },
  "language_info": {
   "codemirror_mode": {
    "name": "ipython",
    "version": 3
   },
   "file_extension": ".py",
   "mimetype": "text/x-python",
   "name": "python",
   "nbconvert_exporter": "python",
   "pygments_lexer": "ipython3",
   "version": "3.11.0"
  }
 },
 "nbformat": 4,
 "nbformat_minor": 5
}
